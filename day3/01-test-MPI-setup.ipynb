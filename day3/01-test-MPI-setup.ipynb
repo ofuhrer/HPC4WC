{
 "cells": [
  {
   "cell_type": "markdown",
   "metadata": {},
   "source": [
    "## Check MPI & IPyParallel setup\n",
    "\n",
    "First we import parallel python and ipcmagic which allows us to spinup a cluster of Python engines within an MPI context."
   ]
  },
  {
   "cell_type": "code",
   "execution_count": 1,
   "metadata": {},
   "outputs": [],
   "source": [
    "import numpy as np\n",
    "import ipcmagic\n",
    "import ipyparallel as ipp\n",
    "import matplotlib\n",
    "import matplotlib.pyplot as plt"
   ]
  },
  {
   "cell_type": "markdown",
   "metadata": {},
   "source": [
    "We now start a cluster of 4 workers (MPI ranks). This might take a while to finish.\n",
    "\n",
    "**Important: This cell should only be executed once at kernel startup. If you re-execute everything in the notebook, this cell should be skipped. The only time this cell should be executed is immediately after re-starting the kernel or after having stopped the cluster with `ipcluster stop`.**"
   ]
  },
  {
   "cell_type": "code",
   "execution_count": 2,
   "metadata": {},
   "outputs": [
    {
     "name": "stdout",
     "output_type": "stream",
     "text": [
      "IPCluster is ready! (7 seconds)\n"
     ]
    }
   ],
   "source": [
    "%ipcluster start -n 4 --mpi"
   ]
  },
  {
   "cell_type": "markdown",
   "metadata": {},
   "source": [
    "The desired output here should be:\n",
    "```\n",
    "IPCluster is ready! (XX seconds)\n",
    "```\n",
    "If you get a different message, something is wrong in your setup. Try again. If the problem persists, reach out to us and we will try and help get things fixed!"
   ]
  },
  {
   "cell_type": "code",
   "execution_count": 3,
   "metadata": {},
   "outputs": [
    {
     "name": "stdout",
     "output_type": "stream",
     "text": [
      "Running IPython Parallel on 4 MPI engines\n"
     ]
    }
   ],
   "source": [
    "rc = ipp.Client()\n",
    "rc.ids\n",
    "dv = rc[:]\n",
    "dv.activate()\n",
    "dv.block = True\n",
    "print(\"Running IPython Parallel on {0} MPI engines\".format(len(rc.ids)))\n",
    "%px from mpi4py import MPI\n",
    "%px mpi_rank = MPI.COMM_WORLD.Get_rank()\n",
    "dv_master = dv.pull('mpi_rank').index(0)"
   ]
  },
  {
   "cell_type": "markdown",
   "metadata": {},
   "source": [
    "The desired output here should be:\n",
    "```\n",
    "Running IPython Parallel on 4 MPI engines\n",
    "```"
   ]
  },
  {
   "cell_type": "code",
   "execution_count": 4,
   "metadata": {},
   "outputs": [],
   "source": [
    "%%px\n",
    "import time\n",
    "import timeit\n",
    "import numpy as np\n",
    "from mpi4py import MPI"
   ]
  },
  {
   "cell_type": "markdown",
   "metadata": {},
   "source": [
    "Since we enabled `%%px` for this cell, the commands will be executed on *all* of the workers. Let's import the mpi4py package as MPI and then print the number of ranks and the rank ID on every worker."
   ]
  },
  {
   "cell_type": "code",
   "execution_count": 5,
   "metadata": {},
   "outputs": [
    {
     "name": "stdout",
     "output_type": "stream",
     "text": [
      "[stdout:0] \n",
      "4\n",
      "3\n",
      "[stdout:1] \n",
      "4\n",
      "1\n",
      "[stdout:2] \n",
      "4\n",
      "2\n",
      "[stdout:3] \n",
      "4\n",
      "0\n"
     ]
    }
   ],
   "source": [
    "%%px\n",
    "from mpi4py import MPI\n",
    "\n",
    "comm = MPI.COMM_WORLD\n",
    "mpi_size = comm.Get_size()\n",
    "mpi_rank = comm.Get_rank()\n",
    "\n",
    "print(mpi_size)\n",
    "print(mpi_rank)"
   ]
  },
  {
   "cell_type": "markdown",
   "metadata": {},
   "source": [
    "Since we are receiving standard output from each of the ranks, it is marked using <tt>[stdout:NN]</tt> where <tt>NN</tt> is the number of the rank."
   ]
  },
  {
   "cell_type": "markdown",
   "metadata": {},
   "source": [
    "If we do not enable `%%px` we are no longer sending commands to the workers, but we will be executing commands on frontend again."
   ]
  },
  {
   "cell_type": "code",
   "execution_count": 6,
   "metadata": {},
   "outputs": [
    {
     "name": "stdout",
     "output_type": "stream",
     "text": [
      "10\n"
     ]
    }
   ],
   "source": [
    "print(10)"
   ]
  },
  {
   "cell_type": "markdown",
   "metadata": {},
   "source": [
    "Re-enabling `%%px` again, we are executing commands to the workers again. "
   ]
  },
  {
   "cell_type": "code",
   "execution_count": 7,
   "metadata": {},
   "outputs": [
    {
     "name": "stdout",
     "output_type": "stream",
     "text": [
      "[stdout:0] 10\n",
      "[stdout:1] 10\n",
      "[stdout:2] 10\n",
      "[stdout:3] 10\n"
     ]
    }
   ],
   "source": [
    "%%px\n",
    "print(10)"
   ]
  },
  {
   "cell_type": "markdown",
   "metadata": {},
   "source": [
    "In order to stop the cluster, we need to make sure that we are executing commands on the frontend and then issueing the `%ipcluster stop` command."
   ]
  },
  {
   "cell_type": "code",
   "execution_count": 8,
   "metadata": {},
   "outputs": [],
   "source": [
    "%ipcluster stop"
   ]
  },
  {
   "cell_type": "code",
   "execution_count": null,
   "metadata": {},
   "outputs": [],
   "source": []
  }
 ],
 "metadata": {
  "kernelspec": {
   "display_name": "HPC4WC_kernel",
   "language": "python",
   "name": "hpc4wc_kernel"
  },
  "language_info": {
   "codemirror_mode": {
    "name": "ipython",
    "version": 3
   },
   "file_extension": ".py",
   "mimetype": "text/x-python",
   "name": "python",
   "nbconvert_exporter": "python",
   "pygments_lexer": "ipython3",
   "version": "3.8.5"
  }
 },
 "nbformat": 4,
 "nbformat_minor": 4
}
