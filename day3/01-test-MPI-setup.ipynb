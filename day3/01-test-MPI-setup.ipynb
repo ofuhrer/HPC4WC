{
 "cells": [
  {
   "cell_type": "markdown",
   "metadata": {},
   "source": [
    "## Check MPI & IPyParallel setup\n",
    "\n",
    "First we import parallel python and ipcmagic which allows us to spinup a cluster of Python engines within an MPI context."
   ]
  },
  {
   "cell_type": "code",
   "execution_count": 1,
   "metadata": {},
   "outputs": [],
   "source": [
    "import numpy as np\n",
    "import ipcmagic\n",
    "import ipyparallel as ipp\n",
    "import matplotlib\n",
    "import matplotlib.pyplot as plt"
   ]
  },
  {
   "cell_type": "markdown",
   "metadata": {},
   "source": [
    "We now start a cluster of 4 workers (MPI ranks). This might take a while to finish.\n",
    "\n",
    "**Important: This cell should only be run once at kernel startup. If you rerun everything in the notebook, this cell should be skipped. The only time this cell should be run, is immediately after re-starting the kernel or after having stopped the cluster with `%ipcluster stop`.**"
   ]
  },
  {
   "cell_type": "code",
   "execution_count": 12,
   "metadata": {},
   "outputs": [
    {
     "data": {
      "application/vnd.jupyter.widget-view+json": {
       "model_id": "4dd4e03e8912458f9c4a7943bf78f69f",
       "version_major": 2,
       "version_minor": 0
      },
      "text/plain": [
       "  0%|          | 0/4 [00:00<?, ?engine/s]"
      ]
     },
     "metadata": {},
     "output_type": "display_data"
    }
   ],
   "source": [
    "%ipcluster start -n 4"
   ]
  },
  {
   "attachments": {
    "555e74d2-b0e2-43da-8afe-ace0b8fb360a.png": {
     "image/png": "[encoded data removed]"
    }
   },
   "cell_type": "markdown",
   "metadata": {},
   "source": [
    "The desired output here should be:\n",
    "\n",
    "![image.png](attachment:555e74d2-b0e2-43da-8afe-ace0b8fb360a.png)\n",
    "\n",
    "If you get a different message, try again. The IPCluster is currently slightly buggy, showing no progress. Once you see \"IPCluster is already running.\" after rerunning the cell above, your good to go. If any problems persist, reach out to us and we will try and help get things fixed."
   ]
  },
  {
   "cell_type": "code",
   "execution_count": 13,
   "metadata": {},
   "outputs": [
    {
     "name": "stdout",
     "output_type": "stream",
     "text": [
      "Running IPython Parallel on 4 MPI engines\n"
     ]
    }
   ],
   "source": [
    "rc = ipp.Client()\n",
    "rc.ids\n",
    "dv = rc[:]\n",
    "dv.activate()\n",
    "dv.block = True\n",
    "print(\"Running IPython Parallel on {0} MPI engines\".format(len(rc.ids)))\n",
    "%px from mpi4py import MPI\n",
    "%px mpi_rank = MPI.COMM_WORLD.Get_rank()\n",
    "dv_main = dv.pull('mpi_rank').index(0)"
   ]
  },
  {
   "cell_type": "markdown",
   "metadata": {},
   "source": [
    "The desired output here must be:\n",
    "```\n",
    "Running IPython Parallel on 4 MPI engines\n",
    "```"
   ]
  },
  {
   "cell_type": "code",
   "execution_count": 4,
   "metadata": {},
   "outputs": [],
   "source": [
    "%%px\n",
    "import time\n",
    "import timeit\n",
    "import numpy as np\n",
    "from mpi4py import MPI"
   ]
  },
  {
   "cell_type": "markdown",
   "metadata": {},
   "source": [
    "Since we enabled `%%px` for this cell, the commands will be run on *all* of the workers. Let's import the mpi4py package as MPI and then print the number of ranks and the rank ID on every worker."
   ]
  },
  {
   "cell_type": "code",
   "execution_count": 5,
   "metadata": {},
   "outputs": [
    {
     "data": {
      "text/plain": [
       "[stdout:0] 4\n",
       "0\n"
      ]
     },
     "metadata": {},
     "output_type": "display_data"
    },
    {
     "data": {
      "text/plain": [
       "[stdout:1] 4\n",
       "3\n"
      ]
     },
     "metadata": {},
     "output_type": "display_data"
    },
    {
     "data": {
      "text/plain": [
       "[stdout:3] 4\n",
       "2\n"
      ]
     },
     "metadata": {},
     "output_type": "display_data"
    },
    {
     "data": {
      "text/plain": [
       "[stdout:2] 4\n",
       "1\n"
      ]
     },
     "metadata": {},
     "output_type": "display_data"
    }
   ],
   "source": [
    "%%px\n",
    "from mpi4py import MPI\n",
    "\n",
    "comm = MPI.COMM_WORLD\n",
    "mpi_size = comm.Get_size()\n",
    "mpi_rank = comm.Get_rank()\n",
    "\n",
    "print(mpi_size)\n",
    "print(mpi_rank)"
   ]
  },
  {
   "cell_type": "markdown",
   "metadata": {},
   "source": [
    "Since we are receiving standard output from each of the ranks, it is marked using <tt>[stdout:NN]</tt> where <tt>NN</tt> is the number of the rank."
   ]
  },
  {
   "cell_type": "markdown",
   "metadata": {},
   "source": [
    "If we do not enable `%%px` we are no longer sending commands to the workers, but we will be running commands on frontend again."
   ]
  },
  {
   "cell_type": "code",
   "execution_count": 6,
   "metadata": {},
   "outputs": [
    {
     "name": "stdout",
     "output_type": "stream",
     "text": [
      "10\n"
     ]
    }
   ],
   "source": [
    "print(10)"
   ]
  },
  {
   "cell_type": "markdown",
   "metadata": {},
   "source": [
    "Re-enabling `%%px` again, we are running commands to the workers again. "
   ]
  },
  {
   "cell_type": "code",
   "execution_count": 7,
   "metadata": {},
   "outputs": [
    {
     "data": {
      "text/plain": [
       "[stdout:0] 10\n"
      ]
     },
     "metadata": {},
     "output_type": "display_data"
    },
    {
     "data": {
      "text/plain": [
       "[stdout:3] 10\n"
      ]
     },
     "metadata": {},
     "output_type": "display_data"
    },
    {
     "data": {
      "text/plain": [
       "[stdout:1] 10\n"
      ]
     },
     "metadata": {},
     "output_type": "display_data"
    },
    {
     "data": {
      "text/plain": [
       "[stdout:2] 10\n"
      ]
     },
     "metadata": {},
     "output_type": "display_data"
    }
   ],
   "source": [
    "%%px\n",
    "print(10)"
   ]
  },
  {
   "cell_type": "markdown",
   "metadata": {},
   "source": [
    "In order to stop the cluster, we need to make sure that we are running commands on the frontend and then issueing the `%ipcluster stop` command."
   ]
  },
  {
   "cell_type": "code",
   "execution_count": 8,
   "metadata": {},
   "outputs": [
    {
     "name": "stdout",
     "output_type": "stream",
     "text": [
      "IPCluster stopped.\n"
     ]
    }
   ],
   "source": [
    "import time\n",
    "rc.shutdown()\n",
    "time.sleep(1) # Wait a little bit for engines to clean up.\n",
    "rc.close()\n",
    "%ipcluster stop"
   ]
  }
 ],
 "metadata": {
  "kernelspec": {
   "display_name": "HPC4WC_kernel",
   "language": "python",
   "name": "hpc4wc_kernel"
  },
  "language_info": {
   "codemirror_mode": {
    "name": "ipython",
    "version": 3
   },
   "file_extension": ".py",
   "mimetype": "text/x-python",
   "name": "python",
   "nbconvert_exporter": "python",
   "pygments_lexer": "ipython3",
   "version": "3.12.5"
  }
 },
 "nbformat": 4,
 "nbformat_minor": 4
}
