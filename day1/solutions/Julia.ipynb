{
 "cells": [
  {
   "cell_type": "code",
   "execution_count": 2,
   "id": "fb58ee55-1730-481e-b0ac-ca2f21147498",
   "metadata": {},
   "outputs": [
    {
     "name": "stdout",
     "output_type": "stream",
     "text": [
      "memory transferred = 3.0 GB\n",
      "  239.457 ms (0 allocations: 0 bytes)\n",
      "execution time = 0.23944 s\n",
      "memory bandwidth = 12.52927 GB/s\n",
      "% of peak = 12.52927%\n"
     ]
    }
   ],
   "source": [
    "#Phind ai-assistant (70B; 06-2024) was used for the translation from the Python script to Julia. The code was reviewed, adapted and verified before publication.\n",
    "using Random\n",
    "using BenchmarkTools\n",
    "\n",
    "function vector_add(a, b, c)\n",
    "    c .= a .+ b\n",
    "end\n",
    "\n",
    "num_elements = 128 * 1024 * 1024\n",
    "a = rand(num_elements)\n",
    "b = rand(num_elements)\n",
    "c = Vector{Float64}(undef, num_elements)\n",
    "\n",
    "number_of_bytes = 8 * 3 * num_elements\n",
    "number_of_gbytes = number_of_bytes / 1024^3\n",
    "println(\"memory transferred = $number_of_gbytes GB\")\n",
    "\n",
    "@btime vector_add($a, $b, $c)\n",
    "execution_time = @belapsed vector_add($a, $b, $c)\n",
    "println(\"execution time = $(round(execution_time, digits=5)) s\")\n",
    "\n",
    "memory_bandwidth_in_gbs = number_of_gbytes / execution_time\n",
    "println(\"memory bandwidth = $(round(memory_bandwidth_in_gbs, digits=5)) GB/s\")\n",
    "\n",
    "peak_bandwidth_in_gbs = 100.0 # Example value, replace with actual peak bandwidth\n",
    "fraction_of_peak_bandwidth = memory_bandwidth_in_gbs / peak_bandwidth_in_gbs\n",
    "println(\"% of peak = $(round(fraction_of_peak_bandwidth * 100, digits=5))%\")"
   ]
  }
 ],
 "metadata": {
  "kernelspec": {
   "display_name": "Julia 1.6.3",
   "language": "julia",
   "name": "julia-1.6"
  },
  "language_info": {
   "file_extension": ".jl",
   "mimetype": "application/julia",
   "name": "julia",
   "version": "1.6.3"
  }
 },
 "nbformat": 4,
 "nbformat_minor": 5
}
