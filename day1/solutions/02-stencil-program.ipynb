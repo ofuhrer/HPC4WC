{
 "cells": [
  {
   "cell_type": "markdown",
   "metadata": {},
   "source": [
    "# Analyzing a Fortran Stencil Program"
   ]
  },
  {
   "cell_type": "code",
   "execution_count": 1,
   "metadata": {},
   "outputs": [],
   "source": [
    "import numpy as np\n",
    "import matplotlib\n",
    "import matplotlib.pyplot as plt"
   ]
  },
  {
   "cell_type": "markdown",
   "metadata": {},
   "source": [
    "## Understanding\n",
    "\n",
    "Open the <tt>stencil2d-orig.F90</tt> Fortran program by double clicking on the file in the File Browser on the left (if it is hidden, click on the Folder icon).\n",
    "\n",
    "![open-stencil2d](img/open-stencil2d.png)\n",
    "\n",
    "If you prefer, you can also open a new Terminal (File -> New -> Terminal), navigate to the location where <tt>stencil2d-orig.F90</tt> is located and use your favorite linux editor (e.g. vim) to browse the Fortran source code. This will give you better syntax highlighting."
   ]
  },
  {
   "cell_type": "markdown",
   "metadata": {},
   "source": [
    "<div class=\"alert alert-block alert-info\">\n",
    "<b>Now it's your turn...</b><br>\n",
    "<b>1.</b> Read the code of <tt>stencil2d-orig.F90</tt> and understand what the program is doing. If you are new to Fortran programming, take a look <a href=\"https://ourcodingclub.github.io/tutorials/fortran-intro/\">here</a> for a brief introduction.<br>\n",
    "<b>2.</b> Compile the code and run it (see below).<br><br>\n",
    "\n",
    "<i>Note 1:</i> The Jupyter notebook cells which start with the <code>%%bash</code> command are not Python code. They contain commands that you would otherwise type into a terminal. If you are unfamiliar with this, give it a try! Create a new cell which starts with <code>%%bash</code> and put a linux command in the cell (e.g. <code>ls</code>). This is very convenient for executing shell commands in a Python notebook. If you want to read more about this, take a look at the <a href=\"https://ipython.readthedocs.io/en/stable/interactive/magics.html#cellmagic-script\">documentation</a> (note that <code>%%bash</code> is a shorthand for <code>%%script bash</code>).<br><br>\n",
    "<i>Note 2:</i> A similar technique is to use the <code>!</code> to execute a shell command. This is typically used to capture the output of a shell command for further processing.<br><br>\n",
    "<i>Note 3:</i> The <tt>make</tt> command is a standard linux tool that eases the burden of compiling a program. It relies on a <tt>Makefile</tt> which contains instructions of how to build a <i>target</i>. Our <tt>Makefile</tt> is written in a way that we can conveniently compile multiple versions of the <tt>stencil2d-</tt><i>version</i><tt>.F90</tt> program. The standard output of the cell shows which commands are actually executed to compile our program. The actual compilation is of the form <code>ftn <i>[-option] name</i>.F90</code>.<br>\n",
    "</div>"
   ]
  },
  {
   "cell_type": "markdown",
   "metadata": {},
   "source": [
    "## Compiling\n",
    "\n",
    "We are going to use the GNU Fortran compiler (<tt>gfortran</tt>) for this exercise. The gfortran compiler is wrapped by the <tt>mpif90</tt> command."
   ]
  },
  {
   "cell_type": "code",
   "execution_count": 2,
   "metadata": {
    "editable": true,
    "slideshow": {
     "slide_type": ""
    },
    "tags": []
   },
   "outputs": [
    {
     "name": "stdout",
     "output_type": "stream",
     "text": [
      "===== cleaning up =====\n",
      "rm -f -rf *~ *.o *.mod *.MOD *.i core.* *.out *.lst *.x *.x+orig *.x+[0-9]* *.dat *.report result_*.py report*.txt perf/* out*.txt\n",
      "===== compiling =====\n",
      "mpif90  -g1 -O3 -fno-inline -fno-optimize-sibling-calls -fno-omit-frame-pointer -march=native -funroll-loops -fopenmp -flto -fno-math-errno -c m_utils.F90\n",
      "mpif90  -g1 -O3 -fno-inline -fno-optimize-sibling-calls -fno-omit-frame-pointer -march=native -funroll-loops -fopenmp -flto -fno-math-errno -c stencil2d-orig.F90\n",
      "mpif90  -g1 -O3 -fno-inline -fno-optimize-sibling-calls -fno-omit-frame-pointer -march=native -funroll-loops -fopenmp -flto -fno-math-errno m_utils.o stencil2d-orig.o -o stencil2d-orig.x\n",
      "cp stencil2d-orig.x stencil2d.x\n"
     ]
    }
   ],
   "source": [
    "%%bash\n",
    "echo \"===== cleaning up =====\"\n",
    "make clean\n",
    "echo \"===== compiling =====\"\n",
    "make VERSION=orig"
   ]
  },
  {
   "cell_type": "markdown",
   "metadata": {},
   "source": [
    "## Running\n",
    "\n",
    "We can run our program on all 72 cores of te Grace Hopper CPU that we have available using the <tt>srun</tt> command. The command line arguments <tt>nx, ny, nz</tt> specify the size of the computational domain and <tt>num_iter</tt> sets the number of iterations (timesteps)."
   ]
  },
  {
   "cell_type": "code",
   "execution_count": 3,
   "metadata": {},
   "outputs": [],
   "source": [
    "output = !srun -n 72 ./stencil2d-orig.x --nx 128 --ny 128 --nz 64 --num_iter 1024"
   ]
  },
  {
   "cell_type": "markdown",
   "metadata": {},
   "source": [
    "The output of the Fortran program is stored in the `output` variable. We can examine the result. Since the output of the Fortran program is already in a format that is understandable by Python, we can also execute the code contained in the string to define `data`."
   ]
  },
  {
   "cell_type": "code",
   "execution_count": 4,
   "metadata": {
    "editable": true,
    "slideshow": {
     "slide_type": ""
    },
    "tags": []
   },
   "outputs": [
    {
     "name": "stdout",
     "output_type": "stream",
     "text": [
      "# ranks nx ny nz num_iter time\n",
      "data = np.array( [ \\\n",
      "[   72,  128,  128,   64,    1024,  0.8625214E+01], \\\n",
      "] )\n"
     ]
    }
   ],
   "source": [
    "print(output.nlstr)\n",
    "exec(output.nlstr)"
   ]
  },
  {
   "cell_type": "markdown",
   "metadata": {},
   "source": [
    "We now have the output of the `stencil2d-orig.F90` program in a data structure named `data` in our notebook. As you can see above, it contains the number of cores we ran on `ranks` (12), the size of the computational domain `nx` (128), `ny` (128), `nz` (64), the number of iterations `num_iter` (1024) and the actual runtime in seconds (approx. 7 s)."
   ]
  },
  {
   "cell_type": "code",
   "execution_count": 5,
   "metadata": {},
   "outputs": [
    {
     "name": "stdout",
     "output_type": "stream",
     "text": [
      "[[  72.        128.        128.         64.       1024.          8.625214]]\n"
     ]
    }
   ],
   "source": [
    "print(data)"
   ]
  },
  {
   "cell_type": "markdown",
   "metadata": {},
   "source": [
    "The Fortran program writes two data files (`in_field.dat` and `out_field.dat`) which contain the initial condition as well as the resulting field at the end of the iterations. We can load the data into Python in order to visually verify that our stencil program is actually applying diffusion. We show only one of the middle levels (`k=32`) in the images."
   ]
  },
  {
   "cell_type": "code",
   "execution_count": 6,
   "metadata": {},
   "outputs": [],
   "source": [
    "def read_field_from_file(filename, num_halo=None):\n",
    "    (rank, nbits, num_halo, nx, ny, nz) = np.fromfile(filename, dtype=np.int32, count=6)\n",
    "    offset=(3 + rank) * 32 // nbits\n",
    "    data = np.fromfile(filename, dtype=np.float32 if nbits == 32 else np.float64, \\\n",
    "                       count=nz * ny * nx + offset)\n",
    "    if rank == 3:\n",
    "        return np.reshape(data[offset:], (nz, ny, nx))\n",
    "    else:\n",
    "        return np.reshape(data[offset:], (ny, nx))\n",
    "\n",
    "def validate_results():\n",
    "    fig, axs = plt.subplots(1, 2, figsize=(12, 4))\n",
    "\n",
    "    in_field = read_field_from_file('in_field.dat')\n",
    "    k_lev = in_field.shape[0] // 2\n",
    "    im1 = axs[0].imshow(in_field[k_lev, :, :], origin='lower', vmin=-0.1, vmax=1.1);\n",
    "    fig.colorbar(im1, ax=axs[0]);\n",
    "    axs[0].set_title('Initial condition (k = {})'.format(k_lev));\n",
    "\n",
    "    out_field = read_field_from_file('out_field.dat')\n",
    "    k_lev = out_field.shape[0] // 2\n",
    "    im2 = axs[1].imshow(out_field[k_lev, :, :], origin='lower', vmin=-0.1, vmax=1.1);\n",
    "    fig.colorbar(im2, ax=axs[1]);\n",
    "    axs[1].set_title('Final result (k = {})'.format(k_lev));\n",
    "    \n",
    "    plt.show()"
   ]
  },
  {
   "cell_type": "code",
   "execution_count": 7,
   "metadata": {},
   "outputs": [
    {
     "data": {
      "image/png": "[encoded data removed]",
      "text/plain": [
       "<Figure size 1200x400 with 4 Axes>"
      ]
     },
     "metadata": {},
     "output_type": "display_data"
    }
   ],
   "source": [
    "validate_results()"
   ]
  },
  {
   "cell_type": "markdown",
   "metadata": {
    "editable": true,
    "slideshow": {
     "slide_type": ""
    },
    "tags": []
   },
   "source": [
    "<div class=\"alert alert-block alert-info\">\n",
    "<b>Now it's your turn...</b><br>\n",
    "<b>3.</b> Play around a bit with the above program. Change the number of iterations to 1 and run again (you do not need to compile again!) and make a visualization of the result after only 1 iteration. Change back to 1024 iterations and change the size of the domain to <tt>nx=ny=64</tt> and give it a spin. How does the runtime change when you reduce the computational domain by a factor of 4x? Feel free to explore more and get comportable with the Fortran program...<br>\n",
    "<b>4.</b> There is another version of the stencil program named <tt>stencil2d-counters.F90</tt> where we have introduced two global variables of type <tt>integer</tt> named <tt>flop_counter</tt> and <tt>byte_counter</tt>. The goal of this exercise is to manually count the number of floating point operations and amount of memory transfers directly in the code inside the loops where the work is happening. Edit the program to count the number of floating-point operations and bytes transferred to/from memory. Compile and run. <i>(Hint: The places where you need to make edits are marked with TODO in the code and a first example is given.)</i><br>\n",
    "<b>5.</b> Compile and run the <tt>stencil2d-counters.F90</tt> program. The flop and byte count will appear in the standard output as additional entries into the <tt>data</tt> array. Make sure that the runtime is still approximately the same as before and that the introduction of the counters did not impact the runtime too negatively. Also validate the program is still correct by visualizing the results using <tt>validate_results()</tt>.<br>\n",
    "</div>"
   ]
  },
  {
   "cell_type": "code",
   "execution_count": 8,
   "metadata": {},
   "outputs": [
    {
     "name": "stdout",
     "output_type": "stream",
     "text": [
      "mpif90  -g1 -O3 -fno-inline -fno-optimize-sibling-calls -fno-omit-frame-pointer -march=native -funroll-loops -fopenmp -flto -fno-math-errno -c stencil2d-counters.F90\n",
      "mpif90  -g1 -O3 -fno-inline -fno-optimize-sibling-calls -fno-omit-frame-pointer -march=native -funroll-loops -fopenmp -flto -fno-math-errno m_utils.o stencil2d-counters.o -o stencil2d-counters.x\n",
      "cp stencil2d-counters.x stencil2d.x\n"
     ]
    }
   ],
   "source": [
    "%%bash\n",
    "make VERSION=counters"
   ]
  },
  {
   "cell_type": "code",
   "execution_count": 9,
   "metadata": {},
   "outputs": [],
   "source": [
    "output = !srun -n 72 ./stencil2d-counters.x --nx 128 --ny 128 --nz 64 --num_iter 1024"
   ]
  },
  {
   "cell_type": "code",
   "execution_count": 10,
   "metadata": {},
   "outputs": [
    {
     "name": "stdout",
     "output_type": "stream",
     "text": [
      "# ranks nx ny nz num_iter time flop byte\n",
      "data = np.array( [ \\\n",
      "[   72,  128,  128,   64,    1024,  0.9316322E+01,  0.9398869E+12,  0.5354130E+13], \\\n",
      "] )\n",
      "[[7.200000e+01 1.280000e+02 1.280000e+02 6.400000e+01 1.024000e+03\n",
      "  9.316322e+00 9.398869e+11 5.354130e+12]]\n"
     ]
    }
   ],
   "source": [
    "print(output.nlstr)\n",
    "exec(output.nlstr)\n",
    "print(data)"
   ]
  },
  {
   "cell_type": "code",
   "execution_count": 11,
   "metadata": {},
   "outputs": [
    {
     "data": {
      "image/png": "[encoded data removed]",
      "text/plain": [
       "<Figure size 1200x400 with 4 Axes>"
      ]
     },
     "metadata": {},
     "output_type": "display_data"
    }
   ],
   "source": [
    "validate_results()"
   ]
  },
  {
   "cell_type": "markdown",
   "metadata": {},
   "source": [
    "<div class=\"alert alert-block alert-info\">\n",
    "<b>Now it's your turn...</b><br>\n",
    "<b>6.</b> Using the flop and byte counts stored in <tt>data</tt>, compute the arithmetic intensity $I$ of our stencil program.<br>\n",
    "<b>7.</b> Compute the performance in GFLOP/s of our stencil program. Is our program memory bound or compute bound? Which % of peak FLOP/s and memory bandwidth do we achieve? Do you trust these estimations?<br>\n",
    "</div>"
   ]
  },
  {
   "cell_type": "code",
   "execution_count": 12,
   "metadata": {},
   "outputs": [
    {
     "name": "stdout",
     "output_type": "stream",
     "text": [
      "gflop_counter = 939.8869 Gflop\n",
      "gb_counter = 5354.13 GB\n",
      "Arithmetic intensity = 0.1755442807701718\n"
     ]
    }
   ],
   "source": [
    "gflop_counter = data[0, 6] / 1.0E9 # TODO\n",
    "gb_counter = data[0, 7] / 1.0e9 # TODO\n",
    "arithmetic_intensity = gflop_counter / gb_counter # TODO\n",
    "print(\"gflop_counter = {} Gflop\".format(gflop_counter))\n",
    "print(\"gb_counter = {} GB\".format(gb_counter))\n",
    "print(\"Arithmetic intensity = {}\".format(arithmetic_intensity))"
   ]
  },
  {
   "cell_type": "code",
   "execution_count": 13,
   "metadata": {
    "editable": true,
    "slideshow": {
     "slide_type": ""
    },
    "tags": []
   },
   "outputs": [
    {
     "name": "stdout",
     "output_type": "stream",
     "text": [
      "Runtime 9.316322 s\n",
      "Computational throughput = 100.88604709025729 GFLOP/s ( 2.527% theoretical peak)\n",
      "Memory bandwidth = 574.7042663403005 GB/s (112.247% theoretical peak)\n"
     ]
    }
   ],
   "source": [
    "runtime = data[0, 5] # TODO\n",
    "peak_bandwidth_in_gbs = 512.0 # TODO\n",
    "peak_performance_in_gflops = 3991.68 # TODO\n",
    "performance_in_gflops = gflop_counter / runtime # TODO\n",
    "bandwidth_in_gbs = gb_counter / runtime # TODO\n",
    "performance_percent_peak = performance_in_gflops / peak_performance_in_gflops * 100. # TODO\n",
    "bandwidth_percent_peak = bandwidth_in_gbs / peak_bandwidth_in_gbs * 100. # TODO\n",
    "print(\"Runtime {} s\".format(runtime))\n",
    "print(\"Computational throughput = {} GFLOP/s ({:6.3f}% theoretical peak)\".format(performance_in_gflops, performance_percent_peak))\n",
    "print(\"Memory bandwidth = {} GB/s ({:6.3f}% theoretical peak)\".format(bandwidth_in_gbs, bandwidth_percent_peak))"
   ]
  },
  {
   "cell_type": "markdown",
   "metadata": {},
   "source": [
    "<div class=\"alert alert-block alert-info\">\n",
    "<b>Now it's your turn...</b><br>\n",
    "<b>8.</b> Run the stencil program for different <tt>nx</tt> and <tt>ny</tt> (using the <tt>--scan</tt> option, see below). Import the data into a Python notebook and make a loglog-plot of the runtime per gridpoint $r = \\mathrm{runtime} \\, / \\, nx \\, / \\, ny \\, / nz$ in $\\mu s$ versus the working set size $\\mathrm{work\\_size} = nx \\times ny \\times nz \\times 3 \\times 4 \\, \\mathrm{Bytes}$ in MB. How would you expect this plot to look like for a von Neumann architecture? What might be the reason that the behavior is different?<br><br> \n",
    "\n",
    "<i>Note:</i> Running with the <tt>--scan</tt> will take some time to complete. Be patient! If you want more precise numbers and you have the patience, try generating this plot with 1024 iterations instead of 128.<br>\n",
    "</div>"
   ]
  },
  {
   "cell_type": "code",
   "execution_count": 14,
   "metadata": {},
   "outputs": [],
   "source": [
    "output = !srun -n 72 ./stencil2d-orig.x --scan --nz 64 --num_iter 128"
   ]
  },
  {
   "cell_type": "code",
   "execution_count": 15,
   "metadata": {},
   "outputs": [
    {
     "name": "stdout",
     "output_type": "stream",
     "text": [
      "# ranks nx ny nz num_iter time\n",
      "data = np.array( [ \\\n",
      "[   72,   16,   16,   64,     128,  0.2489923E-02], \\\n",
      "[   72,   32,   16,   64,     128,  0.4367652E-02], \\\n",
      "[   72,   48,   16,   64,     128,  0.7120809E-02], \\\n",
      "[   72,   64,   16,   64,     128,  0.1011916E-01], \\\n",
      "[   72,   96,   16,   64,     128,  0.1658349E-01], \\\n",
      "[   72,  128,   16,   64,     128,  0.4176312E-01], \\\n",
      "[   72,  192,   16,   64,     128,  0.1159886E+00], \\\n",
      "[   72,   16,   32,   64,     128,  0.4787305E-02], \\\n",
      "[   72,   32,   32,   64,     128,  0.8902496E-02], \\\n",
      "[   72,   48,   32,   64,     128,  0.1467213E-01], \\\n",
      "[   72,   64,   32,   64,     128,  0.2627435E-01], \\\n",
      "[   72,   96,   32,   64,     128,  0.9645212E-01], \\\n",
      "[   72,  128,   32,   64,     128,  0.1675385E+00], \\\n",
      "[   72,  192,   32,   64,     128,  0.2608542E+00], \\\n",
      "[   72,   16,   48,   64,     128,  0.8047906E-02], \\\n",
      "[   72,   32,   48,   64,     128,  0.1694364E-01], \\\n",
      "[   72,   48,   48,   64,     128,  0.3506326E-01], \\\n",
      "[   72,   64,   48,   64,     128,  0.9208296E-01], \\\n",
      "[   72,   96,   48,   64,     128,  0.1920334E+00], \\\n",
      "[   72,  128,   48,   64,     128,  0.2614091E+00], \\\n",
      "[   72,  192,   48,   64,     128,  0.3811536E+00], \\\n",
      "[   72,   16,   64,   64,     128,  0.1573249E-01], \\\n",
      "[   72,   32,   64,   64,     128,  0.2788827E-01], \\\n",
      "[   72,   48,   64,   64,     128,  0.7440876E-01], \\\n",
      "[   72,   64,   64,   64,     128,  0.1523258E+00], \\\n",
      "[   72,   96,   64,   64,     128,  0.2696885E+00], \\\n",
      "[   72,  128,   64,   64,     128,  0.3430497E+00], \\\n",
      "[   72,  192,   64,   64,     128,  0.4677744E+00], \\\n",
      "[   72,   16,   96,   64,     128,  0.2851710E-01], \\\n",
      "[   72,   32,   96,   64,     128,  0.7073835E-01], \\\n",
      "[   72,   48,   96,   64,     128,  0.1610926E+00], \\\n",
      "[   72,   64,   96,   64,     128,  0.2320251E+00], \\\n",
      "[   72,   96,   96,   64,     128,  0.3500471E+00], \\\n",
      "[   72,  128,   96,   64,     128,  0.4487942E+00], \\\n",
      "[   72,  192,   96,   64,     128,  0.6064776E+00], \\\n",
      "[   72,   16,  128,   64,     128,  0.3377296E-01], \\\n",
      "[   72,   32,  128,   64,     128,  0.1015024E+00], \\\n",
      "[   72,   48,  128,   64,     128,  0.1960236E+00], \\\n",
      "[   72,   64,  128,   64,     128,  0.2717713E+00], \\\n",
      "[   72,   96,  128,   64,     128,  0.4125582E+00], \\\n",
      "[   72,  128,  128,   64,     128,  0.5214112E+00], \\\n",
      "[   72,  192,  128,   64,     128,  0.6850513E+00], \\\n",
      "[   72,   16,  192,   64,     128,  0.6050946E-01], \\\n",
      "[   72,   32,  192,   64,     128,  0.1592260E+00], \\\n",
      "[   72,   48,  192,   64,     128,  0.2563977E+00], \\\n",
      "[   72,   64,  192,   64,     128,  0.3623557E+00], \\\n",
      "[   72,   96,  192,   64,     128,  0.5189087E+00], \\\n",
      "[   72,  128,  192,   64,     128,  0.6458446E+00], \\\n",
      "[   72,  192,  192,   64,     128,  0.8746810E+00], \\\n",
      "] )\n"
     ]
    }
   ],
   "source": [
    "print(output.nlstr)\n",
    "exec(output.nlstr)"
   ]
  },
  {
   "cell_type": "code",
   "execution_count": 16,
   "metadata": {},
   "outputs": [
    {
     "data": {
      "image/png": "[encoded data removed]",
      "text/plain": [
       "<Figure size 1000x600 with 1 Axes>"
      ]
     },
     "metadata": {},
     "output_type": "display_data"
    }
   ],
   "source": [
    "work_size = data[:, 1] * data[:, 2] * data[:, 3] * 3 * 4 # TODO\n",
    "runtime_per_gridpoint = data[:, 5] / data[:, 1] / data[:, 2] / data[:, 3] # TODO\n",
    "plt.loglog( work_size / 1.0e6, runtime_per_gridpoint * 1.0e6 , '.');\n",
    "plt.xlabel( 'Working set size [MB]' );\n",
    "plt.ylabel( 'Runtime / gridpoint [µs]' );\n",
    "plt.grid(visible=True, which='both')\n",
    "fig = matplotlib.pyplot.gcf()\n",
    "fig.set_size_inches(10, 6)"
   ]
  },
  {
   "cell_type": "markdown",
   "metadata": {},
   "source": [
    "## Performance Analysis Tool (perf stat)\n",
    "\n",
    "We can also use a performance analysis tool named <tt>perf</tt> to analyze the performance of our stencil program (see [the manpage of perf](https://man7.org/linux/man-pages/man1/perf.1.html) for more information. Our program does not need to be re-compiled for performance analysis with <tt>perf</tt>. Using the command<p><p>\n",
    "<tt>perf stat -e mem_access_rd,mem_access_wr,LLC-load-misses \\<executable\\> \\<options\\></tt><p><p>\n",
    "we can run any executable. The arguments after the <tt>-e</tt> option list the specific hardware counters we would like to collect. In this example, we are specifically interested in collecting the total number of memory read and write transactions <tt>mem_access_rd, mem_access_wr</tt>) as well as the number of system memory (DRAM) transactions (measured by the last-level cache load misses = LLC-load-misses).\n",
    "\n",
    "Since we run our program on all cores of the Grace CPU and this would lead to unreadable output, we have provided a convenience shell-script (<tt>perf_wrap.sh</tt>) which deals with running the <tt>perf stat</tt> command and capturing the output inside the directory \"perf\". We also provide a convenience function in Python to parse and process the performance analysis output."
   ]
  },
  {
   "cell_type": "markdown",
   "metadata": {},
   "source": [
    "<div class=\"alert alert-block alert-info\">\n",
    "<b>Now it's your turn...</b><br>\n",
    "<b>9.</b> Run your program with counters using <tt>perf</tt> performance analysis tool (see below). Inspect one of the reports generated by <tt>perf</tt> (written to the file <tt>perf/00000.txt</tt>).<br>\n",
    "<b>10.</b> Compare the memory transfer numbers against your values. By which factor are you off? What could be the reason?<br>\n",
    "<b>11.</b> Run again with $nx = 32$ and $ny = 32$. Did the factor by which you are off change? Is this consistent with the findings above? Do you have an idea why this might be the case?<br>\n",
    "</div>"
   ]
  },
  {
   "cell_type": "code",
   "execution_count": 17,
   "metadata": {},
   "outputs": [],
   "source": [
    "# this is a utility function we will need below for parsing the performance analysis output\n",
    "import re\n",
    "import numpy as np\n",
    "from pathlib import Path\n",
    "from typing import Tuple\n",
    "\n",
    "def parse_perf_stat(directory: Path = Path('./perf/')):\n",
    "    mem_rd_values = []\n",
    "    mem_wr_values = []\n",
    "    llc_load_values = []\n",
    "\n",
    "    for perf_file in sorted(directory.glob(\"?????.txt\")):\n",
    "        with perf_file.open() as f:\n",
    "            lines = f.readlines()\n",
    "\n",
    "            for line in lines:\n",
    "                if 'mem_access_rd' in line:\n",
    "                    mem_rd_values.append(int(line.strip().split()[0].replace(',', '')))\n",
    "                elif 'mem_access_wr' in line:\n",
    "                    mem_wr_values.append(int(line.strip().split()[0].replace(',', '')))\n",
    "                elif 'LLC-load-misses' in line:\n",
    "                    llc_load_values.append(int(line.strip().split()[0].replace(',', '')))\n",
    "\n",
    "    total_llc_misses = float(np.array(llc_load_values).mean())\n",
    "    total_mem_accesses = float(np.array(mem_rd_values).mean()) + float(np.array(mem_wr_values).mean())\n",
    "    return (total_llc_misses * 64, total_mem_accesses * 4)\n"
   ]
  },
  {
   "cell_type": "code",
   "execution_count": 18,
   "metadata": {},
   "outputs": [
    {
     "name": "stdout",
     "output_type": "stream",
     "text": [
      "rm -f -rf *~ *.o *.mod *.MOD *.i core.* *.out *.lst *.x *.x+orig *.x+[0-9]* *.dat *.report result_*.py report*.txt perf/* out*.txt\n",
      "mpif90  -g1 -O3 -fno-inline -fno-optimize-sibling-calls -fno-omit-frame-pointer -march=native -funroll-loops -fopenmp -flto -fno-math-errno -c m_utils.F90\n",
      "mpif90  -g1 -O3 -fno-inline -fno-optimize-sibling-calls -fno-omit-frame-pointer -march=native -funroll-loops -fopenmp -flto -fno-math-errno -c stencil2d-counters.F90\n",
      "mpif90  -g1 -O3 -fno-inline -fno-optimize-sibling-calls -fno-omit-frame-pointer -march=native -funroll-loops -fopenmp -flto -fno-math-errno m_utils.o stencil2d-counters.o -o stencil2d-counters.x\n",
      "cp stencil2d-counters.x stencil2d.x\n"
     ]
    }
   ],
   "source": [
    "%%bash\n",
    "make clean\n",
    "make VERSION=counters"
   ]
  },
  {
   "cell_type": "code",
   "execution_count": 19,
   "metadata": {
    "editable": true,
    "slideshow": {
     "slide_type": ""
    },
    "tags": []
   },
   "outputs": [
    {
     "name": "stdout",
     "output_type": "stream",
     "text": [
      "====== 128 x 128 x 64 ======\n",
      "# ranks nx ny nz num_iter time flop byte\n",
      "data = np.array( [ \\\n",
      "[   72,  128,  128,   64,    1024,  0.4808751E+01,  0.9398869E+12,  0.5354130E+13], \\\n",
      "] )\n"
     ]
    }
   ],
   "source": [
    "%%bash\n",
    "echo \"====== 128 x 128 x 64 ======\"\n",
    "srun -n 72 perf_wrap.sh ./stencil2d-counters.x --nx 128 --ny 128 --nz 64 --num_iter 1024"
   ]
  },
  {
   "cell_type": "code",
   "execution_count": 20,
   "metadata": {
    "editable": true,
    "slideshow": {
     "slide_type": ""
    },
    "tags": []
   },
   "outputs": [
    {
     "name": "stdout",
     "output_type": "stream",
     "text": [
      "Total memory access measured = 6289.50095496 GB\n",
      "Total memory access measured (DRAM) = 1862.501517376 GB\n",
      "Total memory access counted = 5354.13 GB\n"
     ]
    }
   ],
   "source": [
    "total_dram_accesses_per_core_in_Bytes, total_mem_accesses_per_core_in_Bytes = parse_perf_stat()\n",
    "\n",
    "total_number_of_measured_GB = total_mem_accesses_per_core_in_Bytes * 72 / 1e9 # TODO\n",
    "total_number_of_measured_DRAM_GB = total_dram_accesses_per_core_in_Bytes * 72 / 1e9 # TODO\n",
    "total_number_of_counted_GB = 0.5354130E+13 / 1e9 # TODO\n",
    "\n",
    "print(\"Total memory access measured = {} GB\".format(total_number_of_measured_GB))\n",
    "print(\"Total memory access measured (DRAM) = {} GB\".format(total_number_of_measured_DRAM_GB))\n",
    "print(\"Total memory access counted = {} GB\".format(total_number_of_counted_GB))"
   ]
  },
  {
   "cell_type": "code",
   "execution_count": 21,
   "metadata": {
    "editable": true,
    "slideshow": {
     "slide_type": ""
    },
    "tags": []
   },
   "outputs": [
    {
     "name": "stdout",
     "output_type": "stream",
     "text": [
      "====== 32 x 32 x 64 ======\n",
      "# ranks nx ny nz num_iter time flop byte\n",
      "data = np.array( [ \\\n",
      "[   72,   32,   32,   64,    1024,  0.7479058E-01,  0.6109633E+11,  0.3537434E+12], \\\n",
      "] )\n"
     ]
    }
   ],
   "source": [
    "%%bash\n",
    "echo \"====== 32 x 32 x 64 ======\"\n",
    "srun -n 72 perf_wrap.sh ./stencil2d-counters.x --nx 32 --ny 32 --nz 64 --num_iter 1024"
   ]
  },
  {
   "cell_type": "code",
   "execution_count": 22,
   "metadata": {},
   "outputs": [
    {
     "name": "stdout",
     "output_type": "stream",
     "text": [
      "Total memory access measured = 439.690405608 GB\n",
      "Total memory access measured (DRAM) = 1.000997312 GB\n",
      "Total memory access counted = 353.7434 GB\n"
     ]
    }
   ],
   "source": [
    "total_dram_accesses_per_core_in_Bytes, total_mem_accesses_per_core_in_Bytes = parse_perf_stat()\n",
    "\n",
    "total_number_of_measured_GB = total_mem_accesses_per_core_in_Bytes * 72 / 1e9 # TODO\n",
    "total_number_of_measured_DRAM_GB = total_dram_accesses_per_core_in_Bytes * 72 / 1e9 # TODO\n",
    "total_number_of_counted_GB = 0.3537434E+12 / 1e9 # TODO\n",
    "\n",
    "print(\"Total memory access measured = {} GB\".format(total_number_of_measured_GB))\n",
    "print(\"Total memory access measured (DRAM) = {} GB\".format(total_number_of_measured_DRAM_GB))\n",
    "print(\"Total memory access counted = {} GB\".format(total_number_of_counted_GB))"
   ]
  },
  {
   "cell_type": "code",
   "execution_count": 23,
   "metadata": {
    "editable": true,
    "slideshow": {
     "slide_type": ""
    },
    "tags": []
   },
   "outputs": [],
   "source": [
    "# TODO\n",
    "#\n",
    "# Running at nx=128 ny=128 nz=64 and num_iter=1024 we have 5354 GB from the counters\n",
    "# and perf stat reports 1856 GB, that's only 35% of our estimate from the counters.\n",
    "#\n",
    "# Running at nx=32 ny=32 nz=64 and num_iter=1024 we have 353.7 GB from the counters\n",
    "# and perf stat reports 1.008 GB, that's only 0.28% of our estimate from the counters.\n",
    "#\n",
    "# The reason for the reduced DRAM traffic as compared to our estimate is that some\n",
    "# of the memory accesses are served from caches on the CPU.\n",
    "#\n",
    "# The disproportionally much smaller fraction of DRAM traffic for the 32 x 32 x 64 domain\n",
    "# size is because the problem now fits entirely into cache.\n",
    "#\n",
    "# We have 1.6 MB of L3 cache per core. A float32 field occupies 4 MB for\n",
    "# nx x ny x nz = 128 x 128 x 64 and 0.25 MB for nx x ny x nz = 32 x 32 x 64.\n",
    "# We have 4 fields in the code (in_field, tmp1_field, tmp2_field, out_field).\n",
    "# In the first case we do not fit into L3 cache. In the second case, we easily fit into L3\n",
    "# cache and only have to read the fields once, after that they can be read\n",
    "# from / written to in cache."
   ]
  },
  {
   "cell_type": "code",
   "execution_count": 24,
   "metadata": {},
   "outputs": [
    {
     "name": "stdout",
     "output_type": "stream",
     "text": [
      "rm -f -rf *~ *.o *.mod *.MOD *.i core.* *.out *.lst *.x *.x+orig *.x+[0-9]* *.dat *.report result_*.py report*.txt perf/* out*.txt\n"
     ]
    }
   ],
   "source": [
    "%%bash\n",
    "make clean"
   ]
  },
  {
   "cell_type": "code",
   "execution_count": null,
   "metadata": {},
   "outputs": [],
   "source": []
  }
 ],
 "metadata": {
  "kernelspec": {
   "display_name": "HPC4WC_kernel",
   "language": "python",
   "name": "hpc4wc_kernel"
  },
  "language_info": {
   "codemirror_mode": {
    "name": "ipython",
    "version": 3
   },
   "file_extension": ".py",
   "mimetype": "text/x-python",
   "name": "python",
   "nbconvert_exporter": "python",
   "pygments_lexer": "ipython3",
   "version": "3.12.5"
  }
 },
 "nbformat": 4,
 "nbformat_minor": 4
}
