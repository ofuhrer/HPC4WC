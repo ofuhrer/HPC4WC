{
 "cells": [
  {
   "cell_type": "code",
   "execution_count": 1,
   "id": "34799097-9994-4255-8acc-26a9676efa17",
   "metadata": {},
   "outputs": [
    {
     "name": "stdout",
     "output_type": "stream",
     "text": [
      "Elapsed time for work = 0.9960877895355225s.\n"
     ]
    }
   ],
   "source": [
    "!python main.py -nx 128 -ny 128 -nz 64 -bdry 2 -itrs 1024"
   ]
  },
  {
   "cell_type": "code",
   "execution_count": null,
   "id": "e80c4121-a5a4-458e-8d65-3e67c99b0abd",
   "metadata": {},
   "outputs": [],
   "source": []
  }
 ],
 "metadata": {
  "kernelspec": {
   "display_name": "HPC4WC_kernel",
   "language": "python",
   "name": "hpc4wc_kernel"
  },
  "language_info": {
   "codemirror_mode": {
    "name": "ipython",
    "version": 3
   },
   "file_extension": ".py",
   "mimetype": "text/x-python",
   "name": "python",
   "nbconvert_exporter": "python",
   "pygments_lexer": "ipython3",
   "version": "3.9.4"
  }
 },
 "nbformat": 4,
 "nbformat_minor": 5
}
