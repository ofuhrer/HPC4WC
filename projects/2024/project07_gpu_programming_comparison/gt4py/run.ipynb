{
 "cells": [
  {
   "cell_type": "code",
   "execution_count": 1,
   "id": "9b0233b4-cb0b-4fde-88da-6cb55c0e59e4",
   "metadata": {},
   "outputs": [
    {
     "name": "stdout",
     "output_type": "stream",
     "text": [
      "/users/class182/HPC4WC_venv/lib/python3.9/site-packages/setuptools/distutils_patch.py:25: UserWarning: Distutils was imported before Setuptools. This usage is discouraged and may exhibit undesirable behaviors or errors. Please use Setuptools' objects directly or at least import Setuptools first.\n",
      "  warnings.warn(\n",
      "Elapsed time for work = 4.3686323165893555s.\n"
     ]
    }
   ],
   "source": [
    "!python xyz-laplap.py -nx 128 -ny 128 -nz 64 -bdry 2 -itrs 1024 -bknd gt:gpu"
   ]
  },
  {
   "cell_type": "code",
   "execution_count": 2,
   "id": "57e44cde-478c-4daa-8a8a-6ad42ef11912",
   "metadata": {},
   "outputs": [
    {
     "name": "stdout",
     "output_type": "stream",
     "text": [
      "/users/class182/HPC4WC_venv/lib/python3.9/site-packages/setuptools/distutils_patch.py:25: UserWarning: Distutils was imported before Setuptools. This usage is discouraged and may exhibit undesirable behaviors or errors. Please use Setuptools' objects directly or at least import Setuptools first.\n",
      "  warnings.warn(\n",
      "Elapsed time for work = 4.351367473602295s.\n"
     ]
    }
   ],
   "source": [
    "!python xyz-laplap.py -nx 128 -ny 128 -nz 64 -bdry 2 -itrs 1024 -bknd cuda"
   ]
  },
  {
   "cell_type": "code",
   "execution_count": 3,
   "id": "46f6fe96-b2c2-420f-9bd4-ad0106a063ae",
   "metadata": {},
   "outputs": [
    {
     "name": "stdout",
     "output_type": "stream",
     "text": [
      "/users/class182/HPC4WC_venv/lib/python3.9/site-packages/setuptools/distutils_patch.py:25: UserWarning: Distutils was imported before Setuptools. This usage is discouraged and may exhibit undesirable behaviors or errors. Please use Setuptools' objects directly or at least import Setuptools first.\n",
      "  warnings.warn(\n",
      "Elapsed time for work = 3.7371063232421875s.\n"
     ]
    }
   ],
   "source": [
    "!python zyx-biharm.py -nx 128 -ny 128 -nz 64 -bdry 2 -itrs 1024 -bknd gt:gpu"
   ]
  },
  {
   "cell_type": "code",
   "execution_count": 4,
   "id": "2b2ccb1e-fd19-4545-906e-6976c57760a9",
   "metadata": {},
   "outputs": [
    {
     "name": "stdout",
     "output_type": "stream",
     "text": [
      "/users/class182/HPC4WC_venv/lib/python3.9/site-packages/setuptools/distutils_patch.py:25: UserWarning: Distutils was imported before Setuptools. This usage is discouraged and may exhibit undesirable behaviors or errors. Please use Setuptools' objects directly or at least import Setuptools first.\n",
      "  warnings.warn(\n",
      "Elapsed time for work = 3.7324817180633545s.\n"
     ]
    }
   ],
   "source": [
    "!python zyx-biharm.py -nx 128 -ny 128 -nz 64 -bdry 2 -itrs 1024 -bknd cuda"
   ]
  },
  {
   "cell_type": "code",
   "execution_count": null,
   "id": "e2c05b53-8bb5-4c65-87f8-e29c58479fc7",
   "metadata": {},
   "outputs": [],
   "source": []
  }
 ],
 "metadata": {
  "kernelspec": {
   "display_name": "HPC4WC_kernel",
   "language": "python",
   "name": "hpc4wc_kernel"
  },
  "language_info": {
   "codemirror_mode": {
    "name": "ipython",
    "version": 3
   },
   "file_extension": ".py",
   "mimetype": "text/x-python",
   "name": "python",
   "nbconvert_exporter": "python",
   "pygments_lexer": "ipython3",
   "version": "3.9.4"
  }
 },
 "nbformat": 4,
 "nbformat_minor": 5
}
