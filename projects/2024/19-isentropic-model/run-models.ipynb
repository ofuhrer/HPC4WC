{
 "cells": [
  {
   "cell_type": "markdown",
   "metadata": {},
   "source": [
    "# Isentropic model performance comparison\n",
    "\n",
    "In order to run the weather model, we need to ensure that all needed dependencies are installed. We will also install the optimized and unoptimized versions of the model locally with editing enabled. For further inofrmation on the model's capabilities and features, please check out its [README file](unoptimized/README.md). You might have to restart your kernel after installation. (Please ensure that the `pip` used corresponds to your python environment, you might have to substitute pip with, for example, `python3 -m pip`.)"
   ]
  },
  {
   "cell_type": "code",
   "execution_count": null,
   "metadata": {},
   "outputs": [],
   "source": [
    "!pip install -r optimized/requirements.txt\n",
    "!pip install -r unoptimized/requirements.txt\n",
    "!pip install -e optimized\n",
    "!pip install -e unoptimized"
   ]
  },
  {
   "cell_type": "markdown",
   "metadata": {},
   "source": [
    "## Running the unoptimized version\n",
    "\n",
    "The unoptimized version is the unchanged model that we started out with. Let's assesss how long it takes to run (note that logging has been disabled for performance reasons; you can reenable it by editing the print options in its [namelist.py](unoptimized/nmwc_model/namelist.py) file; furthermore note that `unoptimized.nmwc_model.solver` might have to be renamed to `nmwc_model.solver`):"
   ]
  },
  {
   "cell_type": "code",
   "execution_count": 7,
   "metadata": {},
   "outputs": [],
   "source": [
    "from unoptimized.nmwc_model.solver import run_unoptimized"
   ]
  },
  {
   "cell_type": "code",
   "execution_count": null,
   "metadata": {},
   "outputs": [],
   "source": [
    "run_unoptimized()"
   ]
  },
  {
   "cell_type": "markdown",
   "metadata": {},
   "source": [
    "Once completed successfully, a file `output_unoptimized.npz` will be created that can be viewed using the methods described in the model's [README file](unoptimized/README.md)."
   ]
  },
  {
   "cell_type": "markdown",
   "metadata": {},
   "source": [
    "## Running the optimized version\n",
    "\n",
    "The parallelized version uses the `mpi4py` package to facilitate the distribution of computation among workers"
   ]
  },
  {
   "cell_type": "code",
   "execution_count": null,
   "metadata": {},
   "outputs": [],
   "source": [
    "import ipcmagic\n",
    "import ipyparallel as ipp"
   ]
  },
  {
   "cell_type": "markdown",
   "metadata": {},
   "source": [
    "Specify the number of workers to use and start the cluster:"
   ]
  },
  {
   "cell_type": "code",
   "execution_count": null,
   "metadata": {},
   "outputs": [],
   "source": [
    "%ipcluster start -n 4"
   ]
  },
  {
   "cell_type": "markdown",
   "metadata": {},
   "source": [
    "And run the simulation on each of them (note: you might have to rename `nmwc_model_optimized.solver` to `optimized.nmwc_model_optimized.solver`):"
   ]
  },
  {
   "cell_type": "code",
   "execution_count": null,
   "metadata": {},
   "outputs": [],
   "source": [
    "%%px\n",
    "from nmwc_model_optimized.solver import run_optimized\n",
    "run_optimized()"
   ]
  },
  {
   "cell_type": "markdown",
   "metadata": {},
   "source": [
    "Which generates a file at `output_optimized.npz`. Finally, we stop the cluster again:"
   ]
  },
  {
   "cell_type": "code",
   "execution_count": null,
   "metadata": {},
   "outputs": [],
   "source": [
    "%ipcluster stop"
   ]
  },
  {
   "cell_type": "markdown",
   "metadata": {},
   "source": [
    "## Visualizing the results\n",
    "\n",
    "Finally, let's generate some plots to view both the results of the optimized and unoptimized versions."
   ]
  },
  {
   "cell_type": "code",
   "execution_count": null,
   "metadata": {},
   "outputs": [],
   "source": [
    "!python3 unoptimized/nmwc_model/xzplot.py output_unoptimized.npz -o unoptimized_xzplot.pdf\n",
    "!python3 optimized/nmwc_model_optimized/xzplot.py output_optimized.npz -o optimized_xzplot.pdf"
   ]
  }
 ],
 "metadata": {
  "kernelspec": {
   "display_name": "Python 3",
   "language": "python",
   "name": "python3"
  },
  "language_info": {
   "codemirror_mode": {
    "name": "ipython",
    "version": 3
   },
   "file_extension": ".py",
   "mimetype": "text/x-python",
   "name": "python",
   "nbconvert_exporter": "python",
   "pygments_lexer": "ipython3",
   "version": "3.10.12"
  }
 },
 "nbformat": 4,
 "nbformat_minor": 2
}
