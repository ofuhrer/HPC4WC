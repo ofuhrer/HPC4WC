{
 "cells": [
  {
   "cell_type": "code",
   "execution_count": 1,
   "id": "13c2e772-e304-428c-a57f-97aba9d1d5d5",
   "metadata": {},
   "outputs": [],
   "source": [
    "import timeit\n",
    "import matplotlib\n",
    "import matplotlib.pyplot as plt\n",
    "import numpy as np"
   ]
  },
  {
   "cell_type": "code",
   "execution_count": 2,
   "id": "0f09c219-ce50-4801-8b28-30f0b47ace04",
   "metadata": {},
   "outputs": [
    {
     "name": "stdout",
     "output_type": "stream",
     "text": [
      "rm -f -rf *~ *.o *.mod *.MOD *.i core.* *.out *.lst *.x *.x+orig *.x+[0-9]* *.dat *.report result_*.py report*.txt\n"
     ]
    }
   ],
   "source": [
    "%%bash\n",
    "make clean"
   ]
  },
  {
   "cell_type": "markdown",
   "id": "2d12dca6-e3e7-4b0c-8654-607e7003f11e",
   "metadata": {},
   "source": [
    "### define the function to validate the result we get"
   ]
  },
  {
   "cell_type": "code",
   "execution_count": 3,
   "id": "c0b353ce-d8d0-473d-83b5-7c8d27297e3e",
   "metadata": {},
   "outputs": [],
   "source": [
    "def read_field_from_file(filename, num_halo=None):\n",
    "    (rank, nbits, num_halo, nx, ny, nz) = np.fromfile(filename, dtype=np.int32, count=6)\n",
    "    offset = (3 + rank) * 32 // nbits\n",
    "    data = np.fromfile(\n",
    "        filename,\n",
    "        dtype=np.float32 if nbits == 32 else np.float64,\n",
    "        count=nz * ny * nx + offset,\n",
    "    )\n",
    "    if rank == 3:\n",
    "        return np.reshape(data[offset:], (nz, ny, nx))\n",
    "    else:\n",
    "        return np.reshape(data[offset:], (ny, nx))\n",
    "\n",
    "\n",
    "def validate_results():\n",
    "    fig, axs = plt.subplots(1, 2, figsize=(12, 4))\n",
    "\n",
    "    in_field = read_field_from_file(\"in_field.dat\")\n",
    "    im1 = axs[0].imshow(\n",
    "        in_field[in_field.shape[0] // 2, :, :], origin=\"lower\", vmin=-0.1, vmax=1.1\n",
    "    )\n",
    "    fig.colorbar(im1, ax=axs[0])\n",
    "    axs[0].set_title(\"Initial condition\")\n",
    "\n",
    "    out_field = read_field_from_file(\"out_field.dat\")\n",
    "    im2 = axs[1].imshow(\n",
    "        out_field[out_field.shape[0] // 2, :, :], origin=\"lower\", vmin=-0.1, vmax=1.1\n",
    "    )\n",
    "    fig.colorbar(im2, ax=axs[1])\n",
    "    axs[1].set_title(\"Final result\")\n",
    "\n",
    "    plt.show()"
   ]
  },
  {
   "cell_type": "markdown",
   "id": "26a7244c-9b9c-42eb-a096-bf8a2a83a8ba",
   "metadata": {
    "jp-MarkdownHeadingCollapsed": true,
    "tags": []
   },
   "source": [
    "# pre experiment\n",
    "this section checks if all the codes runs correctly."
   ]
  },
  {
   "cell_type": "markdown",
   "id": "7b1fa392-a2f4-413c-9d36-40517745dd1d",
   "metadata": {},
   "source": [
    "## baseline\n",
    "the original version: stencil2d_orig. \n",
    "\n",
    "Neither mpi nor omp is implemented."
   ]
  },
  {
   "cell_type": "code",
   "execution_count": 4,
   "id": "7d05a640-173b-4d50-b35c-00d44bef0ee8",
   "metadata": {},
   "outputs": [
    {
     "name": "stdout",
     "output_type": "stream",
     "text": [
      "rm -f -rf *~ *.o *.mod *.MOD *.i core.* *.out *.lst *.x *.x+orig *.x+[0-9]* *.dat *.report result_*.py report*.txt\n",
      "ftn -O3 -hfp3 -eZ -ffree -N255 -ec -eC -eI -eF -rm -h omp -c m_utils.F90\n",
      "ftn -O3 -hfp3 -eZ -ffree -N255 -ec -eC -eI -eF -rm -h omp -c m_partitioner.F90\n",
      "ftn -O3 -hfp3 -eZ -ffree -N255 -ec -eC -eI -eF -rm -h omp -c stencil2d-orig.F90\n",
      "ftn -O3 -hfp3 -eZ -ffree -N255 -ec -eC -eI -eF -rm -h omp m_utils.o m_partitioner.o stencil2d-orig.o -o stencil2d-orig.x\n"
     ]
    },
    {
     "name": "stderr",
     "output_type": "stream",
     "text": [
      "INFO: creating the PerfTools-instrumented executable 'stencil2d-orig.x' (lite-samples) ...OK\n"
     ]
    },
    {
     "name": "stdout",
     "output_type": "stream",
     "text": [
      "cp stencil2d-orig.x stencil2d.x\n"
     ]
    }
   ],
   "source": [
    "%%bash\n",
    "module load daint-gpu\n",
    "module switch PrgEnv-gnu PrgEnv-cray\n",
    "module load perftools-lite\n",
    "\n",
    "make clean\n",
    "make VERSION=orig"
   ]
  },
  {
   "cell_type": "code",
   "execution_count": 5,
   "id": "13b90c72-4d1e-4ee7-8617-d03889d5aa4f",
   "metadata": {},
   "outputs": [
    {
     "name": "stderr",
     "output_type": "stream",
     "text": [
      "CrayPat/X:  Version 21.09.0 Revision b02949528  08/17/21 03:14:02\n"
     ]
    }
   ],
   "source": [
    "%%bash\n",
    "srun -n 2 -c 6 ./stencil2d-orig.x --nx 128 --ny 128 --nz 64 --num_iter 1024 > report_baseline.txt"
   ]
  },
  {
   "cell_type": "code",
   "execution_count": 6,
   "id": "71e1f900-9fa1-4baf-8d8f-59b3dd6cac0e",
   "metadata": {},
   "outputs": [
    {
     "data": {
      "image/png": "[encoded data removed]",
      "text/plain": [
       "<Figure size 864x288 with 4 Axes>"
      ]
     },
     "metadata": {
      "needs_background": "light"
     },
     "output_type": "display_data"
    }
   ],
   "source": [
    "validate_results()"
   ]
  },
  {
   "cell_type": "markdown",
   "id": "f4abd7c4-d602-4bfc-9968-d2b8d8937612",
   "metadata": {},
   "source": [
    "## Implement mpi"
   ]
  },
  {
   "cell_type": "code",
   "execution_count": 7,
   "id": "a3dc433d-87da-4012-97ec-8f353002ed1b",
   "metadata": {},
   "outputs": [
    {
     "name": "stdout",
     "output_type": "stream",
     "text": [
      "rm -f -rf *~ *.o *.mod *.MOD *.i core.* *.out *.lst *.x *.x+orig *.x+[0-9]* *.dat *.report result_*.py report*.txt\n",
      "ftn -O3 -hfp3 -eZ -ffree -N255 -ec -eC -eI -eF -rm -h omp -c m_utils.F90\n",
      "ftn -O3 -hfp3 -eZ -ffree -N255 -ec -eC -eI -eF -rm -h omp -c m_partitioner.F90\n",
      "ftn -O3 -hfp3 -eZ -ffree -N255 -ec -eC -eI -eF -rm -h omp -c stencil2d-mpi.F90\n",
      "ftn -O3 -hfp3 -eZ -ffree -N255 -ec -eC -eI -eF -rm -h omp m_utils.o m_partitioner.o stencil2d-mpi.o -o stencil2d-mpi.x\n"
     ]
    },
    {
     "name": "stderr",
     "output_type": "stream",
     "text": [
      "INFO: creating the PerfTools-instrumented executable 'stencil2d-mpi.x' (lite-samples) ...OK\n"
     ]
    },
    {
     "name": "stdout",
     "output_type": "stream",
     "text": [
      "cp stencil2d-mpi.x stencil2d.x\n"
     ]
    }
   ],
   "source": [
    "%%bash\n",
    "module load daint-gpu\n",
    "module switch PrgEnv-gnu PrgEnv-cray\n",
    "module load perftools-lite\n",
    "\n",
    "make clean\n",
    "make VERSION=mpi"
   ]
  },
  {
   "cell_type": "code",
   "execution_count": 9,
   "id": "69cbc106-fb4c-4fde-8c8a-90570b47fc2f",
   "metadata": {},
   "outputs": [
    {
     "name": "stderr",
     "output_type": "stream",
     "text": [
      "CrayPat/X:  Version 21.09.0 Revision b02949528  08/17/21 03:14:02\n"
     ]
    }
   ],
   "source": [
    "%%bash\n",
    "srun -n 2 -c 6 ./stencil2d-mpi.x --nx 128 --ny 128 --nz 64 --num_iter 1024 > report_mpi.txt"
   ]
  },
  {
   "cell_type": "code",
   "execution_count": 10,
   "id": "b9cd10de-72b5-4333-ad1e-39e9db35d09b",
   "metadata": {},
   "outputs": [
    {
     "data": {
      "image/png": "[encoded data removed]",
      "text/plain": [
       "<Figure size 864x288 with 4 Axes>"
      ]
     },
     "metadata": {
      "needs_background": "light"
     },
     "output_type": "display_data"
    }
   ],
   "source": [
    "validate_results()"
   ]
  },
  {
   "cell_type": "markdown",
   "id": "44a99afa-dc1e-4db3-acb0-18b3e8f5e545",
   "metadata": {},
   "source": [
    "## mpi + omp\n",
    "using mpi to decompose the domain, and using omp to parallel k-loop"
   ]
  },
  {
   "cell_type": "code",
   "execution_count": 11,
   "id": "1206d739-25dd-4e4f-8bc2-243514632d50",
   "metadata": {},
   "outputs": [
    {
     "name": "stdout",
     "output_type": "stream",
     "text": [
      "rm -f -rf *~ *.o *.mod *.MOD *.i core.* *.out *.lst *.x *.x+orig *.x+[0-9]* *.dat *.report result_*.py report*.txt\n",
      "ftn -O3 -hfp3 -eZ -ffree -N255 -ec -eC -eI -eF -rm -h omp -c m_utils.F90\n",
      "ftn -O3 -hfp3 -eZ -ffree -N255 -ec -eC -eI -eF -rm -h omp -c m_partitioner.F90\n",
      "ftn -O3 -hfp3 -eZ -ffree -N255 -ec -eC -eI -eF -rm -h omp -c stencil2d-omp.F90\n",
      "ftn -O3 -hfp3 -eZ -ffree -N255 -ec -eC -eI -eF -rm -h omp m_utils.o m_partitioner.o stencil2d-omp.o -o stencil2d-omp.x\n"
     ]
    },
    {
     "name": "stderr",
     "output_type": "stream",
     "text": [
      "INFO: creating the PerfTools-instrumented executable 'stencil2d-omp.x' (lite-samples) ...OK\n"
     ]
    },
    {
     "name": "stdout",
     "output_type": "stream",
     "text": [
      "cp stencil2d-omp.x stencil2d.x\n"
     ]
    }
   ],
   "source": [
    "%%bash\n",
    "module load daint-gpu\n",
    "module switch PrgEnv-gnu PrgEnv-cray\n",
    "module load perftools-lite\n",
    "\n",
    "make clean\n",
    "make VERSION=omp"
   ]
  },
  {
   "cell_type": "code",
   "execution_count": 12,
   "id": "f0963d6f-6a40-4f56-bfeb-a8f7b918411f",
   "metadata": {},
   "outputs": [
    {
     "name": "stderr",
     "output_type": "stream",
     "text": [
      "CrayPat/X:  Version 21.09.0 Revision b02949528  08/17/21 03:14:02\n"
     ]
    }
   ],
   "source": [
    "%%bash\n",
    "export OMP_NUM_THREADS=6\n",
    "srun -n 2 -c 6 ./stencil2d-omp.x --nx 128 --ny 128 --nz 64 --num_iter 1024 > report_omp.txt"
   ]
  },
  {
   "cell_type": "code",
   "execution_count": 13,
   "id": "ebd9c823-2e94-4e74-94e5-1d8708c8de26",
   "metadata": {},
   "outputs": [
    {
     "data": {
      "image/png": "[encoded data removed]",
      "text/plain": [
       "<Figure size 864x288 with 4 Axes>"
      ]
     },
     "metadata": {
      "needs_background": "light"
     },
     "output_type": "display_data"
    }
   ],
   "source": [
    "validate_results()"
   ]
  },
  {
   "cell_type": "markdown",
   "id": "9fb2d160-4ba2-4cd9-b058-cbce36cb9dae",
   "metadata": {},
   "source": [
    "## mpi + omp + kblock\n",
    "mpi + omp, plus using k-block strategy in k-loop."
   ]
  },
  {
   "cell_type": "code",
   "execution_count": 14,
   "id": "dcf57e60-2b16-491c-b9bd-9138606d5a12",
   "metadata": {},
   "outputs": [
    {
     "name": "stdout",
     "output_type": "stream",
     "text": [
      "rm -f -rf *~ *.o *.mod *.MOD *.i core.* *.out *.lst *.x *.x+orig *.x+[0-9]* *.dat *.report result_*.py report*.txt\n",
      "ftn -O3 -hfp3 -eZ -ffree -N255 -ec -eC -eI -eF -rm -h omp -c m_utils.F90\n",
      "ftn -O3 -hfp3 -eZ -ffree -N255 -ec -eC -eI -eF -rm -h omp -c m_partitioner.F90\n",
      "ftn -O3 -hfp3 -eZ -ffree -N255 -ec -eC -eI -eF -rm -h omp -c stencil2d-kblock.F90\n",
      "ftn -O3 -hfp3 -eZ -ffree -N255 -ec -eC -eI -eF -rm -h omp m_utils.o m_partitioner.o stencil2d-kblock.o -o stencil2d-kblock.x\n"
     ]
    },
    {
     "name": "stderr",
     "output_type": "stream",
     "text": [
      "INFO: creating the PerfTools-instrumented executable 'stencil2d-kblock.x' (lite-samples) ...OK\n"
     ]
    },
    {
     "name": "stdout",
     "output_type": "stream",
     "text": [
      "cp stencil2d-kblock.x stencil2d.x\n"
     ]
    }
   ],
   "source": [
    "%%bash\n",
    "module load daint-gpu\n",
    "module switch PrgEnv-gnu PrgEnv-cray\n",
    "module load perftools-lite\n",
    "\n",
    "make clean\n",
    "make VERSION=kblock"
   ]
  },
  {
   "cell_type": "code",
   "execution_count": 15,
   "id": "847e7fff-2993-4ef7-b321-3693bc09a5e9",
   "metadata": {},
   "outputs": [
    {
     "name": "stderr",
     "output_type": "stream",
     "text": [
      "CrayPat/X:  Version 21.09.0 Revision b02949528  08/17/21 03:14:02\n"
     ]
    }
   ],
   "source": [
    "%%bash\n",
    "export OMP_NUM_THREADS=6\n",
    "srun -n 2 -c 6 ./stencil2d-kblock.x --nx 128 --ny 128 --nz 64 --num_iter 1024 > report_kblock.txt"
   ]
  },
  {
   "cell_type": "code",
   "execution_count": 16,
   "id": "c1061f82-62bf-4008-a319-24eb52b05bf8",
   "metadata": {},
   "outputs": [
    {
     "data": {
      "image/png": "[encoded data removed]",
      "text/plain": [
       "<Figure size 864x288 with 4 Axes>"
      ]
     },
     "metadata": {
      "needs_background": "light"
     },
     "output_type": "display_data"
    }
   ],
   "source": [
    "validate_results()"
   ]
  },
  {
   "cell_type": "markdown",
   "id": "162d8f8a-8eee-4e06-9de8-20141a481c8f",
   "metadata": {},
   "source": [
    "## inline\n",
    "mpi + omp + kblock implemented.\n",
    "\n",
    "the laplacian() function is also inlined."
   ]
  },
  {
   "cell_type": "code",
   "execution_count": 17,
   "id": "b1ddca83-630a-4d67-86c9-5433af574aee",
   "metadata": {},
   "outputs": [
    {
     "name": "stdout",
     "output_type": "stream",
     "text": [
      "rm -f -rf *~ *.o *.mod *.MOD *.i core.* *.out *.lst *.x *.x+orig *.x+[0-9]* *.dat *.report result_*.py report*.txt\n",
      "ftn -O3 -hfp3 -eZ -ffree -N255 -ec -eC -eI -eF -rm -h omp -c m_utils.F90\n",
      "ftn -O3 -hfp3 -eZ -ffree -N255 -ec -eC -eI -eF -rm -h omp -c m_partitioner.F90\n",
      "ftn -O3 -hfp3 -eZ -ffree -N255 -ec -eC -eI -eF -rm -h omp -c stencil2d-kblockin.F90\n",
      "ftn -O3 -hfp3 -eZ -ffree -N255 -ec -eC -eI -eF -rm -h omp m_utils.o m_partitioner.o stencil2d-kblockin.o -o stencil2d-kblockin.x\n"
     ]
    },
    {
     "name": "stderr",
     "output_type": "stream",
     "text": [
      "INFO: creating the PerfTools-instrumented executable 'stencil2d-kblockin.x' (lite-samples) ...OK\n"
     ]
    },
    {
     "name": "stdout",
     "output_type": "stream",
     "text": [
      "cp stencil2d-kblockin.x stencil2d.x\n"
     ]
    }
   ],
   "source": [
    "%%bash\n",
    "module load daint-gpu\n",
    "module switch PrgEnv-gnu PrgEnv-cray\n",
    "module load perftools-lite\n",
    "\n",
    "make clean\n",
    "make VERSION=kblockin"
   ]
  },
  {
   "cell_type": "code",
   "execution_count": 18,
   "id": "c1cf934c-3f6d-451d-b11b-948871914e2c",
   "metadata": {},
   "outputs": [
    {
     "name": "stderr",
     "output_type": "stream",
     "text": [
      "CrayPat/X:  Version 21.09.0 Revision b02949528  08/17/21 03:14:02\n"
     ]
    }
   ],
   "source": [
    "%%bash\n",
    "export OMP_NUM_THREADS=6\n",
    "srun -n 2 -c 6 ./stencil2d-kblockin.x --nx 128 --ny 128 --nz 64 --num_iter 1024 > report_kblockin.txt"
   ]
  },
  {
   "cell_type": "code",
   "execution_count": 19,
   "id": "e35d1ac2-3660-48d4-af6e-d2711cfa5f00",
   "metadata": {},
   "outputs": [
    {
     "data": {
      "image/png": "[encoded data removed]",
      "text/plain": [
       "<Figure size 864x288 with 4 Axes>"
      ]
     },
     "metadata": {
      "needs_background": "light"
     },
     "output_type": "display_data"
    }
   ],
   "source": [
    "validate_results()"
   ]
  },
  {
   "cell_type": "markdown",
   "id": "ec2dcf11-71f1-4c04-bc21-444ad0975161",
   "metadata": {},
   "source": [
    "## on the fly\n",
    "\n",
    "the previous codes all use pre-computation strategy, which means that a temporary field storing the first laplacian is first computed before the second laplacian is computed. On the contrary, this on-the-fly version combines two laplacian, and no temporary field is computed or stored."
   ]
  },
  {
   "cell_type": "code",
   "execution_count": 20,
   "id": "85654fbc-9875-42f6-8fc2-8ba250323c6f",
   "metadata": {},
   "outputs": [
    {
     "name": "stdout",
     "output_type": "stream",
     "text": [
      "rm -f -rf *~ *.o *.mod *.MOD *.i core.* *.out *.lst *.x *.x+orig *.x+[0-9]* *.dat *.report result_*.py report*.txt\n",
      "ftn -O3 -hfp3 -eZ -ffree -N255 -ec -eC -eI -eF -rm -h omp -c m_utils.F90\n",
      "ftn -O3 -hfp3 -eZ -ffree -N255 -ec -eC -eI -eF -rm -h omp -c m_partitioner.F90\n",
      "ftn -O3 -hfp3 -eZ -ffree -N255 -ec -eC -eI -eF -rm -h omp -c stencil2d-onfly.F90\n",
      "ftn -O3 -hfp3 -eZ -ffree -N255 -ec -eC -eI -eF -rm -h omp m_utils.o m_partitioner.o stencil2d-onfly.o -o stencil2d-onfly.x\n"
     ]
    },
    {
     "name": "stderr",
     "output_type": "stream",
     "text": [
      "INFO: creating the PerfTools-instrumented executable 'stencil2d-onfly.x' (lite-samples) ...OK\n"
     ]
    },
    {
     "name": "stdout",
     "output_type": "stream",
     "text": [
      "cp stencil2d-onfly.x stencil2d.x\n"
     ]
    }
   ],
   "source": [
    "%%bash\n",
    "module load daint-gpu\n",
    "module switch PrgEnv-gnu PrgEnv-cray\n",
    "module load perftools-lite\n",
    "\n",
    "make clean\n",
    "make VERSION=onfly"
   ]
  },
  {
   "cell_type": "code",
   "execution_count": 21,
   "id": "0069e81e-9d19-43de-b5f8-ee79138a6703",
   "metadata": {},
   "outputs": [
    {
     "name": "stderr",
     "output_type": "stream",
     "text": [
      "CrayPat/X:  Version 21.09.0 Revision b02949528  08/17/21 03:14:02\n"
     ]
    }
   ],
   "source": [
    "%%bash\n",
    "export OMP_NUM_THREADS=6\n",
    "srun -n 2 -c 6 ./stencil2d-onfly.x --nx 128 --ny 128 --nz 64 --num_iter 1024 > report_mpi_onfly.txt"
   ]
  },
  {
   "cell_type": "code",
   "execution_count": 22,
   "id": "4dfa281b-b048-4bef-9981-68444b47da13",
   "metadata": {},
   "outputs": [
    {
     "data": {
      "image/png": "[encoded data removed]",
      "text/plain": [
       "<Figure size 864x288 with 4 Axes>"
      ]
     },
     "metadata": {
      "needs_background": "light"
     },
     "output_type": "display_data"
    }
   ],
   "source": [
    "validate_results()"
   ]
  },
  {
   "cell_type": "markdown",
   "id": "6fe8edf3-8269-4391-a709-d478cfc4334e",
   "metadata": {
    "tags": []
   },
   "source": [
    "# Formal experiment (1 node)"
   ]
  },
  {
   "cell_type": "markdown",
   "id": "c106e8ed-3901-45aa-b951-3d4457851c1d",
   "metadata": {
    "tags": []
   },
   "source": [
    "## default dimension (128\\*128\\*64)"
   ]
  },
  {
   "cell_type": "markdown",
   "id": "6622e2d4-96b1-407e-99ff-37ad46fb6b73",
   "metadata": {},
   "source": [
    "### baseline"
   ]
  },
  {
   "cell_type": "code",
   "execution_count": 81,
   "id": "91344d73-96bc-49cf-8d2a-655fe7db6e1a",
   "metadata": {},
   "outputs": [
    {
     "name": "stdout",
     "output_type": "stream",
     "text": [
      "rm -f -rf *~ *.o *.mod *.MOD *.i core.* *.out *.lst *.x *.x+orig *.x+[0-9]* *.dat *.report result_*.py report*.txt\n"
     ]
    }
   ],
   "source": [
    "%%bash\n",
    "make clean"
   ]
  },
  {
   "cell_type": "code",
   "execution_count": 1,
   "id": "6a279931-52e5-4f08-900c-8607b1b8c80b",
   "metadata": {},
   "outputs": [
    {
     "name": "stdout",
     "output_type": "stream",
     "text": [
      "ftn -O3 -hfp3 -eZ -ffree -N255 -ec -eC -eI -eF -rm -h omp -c m_utils.F90\n",
      "ftn -O3 -hfp3 -eZ -ffree -N255 -ec -eC -eI -eF -rm -h omp -c m_partitioner.F90\n",
      "ftn -O3 -hfp3 -eZ -ffree -N255 -ec -eC -eI -eF -rm -h omp -c stencil2d-orig.F90\n",
      "ftn -O3 -hfp3 -eZ -ffree -N255 -ec -eC -eI -eF -rm -h omp m_utils.o m_partitioner.o stencil2d-orig.o -o stencil2d-orig.x\n",
      "cp stencil2d-orig.x stencil2d.x\n"
     ]
    }
   ],
   "source": [
    "%%bash\n",
    "module load daint-gpu\n",
    "module switch PrgEnv-gnu PrgEnv-cray\n",
    "\n",
    "make VERSION=orig"
   ]
  },
  {
   "cell_type": "code",
   "execution_count": 6,
   "id": "283f762a-9c7b-42a0-8305-3b5f2a688a89",
   "metadata": {
    "tags": []
   },
   "outputs": [
    {
     "name": "stderr",
     "output_type": "stream",
     "text": [
      "srun: Job 48860546 step creation temporarily disabled, retrying (Requested nodes are busy)\n",
      "srun: Job 48860546 step creation temporarily disabled, retrying (Requested nodes are busy)\n",
      "srun: Job 48860546 step creation temporarily disabled, retrying (Requested nodes are busy)\n",
      "srun: Step created for job 48860546\n",
      "srun: Step created for job 48860546\n",
      "srun: Job 48860546 step creation still disabled, retrying (Requested nodes are busy)\n",
      "srun: Job 48860546 step creation temporarily disabled, retrying (Requested nodes are busy)\n",
      "srun: Job 48860546 step creation still disabled, retrying (Requested nodes are busy)\n",
      "srun: Step created for job 48860546\n",
      "srun: Job 48860546 step creation still disabled, retrying (Requested nodes are busy)\n",
      "srun: Job 48860546 step creation temporarily disabled, retrying (Requested nodes are busy)\n",
      "srun: Job 48860546 step creation still disabled, retrying (Requested nodes are busy)\n",
      "srun: Job 48860546 step creation still disabled, retrying (Requested nodes are busy)\n",
      "srun: Job 48860546 step creation temporarily disabled, retrying (Requested nodes are busy)\n",
      "srun: Step created for job 48860546\n",
      "srun: Step created for job 48860546\n",
      "srun: Job 48860546 step creation still disabled, retrying (Requested nodes are busy)\n",
      "srun: Job 48860546 step creation temporarily disabled, retrying (Requested nodes are busy)\n",
      "srun: Step created for job 48860546\n",
      "srun: Job 48860546 step creation still disabled, retrying (Requested nodes are busy)\n",
      "srun: Job 48860546 step creation temporarily disabled, retrying (Requested nodes are busy)\n",
      "srun: Step created for job 48860546\n",
      "srun: Job 48860546 step creation still disabled, retrying (Requested nodes are busy)\n",
      "srun: Job 48860546 step creation temporarily disabled, retrying (Requested nodes are busy)\n",
      "srun: Job 48860546 step creation temporarily disabled, retrying (Requested nodes are busy)\n",
      "srun: Job 48860546 step creation still disabled, retrying (Requested nodes are busy)\n",
      "srun: Job 48860546 step creation still disabled, retrying (Requested nodes are busy)\n",
      "srun: Step created for job 48860546\n",
      "srun: Job 48860546 step creation still disabled, retrying (Requested nodes are busy)\n",
      "srun: Step created for job 48860546\n",
      "WARNING: Requested total thread count and/or thread affinity may result in\n",
      "oversubscription of available CPU resources!  Performance may be degraded.\n",
      "Explicitly set OMP_WAIT_POLICY=PASSIVE or ACTIVE to suppress this message.\n",
      "Set CRAY_OMP_CHECK_AFFINITY=TRUE to print detailed thread-affinity messages.\n",
      "srun: Job 48860546 step creation temporarily disabled, retrying (Requested nodes are busy)\n",
      "srun: Job 48860546 step creation still disabled, retrying (Requested nodes are busy)\n",
      "srun: Job 48860546 step creation temporarily disabled, retrying (Requested nodes are busy)\n",
      "srun: Step created for job 48860546\n",
      "srun: Job 48860546 step creation still disabled, retrying (Requested nodes are busy)\n",
      "srun: Job 48860546 step creation still disabled, retrying (Requested nodes are busy)\n",
      "srun: Job 48860546 step creation temporarily disabled, retrying (Requested nodes are busy)\n",
      "srun: Step created for job 48860546\n",
      "srun: Job 48860546 step creation still disabled, retrying (Requested nodes are busy)\n",
      "srun: Job 48860546 step creation still disabled, retrying (Requested nodes are busy)\n",
      "srun: Step created for job 48860546\n",
      "srun: Step created for job 48860546\n",
      "srun: Job 48860546 step creation temporarily disabled, retrying (Requested nodes are busy)\n",
      "srun: Job 48860546 step creation temporarily disabled, retrying (Requested nodes are busy)\n",
      "srun: Job 48860546 step creation still disabled, retrying (Requested nodes are busy)\n",
      "srun: Step created for job 48860546\n",
      "srun: Job 48860546 step creation still disabled, retrying (Requested nodes are busy)\n",
      "srun: Job 48860546 step creation temporarily disabled, retrying (Requested nodes are busy)\n",
      "srun: Step created for job 48860546\n",
      "srun: Job 48860546 step creation still disabled, retrying (Requested nodes are busy)\n",
      "srun: Job 48860546 step creation still disabled, retrying (Requested nodes are busy)\n",
      "srun: Job 48860546 step creation temporarily disabled, retrying (Requested nodes are busy)\n",
      "srun: Step created for job 48860546\n",
      "srun: Job 48860546 step creation still disabled, retrying (Requested nodes are busy)\n",
      "srun: Step created for job 48860546\n",
      "srun: Job 48860546 step creation temporarily disabled, retrying (Requested nodes are busy)\n",
      "srun: Step created for job 48860546\n",
      "srun: Job 48860546 step creation temporarily disabled, retrying (Requested nodes are busy)\n",
      "srun: Job 48860546 step creation temporarily disabled, retrying (Requested nodes are busy)\n",
      "srun: Step created for job 48860546\n",
      "srun: Step created for job 48860546\n",
      "srun: Job 48860546 step creation temporarily disabled, retrying (Requested nodes are busy)\n",
      "srun: Step created for job 48860546\n",
      "srun: Job 48860546 step creation temporarily disabled, retrying (Requested nodes are busy)\n",
      "srun: Job 48860546 step creation temporarily disabled, retrying (Requested nodes are busy)\n",
      "srun: Step created for job 48860546\n",
      "srun: Job 48860546 step creation temporarily disabled, retrying (Requested nodes are busy)\n",
      "srun: Step created for job 48860546\n"
     ]
    },
    {
     "name": "stdout",
     "output_type": "stream",
     "text": [
      "Error while terminating subprocess (pid=16137): \n"
     ]
    }
   ],
   "source": [
    "%%bash\n",
    "rm outputs/out_baseline.txt\n",
    "ranks=(2 3 4 6 8 12)\n",
    "for index in ${!ranks[*]} ; do\n",
    "  nrank=${ranks[$index]}\n",
    "  max_thread=$((24/$nrank))\n",
    "  echo \"out_$nrank = [None] * ($max_thread+1)\" >> outputs/out_baseline.txt\n",
    "  for nthreads in `seq 1 $max_thread` ; do\n",
    "    export OMP_NUM_THREADS=$nthreads\n",
    "    ncores=$nthreads\n",
    "    if [ $nthreads -gt 24 ] ; then\n",
    "      ncores=24\n",
    "    fi\n",
    "    srun -n $nrank -c $ncores ./stencil2d-orig.x --nx 128 --ny 128 --nz 64 --num_iter 1024 >> outputs/out_baseline.txt\n",
    "  done\n",
    "done"
   ]
  },
  {
   "cell_type": "code",
   "execution_count": 4,
   "id": "7c9cdbe2-a9fe-4b19-b935-b39a5b82d5f0",
   "metadata": {},
   "outputs": [
    {
     "ename": "NameError",
     "evalue": "name 'np' is not defined",
     "output_type": "error",
     "traceback": [
      "\u001b[0;31m---------------------------------------------------------------------------\u001b[0m",
      "\u001b[0;31mNameError\u001b[0m                                 Traceback (most recent call last)",
      "Input \u001b[0;32mIn [4]\u001b[0m, in \u001b[0;36m<module>\u001b[0;34m\u001b[0m\n\u001b[0;32m----> 1\u001b[0m \u001b[43mexec\u001b[49m\u001b[43m(\u001b[49m\u001b[38;5;28;43mopen\u001b[39;49m\u001b[43m(\u001b[49m\u001b[38;5;124;43m\"\u001b[39;49m\u001b[38;5;124;43moutputs/out_baseline.txt\u001b[39;49m\u001b[38;5;124;43m\"\u001b[39;49m\u001b[43m,\u001b[49m\u001b[43m \u001b[49m\u001b[38;5;124;43m\"\u001b[39;49m\u001b[38;5;124;43mr\u001b[39;49m\u001b[38;5;124;43m\"\u001b[39;49m\u001b[43m)\u001b[49m\u001b[38;5;241;43m.\u001b[39;49m\u001b[43mread\u001b[49m\u001b[43m(\u001b[49m\u001b[43m)\u001b[49m\u001b[43m)\u001b[49m\n",
      "File \u001b[0;32m<string>:3\u001b[0m, in \u001b[0;36m<module>\u001b[0;34m\u001b[0m\n",
      "\u001b[0;31mNameError\u001b[0m: name 'np' is not defined"
     ]
    }
   ],
   "source": [
    "exec(open(\"outputs/out_baseline.txt\", \"r\").read())"
   ]
  },
  {
   "cell_type": "markdown",
   "id": "5c5cf539-2486-4f3e-9dec-2d1aa3fcdf6f",
   "metadata": {
    "tags": []
   },
   "source": [
    "### mpi"
   ]
  },
  {
   "cell_type": "code",
   "execution_count": 19,
   "id": "3cfe99b4-f7b7-4da4-959c-392f59e594d0",
   "metadata": {},
   "outputs": [
    {
     "name": "stdout",
     "output_type": "stream",
     "text": [
      "ftn -O3 -hfp3 -eZ -ffree -N255 -ec -eC -eI -eF -rm -h omp -c stencil2d-mpi.F90\n",
      "ftn -O3 -hfp3 -eZ -ffree -N255 -ec -eC -eI -eF -rm -h omp m_utils.o m_partitioner.o stencil2d-mpi.o -o stencil2d-mpi.x\n",
      "cp stencil2d-mpi.x stencil2d.x\n"
     ]
    }
   ],
   "source": [
    "%%bash\n",
    "module load daint-gpu\n",
    "module switch PrgEnv-gnu PrgEnv-cray\n",
    "\n",
    "make VERSION=mpi"
   ]
  },
  {
   "cell_type": "code",
   "execution_count": 20,
   "id": "28908f20-fd1c-4524-9b4c-8e7481fa9d58",
   "metadata": {},
   "outputs": [
    {
     "name": "stderr",
     "output_type": "stream",
     "text": [
      "rm: cannot remove 'out_mpi.txt': No such file or directory\n",
      "srun: Job 48087435 step creation temporarily disabled, retrying (Requested nodes are busy)\n",
      "srun: Step created for job 48087435\n",
      "WARNING: Requested total thread count and/or thread affinity may result in\n",
      "oversubscription of available CPU resources!  Performance may be degraded.\n",
      "Explicitly set OMP_WAIT_POLICY=PASSIVE or ACTIVE to suppress this message.\n",
      "Set CRAY_OMP_CHECK_AFFINITY=TRUE to print detailed thread-affinity messages.\n"
     ]
    }
   ],
   "source": [
    "%%bash\n",
    "rm outputs/out_mpi.txt\n",
    "ranks=(2 3 4 6 8 12)\n",
    "for index in ${!ranks[*]} ; do\n",
    "  nrank=${ranks[$index]}\n",
    "  max_thread=$((24/$nrank))\n",
    "  echo \"out_$nrank = [None] * ($max_thread+1)\" >> outputs/out_mpi.txt\n",
    "  for nthreads in `seq 1 $max_thread` ; do\n",
    "    export OMP_NUM_THREADS=$nthreads\n",
    "    ncores=$nthreads\n",
    "    if [ $nthreads -gt 24 ] ; then\n",
    "      ncores=24\n",
    "    fi\n",
    "    srun -n $nrank -c $ncores ./stencil2d-mpi.x --nx 128 --ny 128 --nz 64 --num_iter 1024 >> outputs/out_mpi.txt\n",
    "  done\n",
    "done"
   ]
  },
  {
   "cell_type": "markdown",
   "id": "6f182cbd-182d-417a-845a-f20bc9c3c074",
   "metadata": {
    "jupyter": {
     "outputs_hidden": true
    },
    "tags": []
   },
   "source": [
    "### omp"
   ]
  },
  {
   "cell_type": "code",
   "execution_count": 2,
   "id": "21710820-1a81-4092-ac18-b8fafc9598ac",
   "metadata": {
    "tags": []
   },
   "outputs": [
    {
     "name": "stdout",
     "output_type": "stream",
     "text": [
      "ftn -O3 -hfp3 -eZ -ffree -N255 -ec -eC -eI -eF -rm -h omp -c stencil2d-omp.F90\n",
      "ftn -O3 -hfp3 -eZ -ffree -N255 -ec -eC -eI -eF -rm -h omp m_utils.o m_partitioner.o stencil2d-omp.o -o stencil2d-omp.x\n",
      "cp stencil2d-omp.x stencil2d.x\n"
     ]
    }
   ],
   "source": [
    "%%bash\n",
    "module load daint-gpu\n",
    "module switch PrgEnv-gnu PrgEnv-cray\n",
    "\n",
    "make VERSION=omp"
   ]
  },
  {
   "cell_type": "code",
   "execution_count": 51,
   "id": "b91553ad-5b79-440c-8bfc-6f0016d913ce",
   "metadata": {},
   "outputs": [],
   "source": [
    "%%bash\n",
    "srun -n 2 -c 6 ./stencil2d-omp.x --nx 128 --ny 128 --nz 64 --num_iter 1024 > outputs/out_omp.txt"
   ]
  },
  {
   "cell_type": "code",
   "execution_count": 52,
   "id": "fc750483-6144-4f99-b0fd-a23459b9533b",
   "metadata": {
    "collapsed": true,
    "jupyter": {
     "outputs_hidden": true
    },
    "tags": []
   },
   "outputs": [
    {
     "name": "stderr",
     "output_type": "stream",
     "text": [
      "srun: Job 48072729 step creation temporarily disabled, retrying (Requested nodes are busy)\n",
      "srun: Step created for job 48072729\n",
      "srun: Job 48072729 step creation temporarily disabled, retrying (Requested nodes are busy)\n",
      "srun: Step created for job 48072729\n",
      "srun: Job 48072729 step creation temporarily disabled, retrying (Requested nodes are busy)\n",
      "srun: Step created for job 48072729\n",
      "srun: Job 48072729 step creation temporarily disabled, retrying (Requested nodes are busy)\n",
      "srun: Step created for job 48072729\n",
      "WARNING: Requested total thread count and/or thread affinity may result in\n",
      "oversubscription of available CPU resources!  Performance may be degraded.\n",
      "Explicitly set OMP_WAIT_POLICY=PASSIVE or ACTIVE to suppress this message.\n",
      "Set CRAY_OMP_CHECK_AFFINITY=TRUE to print detailed thread-affinity messages.\n",
      "WARNING: Requested total thread count and/or thread affinity may result in\n",
      "oversubscription of available CPU resources!  Performance may be degraded.\n",
      "Explicitly set OMP_WAIT_POLICY=PASSIVE or ACTIVE to suppress this message.\n",
      "Set CRAY_OMP_CHECK_AFFINITY=TRUE to print detailed thread-affinity messages.\n",
      "WARNING: Requested total thread count and/or thread affinity may result in\n",
      "oversubscription of available CPU resources!  Performance may be degraded.\n",
      "Explicitly set OMP_WAIT_POLICY=PASSIVE or ACTIVE to suppress this message.\n",
      "Set CRAY_OMP_CHECK_AFFINITY=TRUE to print detailed thread-affinity messages.\n",
      "WARNING: Requested total thread count and/or thread affinity may result in\n",
      "oversubscription of available CPU resources!  Performance may be degraded.\n",
      "Explicitly set OMP_WAIT_POLICY=PASSIVE or ACTIVE to suppress this message.\n",
      "Set CRAY_OMP_CHECK_AFFINITY=TRUE to print detailed thread-affinity messages.\n",
      "WARNING: Requested total thread count and/or thread affinity may result in\n",
      "oversubscription of available CPU resources!  Performance may be degraded.\n",
      "Explicitly set OMP_WAIT_POLICY=PASSIVE or ACTIVE to suppress this message.\n",
      "Set CRAY_OMP_CHECK_AFFINITY=TRUE to print detailed thread-affinity messages.\n",
      "WARNING: Requested total thread count and/or thread affinity may result in\n",
      "oversubscription of available CPU resources!  Performance may be degraded.\n",
      "Explicitly set OMP_WAIT_POLICY=PASSIVE or ACTIVE to suppress this message.\n",
      "Set CRAY_OMP_CHECK_AFFINITY=TRUE to print detailed thread-affinity messages.\n",
      "WARNING: Requested total thread count and/or thread affinity may result in\n",
      "oversubscription of available CPU resources!  Performance may be degraded.\n",
      "Explicitly set OMP_WAIT_POLICY=PASSIVE or ACTIVE to suppress this message.\n",
      "Set CRAY_OMP_CHECK_AFFINITY=TRUE to print detailed thread-affinity messages.\n",
      "WARNING: Requested total thread count and/or thread affinity may result in\n",
      "oversubscription of available CPU resources!  Performance may be degraded.\n",
      "Explicitly set OMP_WAIT_POLICY=PASSIVE or ACTIVE to suppress this message.\n",
      "Set CRAY_OMP_CHECK_AFFINITY=TRUE to print detailed thread-affinity messages.\n"
     ]
    }
   ],
   "source": [
    "%%bash\n",
    "rm outputs/out_omp.txt\n",
    "ranks=(2 3 4 6 8 12)\n",
    "for index in ${!ranks[*]} ; do\n",
    "  nrank=${ranks[$index]}\n",
    "  max_thread=$((24/$nrank))\n",
    "  echo \"out_$nrank = [None] * ($max_thread+1)\" >> outputs/out_omp.txt\n",
    "  for nthreads in `seq 1 $max_thread` ; do\n",
    "    export OMP_NUM_THREADS=$nthreads\n",
    "    ncores=$nthreads\n",
    "    if [ $nthreads -gt 24 ] ; then\n",
    "      ncores=24\n",
    "    fi\n",
    "    srun -n $nrank -c $ncores ./stencil2d-omp.x --nx 128 --ny 128 --nz 64 --num_iter 1024 >> outputs/out_omp.txt\n",
    "  done\n",
    "done"
   ]
  },
  {
   "cell_type": "markdown",
   "id": "0eee728f-33d2-42be-b581-6b9cd7abe097",
   "metadata": {
    "tags": []
   },
   "source": [
    "### kblock"
   ]
  },
  {
   "cell_type": "code",
   "execution_count": 6,
   "id": "1e3eeac7-6172-4653-9ce6-fc189332fb39",
   "metadata": {
    "tags": []
   },
   "outputs": [
    {
     "name": "stdout",
     "output_type": "stream",
     "text": [
      "ftn -O3 -hfp3 -eZ -ffree -N255 -ec -eC -eI -eF -rm -h omp -c stencil2d-kblock.F90\n",
      "ftn -O3 -hfp3 -eZ -ffree -N255 -ec -eC -eI -eF -rm -h omp m_utils.o m_partitioner.o stencil2d-kblock.o -o stencil2d-kblock.x\n",
      "cp stencil2d-kblock.x stencil2d.x\n"
     ]
    }
   ],
   "source": [
    "%%bash\n",
    "module load daint-gpu\n",
    "module switch PrgEnv-gnu PrgEnv-cray\n",
    "\n",
    "make VERSION=kblock"
   ]
  },
  {
   "cell_type": "code",
   "execution_count": 7,
   "id": "32a5f67a-2eb0-4202-a098-dcddc3de29c5",
   "metadata": {
    "tags": []
   },
   "outputs": [],
   "source": [
    "%%bash\n",
    "srun -n 2 -c 6 ./stencil2d-kblock.x --nx 128 --ny 128 --nz 64 --num_iter 1024 > outputs/out_kblock.txt"
   ]
  },
  {
   "cell_type": "code",
   "execution_count": 8,
   "id": "e9317014-9146-4d68-8a5a-60f0c4ffd833",
   "metadata": {
    "tags": []
   },
   "outputs": [
    {
     "name": "stderr",
     "output_type": "stream",
     "text": [
      "WARNING: Requested total thread count and/or thread affinity may result in\n",
      "oversubscription of available CPU resources!  Performance may be degraded.\n",
      "Explicitly set OMP_WAIT_POLICY=PASSIVE or ACTIVE to suppress this message.\n",
      "Set CRAY_OMP_CHECK_AFFINITY=TRUE to print detailed thread-affinity messages.\n",
      "WARNING: Requested total thread count and/or thread affinity may result in\n",
      "oversubscription of available CPU resources!  Performance may be degraded.\n",
      "Explicitly set OMP_WAIT_POLICY=PASSIVE or ACTIVE to suppress this message.\n",
      "Set CRAY_OMP_CHECK_AFFINITY=TRUE to print detailed thread-affinity messages.\n",
      "WARNING: Requested total thread count and/or thread affinity may result in\n",
      "oversubscription of available CPU resources!  Performance may be degraded.\n",
      "Explicitly set OMP_WAIT_POLICY=PASSIVE or ACTIVE to suppress this message.\n",
      "Set CRAY_OMP_CHECK_AFFINITY=TRUE to print detailed thread-affinity messages.\n",
      "WARNING: Requested total thread count and/or thread affinity may result in\n",
      "oversubscription of available CPU resources!  Performance may be degraded.\n",
      "Explicitly set OMP_WAIT_POLICY=PASSIVE or ACTIVE to suppress this message.\n",
      "Set CRAY_OMP_CHECK_AFFINITY=TRUE to print detailed thread-affinity messages.\n",
      "WARNING: Requested total thread count and/or thread affinity may result in\n",
      "oversubscription of available CPU resources!  Performance may be degraded.\n",
      "Explicitly set OMP_WAIT_POLICY=PASSIVE or ACTIVE to suppress this message.\n",
      "Set CRAY_OMP_CHECK_AFFINITY=TRUE to print detailed thread-affinity messages.\n",
      "WARNING: Requested total thread count and/or thread affinity may result in\n",
      "oversubscription of available CPU resources!  Performance may be degraded.\n",
      "Explicitly set OMP_WAIT_POLICY=PASSIVE or ACTIVE to suppress this message.\n",
      "Set CRAY_OMP_CHECK_AFFINITY=TRUE to print detailed thread-affinity messages.\n",
      "WARNING: Requested total thread count and/or thread affinity may result in\n",
      "oversubscription of available CPU resources!  Performance may be degraded.\n",
      "Explicitly set OMP_WAIT_POLICY=PASSIVE or ACTIVE to suppress this message.\n",
      "Set CRAY_OMP_CHECK_AFFINITY=TRUE to print detailed thread-affinity messages.\n",
      "WARNING: Requested total thread count and/or thread affinity may result in\n",
      "oversubscription of available CPU resources!  Performance may be degraded.\n",
      "Explicitly set OMP_WAIT_POLICY=PASSIVE or ACTIVE to suppress this message.\n",
      "Set CRAY_OMP_CHECK_AFFINITY=TRUE to print detailed thread-affinity messages.\n"
     ]
    }
   ],
   "source": [
    "%%bash\n",
    "rm outputs/out_kblock.txt\n",
    "ranks=(2 3 4 6 8 12)\n",
    "for index in ${!ranks[*]} ; do\n",
    "  nrank=${ranks[$index]}\n",
    "  max_thread=$((24/$nrank))\n",
    "  echo \"out_$nrank = [None] * ($max_thread+1)\" >> outputs/out_kblock.txt\n",
    "  for nthreads in `seq 1 $max_thread` ; do\n",
    "    export OMP_NUM_THREADS=$nthreads\n",
    "    ncores=$nthreads\n",
    "    if [ $nthreads -gt 24 ] ; then\n",
    "      ncores=24\n",
    "    fi\n",
    "    srun -n $nrank -c $ncores ./stencil2d-kblock.x --nx 128 --ny 128 --nz 64 --num_iter 1024 >> outputs/out_kblock.txt\n",
    "  done\n",
    "done"
   ]
  },
  {
   "cell_type": "markdown",
   "id": "9a500a4b-3f93-48cc-acec-c4d950bb1ccf",
   "metadata": {
    "tags": []
   },
   "source": [
    "### kblock-inline"
   ]
  },
  {
   "cell_type": "code",
   "execution_count": 11,
   "id": "394d16cf-5f14-4b4f-9898-cb4e6ff8ec83",
   "metadata": {},
   "outputs": [
    {
     "name": "stdout",
     "output_type": "stream",
     "text": [
      "ftn -O3 -hfp3 -eZ -ffree -N255 -ec -eC -eI -eF -rm -h omp -c stencil2d-kblockin.F90\n",
      "ftn -O3 -hfp3 -eZ -ffree -N255 -ec -eC -eI -eF -rm -h omp m_utils.o m_partitioner.o stencil2d-kblockin.o -o stencil2d-kblockin.x\n",
      "cp stencil2d-kblockin.x stencil2d.x\n"
     ]
    }
   ],
   "source": [
    "%%bash\n",
    "module load daint-gpu\n",
    "module switch PrgEnv-gnu PrgEnv-cray\n",
    "\n",
    "make VERSION=kblockin"
   ]
  },
  {
   "cell_type": "code",
   "execution_count": 12,
   "id": "98464f22-b605-4655-8cf3-77c0c005a0b6",
   "metadata": {},
   "outputs": [],
   "source": [
    "%%bash\n",
    "srun -n 2 -c 6 ./stencil2d-kblockin.x --nx 128 --ny 128 --nz 64 --num_iter 1024 > outputs/out_kblockin.txt"
   ]
  },
  {
   "cell_type": "code",
   "execution_count": 13,
   "id": "edb56ac4-853e-41b5-9622-27d24926efc5",
   "metadata": {},
   "outputs": [
    {
     "name": "stderr",
     "output_type": "stream",
     "text": [
      "srun: Job 48087435 step creation temporarily disabled, retrying (Requested nodes are busy)\n",
      "srun: Step created for job 48087435\n",
      "WARNING: Requested total thread count and/or thread affinity may result in\n",
      "oversubscription of available CPU resources!  Performance may be degraded.\n",
      "Explicitly set OMP_WAIT_POLICY=PASSIVE or ACTIVE to suppress this message.\n",
      "Set CRAY_OMP_CHECK_AFFINITY=TRUE to print detailed thread-affinity messages.\n",
      "WARNING: Requested total thread count and/or thread affinity may result in\n",
      "oversubscription of available CPU resources!  Performance may be degraded.\n",
      "Explicitly set OMP_WAIT_POLICY=PASSIVE or ACTIVE to suppress this message.\n",
      "Set CRAY_OMP_CHECK_AFFINITY=TRUE to print detailed thread-affinity messages.\n",
      "WARNING: Requested total thread count and/or thread affinity may result in\n",
      "oversubscription of available CPU resources!  Performance may be degraded.\n",
      "Explicitly set OMP_WAIT_POLICY=PASSIVE or ACTIVE to suppress this message.\n",
      "Set CRAY_OMP_CHECK_AFFINITY=TRUE to print detailed thread-affinity messages.\n",
      "WARNING: Requested total thread count and/or thread affinity may result in\n",
      "oversubscription of available CPU resources!  Performance may be degraded.\n",
      "Explicitly set OMP_WAIT_POLICY=PASSIVE or ACTIVE to suppress this message.\n",
      "Set CRAY_OMP_CHECK_AFFINITY=TRUE to print detailed thread-affinity messages.\n",
      "WARNING: Requested total thread count and/or thread affinity may result in\n",
      "oversubscription of available CPU resources!  Performance may be degraded.\n",
      "Explicitly set OMP_WAIT_POLICY=PASSIVE or ACTIVE to suppress this message.\n",
      "Set CRAY_OMP_CHECK_AFFINITY=TRUE to print detailed thread-affinity messages.\n",
      "WARNING: Requested total thread count and/or thread affinity may result in\n",
      "oversubscription of available CPU resources!  Performance may be degraded.\n",
      "Explicitly set OMP_WAIT_POLICY=PASSIVE or ACTIVE to suppress this message.\n",
      "Set CRAY_OMP_CHECK_AFFINITY=TRUE to print detailed thread-affinity messages.\n",
      "WARNING: Requested total thread count and/or thread affinity may result in\n",
      "oversubscription of available CPU resources!  Performance may be degraded.\n",
      "Explicitly set OMP_WAIT_POLICY=PASSIVE or ACTIVE to suppress this message.\n",
      "Set CRAY_OMP_CHECK_AFFINITY=TRUE to print detailed thread-affinity messages.\n",
      "WARNING: Requested total thread count and/or thread affinity may result in\n",
      "oversubscription of available CPU resources!  Performance may be degraded.\n",
      "Explicitly set OMP_WAIT_POLICY=PASSIVE or ACTIVE to suppress this message.\n",
      "Set CRAY_OMP_CHECK_AFFINITY=TRUE to print detailed thread-affinity messages.\n"
     ]
    }
   ],
   "source": [
    "%%bash\n",
    "rm outputs/out_kblockin.txt\n",
    "ranks=(2 3 4 6 8 12)\n",
    "for index in ${!ranks[*]} ; do\n",
    "  nrank=${ranks[$index]}\n",
    "  max_thread=$((24/$nrank))\n",
    "  echo \"out_$nrank = [None] * ($max_thread+1)\" >> outputs/out_kblockin.txt\n",
    "  for nthreads in `seq 1 $max_thread` ; do\n",
    "    export OMP_NUM_THREADS=$nthreads\n",
    "    ncores=$nthreads\n",
    "    if [ $nthreads -gt 24 ] ; then\n",
    "      ncores=24\n",
    "    fi\n",
    "    srun -n $nrank -c $ncores ./stencil2d-kblockin.x --nx 128 --ny 128 --nz 64 --num_iter 1024 >> outputs/out_kblockin.txt\n",
    "  done\n",
    "done"
   ]
  },
  {
   "cell_type": "markdown",
   "id": "7f696a3a-1fbe-49ba-8f81-29a8673763f4",
   "metadata": {
    "tags": []
   },
   "source": [
    "### onfly"
   ]
  },
  {
   "cell_type": "code",
   "execution_count": 14,
   "id": "d4854f92-b4bd-4ed7-a7b6-0eb08b77bbca",
   "metadata": {},
   "outputs": [
    {
     "name": "stdout",
     "output_type": "stream",
     "text": [
      "ftn -O3 -hfp3 -eZ -ffree -N255 -ec -eC -eI -eF -rm -h omp -c stencil2d-onfly.F90\n",
      "ftn -O3 -hfp3 -eZ -ffree -N255 -ec -eC -eI -eF -rm -h omp m_utils.o m_partitioner.o stencil2d-onfly.o -o stencil2d-onfly.x\n",
      "cp stencil2d-onfly.x stencil2d.x\n"
     ]
    }
   ],
   "source": [
    "%%bash\n",
    "module load daint-gpu\n",
    "module switch PrgEnv-gnu PrgEnv-cray\n",
    "\n",
    "make VERSION=onfly"
   ]
  },
  {
   "cell_type": "code",
   "execution_count": 15,
   "id": "2b3ab994-a262-4b8e-87b4-747cb93ee625",
   "metadata": {},
   "outputs": [],
   "source": [
    "%%bash\n",
    "srun -n 2 -c 6 ./stencil2d-onfly.x --nx 128 --ny 128 --nz 64 --num_iter 1024 > outputs/out_onfly.txt"
   ]
  },
  {
   "cell_type": "code",
   "execution_count": 16,
   "id": "feab7ba2-1b08-4d0e-a570-051552498476",
   "metadata": {},
   "outputs": [
    {
     "name": "stderr",
     "output_type": "stream",
     "text": [
      "WARNING: Requested total thread count and/or thread affinity may result in\n",
      "oversubscription of available CPU resources!  Performance may be degraded.\n",
      "Explicitly set OMP_WAIT_POLICY=PASSIVE or ACTIVE to suppress this message.\n",
      "Set CRAY_OMP_CHECK_AFFINITY=TRUE to print detailed thread-affinity messages.\n",
      "WARNING: Requested total thread count and/or thread affinity may result in\n",
      "oversubscription of available CPU resources!  Performance may be degraded.\n",
      "Explicitly set OMP_WAIT_POLICY=PASSIVE or ACTIVE to suppress this message.\n",
      "Set CRAY_OMP_CHECK_AFFINITY=TRUE to print detailed thread-affinity messages.\n",
      "WARNING: Requested total thread count and/or thread affinity may result in\n",
      "oversubscription of available CPU resources!  Performance may be degraded.\n",
      "Explicitly set OMP_WAIT_POLICY=PASSIVE or ACTIVE to suppress this message.\n",
      "Set CRAY_OMP_CHECK_AFFINITY=TRUE to print detailed thread-affinity messages.\n",
      "WARNING: Requested total thread count and/or thread affinity may result in\n",
      "oversubscription of available CPU resources!  Performance may be degraded.\n",
      "Explicitly set OMP_WAIT_POLICY=PASSIVE or ACTIVE to suppress this message.\n",
      "Set CRAY_OMP_CHECK_AFFINITY=TRUE to print detailed thread-affinity messages.\n",
      "WARNING: Requested total thread count and/or thread affinity may result in\n",
      "oversubscription of available CPU resources!  Performance may be degraded.\n",
      "Explicitly set OMP_WAIT_POLICY=PASSIVE or ACTIVE to suppress this message.\n",
      "Set CRAY_OMP_CHECK_AFFINITY=TRUE to print detailed thread-affinity messages.\n",
      "WARNING: Requested total thread count and/or thread affinity may result in\n",
      "oversubscription of available CPU resources!  Performance may be degraded.\n",
      "Explicitly set OMP_WAIT_POLICY=PASSIVE or ACTIVE to suppress this message.\n",
      "Set CRAY_OMP_CHECK_AFFINITY=TRUE to print detailed thread-affinity messages.\n",
      "WARNING: Requested total thread count and/or thread affinity may result in\n",
      "oversubscription of available CPU resources!  Performance may be degraded.\n",
      "Explicitly set OMP_WAIT_POLICY=PASSIVE or ACTIVE to suppress this message.\n",
      "Set CRAY_OMP_CHECK_AFFINITY=TRUE to print detailed thread-affinity messages.\n",
      "WARNING: Requested total thread count and/or thread affinity may result in\n",
      "oversubscription of available CPU resources!  Performance may be degraded.\n",
      "Explicitly set OMP_WAIT_POLICY=PASSIVE or ACTIVE to suppress this message.\n",
      "Set CRAY_OMP_CHECK_AFFINITY=TRUE to print detailed thread-affinity messages.\n"
     ]
    }
   ],
   "source": [
    "%%bash\n",
    "rm outputs/out_onfly.txt\n",
    "ranks=(2 3 4 6 8 12)\n",
    "for index in ${!ranks[*]} ; do\n",
    "  nrank=${ranks[$index]}\n",
    "  max_thread=$((24/$nrank))\n",
    "  echo \"out_$nrank = [None] * ($max_thread+1)\" >> outputs/out_onfly.txt\n",
    "  for nthreads in `seq 1 $max_thread` ; do\n",
    "    export OMP_NUM_THREADS=$nthreads\n",
    "    ncores=$nthreads\n",
    "    if [ $nthreads -gt 24 ] ; then\n",
    "      ncores=24\n",
    "    fi\n",
    "    srun -n $nrank -c $ncores ./stencil2d-onfly.x --nx 128 --ny 128 --nz 64 --num_iter 1024 >> outputs/out_onfly.txt\n",
    "  done\n",
    "done"
   ]
  },
  {
   "cell_type": "markdown",
   "id": "37fd4b1d-52bb-47e3-a9cc-7c0dbff9ce13",
   "metadata": {
    "tags": []
   },
   "source": [
    "## increase dimension (512\\*512\\*64)"
   ]
  },
  {
   "cell_type": "code",
   "execution_count": 36,
   "id": "30a87562-7065-4f51-abec-f8612d7eea38",
   "metadata": {},
   "outputs": [
    {
     "name": "stderr",
     "output_type": "stream",
     "text": [
      "rm: cannot remove 'out_mpi512.txt': No such file or directory\n",
      "WARNING: Requested total thread count and/or thread affinity may result in\n",
      "oversubscription of available CPU resources!  Performance may be degraded.\n",
      "Explicitly set OMP_WAIT_POLICY=PASSIVE or ACTIVE to suppress this message.\n",
      "Set CRAY_OMP_CHECK_AFFINITY=TRUE to print detailed thread-affinity messages.\n"
     ]
    }
   ],
   "source": [
    "%%bash\n",
    "rm outputs/out_mpi512.txt\n",
    "ranks=(2 3 4 6 8 12)\n",
    "for index in ${!ranks[*]} ; do\n",
    "  nrank=${ranks[$index]}\n",
    "  max_thread=$((24/$nrank))\n",
    "  echo \"out_$nrank = [None] * ($max_thread+1)\" >> outputs/out_mpi512.txt\n",
    "  for nthreads in `seq 1 $max_thread` ; do\n",
    "    export OMP_NUM_THREADS=$nthreads\n",
    "    ncores=$nthreads\n",
    "    if [ $nthreads -gt 24 ] ; then\n",
    "      ncores=24\n",
    "    fi\n",
    "    srun -n $nrank -c $ncores ./stencil2d-mpi.x --nx 512 --ny 512 --nz 64 --num_iter 1024 >> outputs/out_mpi512.txt\n",
    "  done\n",
    "done"
   ]
  },
  {
   "cell_type": "code",
   "execution_count": 3,
   "id": "12edc187-0490-42a6-abff-fd90be693ce8",
   "metadata": {},
   "outputs": [
    {
     "name": "stderr",
     "output_type": "stream",
     "text": [
      "srun: Job 48089163 step creation temporarily disabled, retrying (Requested nodes are busy)\n",
      "srun: Step created for job 48089163\n",
      "WARNING: Requested total thread count and/or thread affinity may result in\n",
      "oversubscription of available CPU resources!  Performance may be degraded.\n",
      "Explicitly set OMP_WAIT_POLICY=PASSIVE or ACTIVE to suppress this message.\n",
      "Set CRAY_OMP_CHECK_AFFINITY=TRUE to print detailed thread-affinity messages.\n",
      "WARNING: Requested total thread count and/or thread affinity may result in\n",
      "oversubscription of available CPU resources!  Performance may be degraded.\n",
      "Explicitly set OMP_WAIT_POLICY=PASSIVE or ACTIVE to suppress this message.\n",
      "Set CRAY_OMP_CHECK_AFFINITY=TRUE to print detailed thread-affinity messages.\n",
      "WARNING: Requested total thread count and/or thread affinity may result in\n",
      "oversubscription of available CPU resources!  Performance may be degraded.\n",
      "Explicitly set OMP_WAIT_POLICY=PASSIVE or ACTIVE to suppress this message.\n",
      "Set CRAY_OMP_CHECK_AFFINITY=TRUE to print detailed thread-affinity messages.\n",
      "WARNING: Requested total thread count and/or thread affinity may result in\n",
      "oversubscription of available CPU resources!  Performance may be degraded.\n",
      "Explicitly set OMP_WAIT_POLICY=PASSIVE or ACTIVE to suppress this message.\n",
      "Set CRAY_OMP_CHECK_AFFINITY=TRUE to print detailed thread-affinity messages.\n",
      "WARNING: Requested total thread count and/or thread affinity may result in\n",
      "oversubscription of available CPU resources!  Performance may be degraded.\n",
      "Explicitly set OMP_WAIT_POLICY=PASSIVE or ACTIVE to suppress this message.\n",
      "Set CRAY_OMP_CHECK_AFFINITY=TRUE to print detailed thread-affinity messages.\n",
      "WARNING: Requested total thread count and/or thread affinity may result in\n",
      "oversubscription of available CPU resources!  Performance may be degraded.\n",
      "Explicitly set OMP_WAIT_POLICY=PASSIVE or ACTIVE to suppress this message.\n",
      "Set CRAY_OMP_CHECK_AFFINITY=TRUE to print detailed thread-affinity messages.\n",
      "WARNING: Requested total thread count and/or thread affinity may result in\n",
      "oversubscription of available CPU resources!  Performance may be degraded.\n",
      "Explicitly set OMP_WAIT_POLICY=PASSIVE or ACTIVE to suppress this message.\n",
      "Set CRAY_OMP_CHECK_AFFINITY=TRUE to print detailed thread-affinity messages.\n",
      "WARNING: Requested total thread count and/or thread affinity may result in\n",
      "oversubscription of available CPU resources!  Performance may be degraded.\n",
      "Explicitly set OMP_WAIT_POLICY=PASSIVE or ACTIVE to suppress this message.\n",
      "Set CRAY_OMP_CHECK_AFFINITY=TRUE to print detailed thread-affinity messages.\n"
     ]
    }
   ],
   "source": [
    "%%bash\n",
    "rm outputs/out_omp512.txt\n",
    "ranks=(2 3 4 6 8 12)\n",
    "for index in ${!ranks[*]} ; do\n",
    "  nrank=${ranks[$index]}\n",
    "  max_thread=$((24/$nrank))\n",
    "  echo \"out_$nrank = [None] * ($max_thread+1)\" >> outputs/out_omp512.txt\n",
    "  for nthreads in `seq 1 $max_thread` ; do\n",
    "    export OMP_NUM_THREADS=$nthreads\n",
    "    ncores=$nthreads\n",
    "    if [ $nthreads -gt 24 ] ; then\n",
    "      ncores=24\n",
    "    fi\n",
    "    srun -n $nrank -c $ncores ./stencil2d-omp.x --nx 512 --ny 512 --nz 64 --num_iter 1024 >> outputs/out_omp512.txt\n",
    "  done\n",
    "done"
   ]
  },
  {
   "cell_type": "code",
   "execution_count": 4,
   "id": "4ae388a8-a401-4978-865e-046e227e10c4",
   "metadata": {},
   "outputs": [
    {
     "name": "stderr",
     "output_type": "stream",
     "text": [
      "WARNING: Requested total thread count and/or thread affinity may result in\n",
      "oversubscription of available CPU resources!  Performance may be degraded.\n",
      "Explicitly set OMP_WAIT_POLICY=PASSIVE or ACTIVE to suppress this message.\n",
      "Set CRAY_OMP_CHECK_AFFINITY=TRUE to print detailed thread-affinity messages.\n",
      "WARNING: Requested total thread count and/or thread affinity may result in\n",
      "oversubscription of available CPU resources!  Performance may be degraded.\n",
      "Explicitly set OMP_WAIT_POLICY=PASSIVE or ACTIVE to suppress this message.\n",
      "Set CRAY_OMP_CHECK_AFFINITY=TRUE to print detailed thread-affinity messages.\n",
      "WARNING: Requested total thread count and/or thread affinity may result in\n",
      "oversubscription of available CPU resources!  Performance may be degraded.\n",
      "Explicitly set OMP_WAIT_POLICY=PASSIVE or ACTIVE to suppress this message.\n",
      "Set CRAY_OMP_CHECK_AFFINITY=TRUE to print detailed thread-affinity messages.\n",
      "WARNING: Requested total thread count and/or thread affinity may result in\n",
      "oversubscription of available CPU resources!  Performance may be degraded.\n",
      "Explicitly set OMP_WAIT_POLICY=PASSIVE or ACTIVE to suppress this message.\n",
      "Set CRAY_OMP_CHECK_AFFINITY=TRUE to print detailed thread-affinity messages.\n",
      "WARNING: Requested total thread count and/or thread affinity may result in\n",
      "oversubscription of available CPU resources!  Performance may be degraded.\n",
      "Explicitly set OMP_WAIT_POLICY=PASSIVE or ACTIVE to suppress this message.\n",
      "Set CRAY_OMP_CHECK_AFFINITY=TRUE to print detailed thread-affinity messages.\n",
      "WARNING: Requested total thread count and/or thread affinity may result in\n",
      "oversubscription of available CPU resources!  Performance may be degraded.\n",
      "Explicitly set OMP_WAIT_POLICY=PASSIVE or ACTIVE to suppress this message.\n",
      "Set CRAY_OMP_CHECK_AFFINITY=TRUE to print detailed thread-affinity messages.\n",
      "WARNING: Requested total thread count and/or thread affinity may result in\n",
      "oversubscription of available CPU resources!  Performance may be degraded.\n",
      "Explicitly set OMP_WAIT_POLICY=PASSIVE or ACTIVE to suppress this message.\n",
      "Set CRAY_OMP_CHECK_AFFINITY=TRUE to print detailed thread-affinity messages.\n",
      "WARNING: Requested total thread count and/or thread affinity may result in\n",
      "oversubscription of available CPU resources!  Performance may be degraded.\n",
      "Explicitly set OMP_WAIT_POLICY=PASSIVE or ACTIVE to suppress this message.\n",
      "Set CRAY_OMP_CHECK_AFFINITY=TRUE to print detailed thread-affinity messages.\n"
     ]
    }
   ],
   "source": [
    "%%bash\n",
    "rm outputs/out_kblock512.txt\n",
    "ranks=(2 3 4 6 8 12)\n",
    "for index in ${!ranks[*]} ; do\n",
    "  nrank=${ranks[$index]}\n",
    "  max_thread=$((24/$nrank))\n",
    "  echo \"out_$nrank = [None] * ($max_thread+1)\" >> outputs/out_kblock512.txt\n",
    "  for nthreads in `seq 1 $max_thread` ; do\n",
    "    export OMP_NUM_THREADS=$nthreads\n",
    "    ncores=$nthreads\n",
    "    if [ $nthreads -gt 24 ] ; then\n",
    "      ncores=24\n",
    "    fi\n",
    "    srun -n $nrank -c $ncores ./stencil2d-kblock.x --nx 512 --ny 512 --nz 64 --num_iter 1024 >> outputs/out_kblock512.txt\n",
    "  done\n",
    "done"
   ]
  },
  {
   "cell_type": "code",
   "execution_count": 18,
   "id": "0d0ccb35-36c5-4ddb-9287-49587ca32f59",
   "metadata": {
    "tags": []
   },
   "outputs": [
    {
     "name": "stderr",
     "output_type": "stream",
     "text": [
      "rm: cannot remove 'out_kblockin512.txt': No such file or directory\n",
      "srun: Job 48087435 step creation temporarily disabled, retrying (Requested nodes are busy)\n",
      "srun: Step created for job 48087435\n",
      "WARNING: Requested total thread count and/or thread affinity may result in\n",
      "oversubscription of available CPU resources!  Performance may be degraded.\n",
      "Explicitly set OMP_WAIT_POLICY=PASSIVE or ACTIVE to suppress this message.\n",
      "Set CRAY_OMP_CHECK_AFFINITY=TRUE to print detailed thread-affinity messages.\n",
      "WARNING: Requested total thread count and/or thread affinity may result in\n",
      "oversubscription of available CPU resources!  Performance may be degraded.\n",
      "Explicitly set OMP_WAIT_POLICY=PASSIVE or ACTIVE to suppress this message.\n",
      "Set CRAY_OMP_CHECK_AFFINITY=TRUE to print detailed thread-affinity messages.\n",
      "WARNING: Requested total thread count and/or thread affinity may result in\n",
      "oversubscription of available CPU resources!  Performance may be degraded.\n",
      "Explicitly set OMP_WAIT_POLICY=PASSIVE or ACTIVE to suppress this message.\n",
      "Set CRAY_OMP_CHECK_AFFINITY=TRUE to print detailed thread-affinity messages.\n",
      "WARNING: Requested total thread count and/or thread affinity may result in\n",
      "oversubscription of available CPU resources!  Performance may be degraded.\n",
      "Explicitly set OMP_WAIT_POLICY=PASSIVE or ACTIVE to suppress this message.\n",
      "Set CRAY_OMP_CHECK_AFFINITY=TRUE to print detailed thread-affinity messages.\n",
      "WARNING: Requested total thread count and/or thread affinity may result in\n",
      "oversubscription of available CPU resources!  Performance may be degraded.\n",
      "Explicitly set OMP_WAIT_POLICY=PASSIVE or ACTIVE to suppress this message.\n",
      "Set CRAY_OMP_CHECK_AFFINITY=TRUE to print detailed thread-affinity messages.\n",
      "WARNING: Requested total thread count and/or thread affinity may result in\n",
      "oversubscription of available CPU resources!  Performance may be degraded.\n",
      "Explicitly set OMP_WAIT_POLICY=PASSIVE or ACTIVE to suppress this message.\n",
      "Set CRAY_OMP_CHECK_AFFINITY=TRUE to print detailed thread-affinity messages.\n",
      "WARNING: Requested total thread count and/or thread affinity may result in\n",
      "oversubscription of available CPU resources!  Performance may be degraded.\n",
      "Explicitly set OMP_WAIT_POLICY=PASSIVE or ACTIVE to suppress this message.\n",
      "Set CRAY_OMP_CHECK_AFFINITY=TRUE to print detailed thread-affinity messages.\n",
      "WARNING: Requested total thread count and/or thread affinity may result in\n",
      "oversubscription of available CPU resources!  Performance may be degraded.\n",
      "Explicitly set OMP_WAIT_POLICY=PASSIVE or ACTIVE to suppress this message.\n",
      "Set CRAY_OMP_CHECK_AFFINITY=TRUE to print detailed thread-affinity messages.\n"
     ]
    }
   ],
   "source": [
    "%%bash\n",
    "rm outputs/out_kblockin512.txt\n",
    "ranks=(2 3 4 6 8 12)\n",
    "for index in ${!ranks[*]} ; do\n",
    "  nrank=${ranks[$index]}\n",
    "  max_thread=$((24/$nrank))\n",
    "  echo \"out_$nrank = [None] * ($max_thread+1)\" >> outputs/out_kblockin512.txt\n",
    "  for nthreads in `seq 1 $max_thread` ; do\n",
    "    export OMP_NUM_THREADS=$nthreads\n",
    "    ncores=$nthreads\n",
    "    if [ $nthreads -gt 24 ] ; then\n",
    "      ncores=24\n",
    "    fi\n",
    "    srun -n $nrank -c $ncores ./stencil2d-kblockin.x --nx 512 --ny 512 --nz 64 --num_iter 1024 >> outputs/out_kblockin512.txt\n",
    "  done\n",
    "done"
   ]
  },
  {
   "cell_type": "code",
   "execution_count": 21,
   "id": "b850c967-a31a-4a1b-b7b5-8f2186a99e51",
   "metadata": {
    "tags": []
   },
   "outputs": [
    {
     "name": "stderr",
     "output_type": "stream",
     "text": [
      "rm: cannot remove 'out_onfly512.txt': No such file or directory\n",
      "srun: Job 48087435 step creation temporarily disabled, retrying (Requested nodes are busy)\n",
      "srun: Step created for job 48087435\n",
      "srun: Job 48087435 step creation temporarily disabled, retrying (Requested nodes are busy)\n",
      "srun: Step created for job 48087435\n",
      "WARNING: Requested total thread count and/or thread affinity may result in\n",
      "oversubscription of available CPU resources!  Performance may be degraded.\n",
      "Explicitly set OMP_WAIT_POLICY=PASSIVE or ACTIVE to suppress this message.\n",
      "Set CRAY_OMP_CHECK_AFFINITY=TRUE to print detailed thread-affinity messages.\n",
      "WARNING: Requested total thread count and/or thread affinity may result in\n",
      "oversubscription of available CPU resources!  Performance may be degraded.\n",
      "Explicitly set OMP_WAIT_POLICY=PASSIVE or ACTIVE to suppress this message.\n",
      "Set CRAY_OMP_CHECK_AFFINITY=TRUE to print detailed thread-affinity messages.\n",
      "WARNING: Requested total thread count and/or thread affinity may result in\n",
      "oversubscription of available CPU resources!  Performance may be degraded.\n",
      "Explicitly set OMP_WAIT_POLICY=PASSIVE or ACTIVE to suppress this message.\n",
      "Set CRAY_OMP_CHECK_AFFINITY=TRUE to print detailed thread-affinity messages.\n",
      "WARNING: Requested total thread count and/or thread affinity may result in\n",
      "oversubscription of available CPU resources!  Performance may be degraded.\n",
      "Explicitly set OMP_WAIT_POLICY=PASSIVE or ACTIVE to suppress this message.\n",
      "Set CRAY_OMP_CHECK_AFFINITY=TRUE to print detailed thread-affinity messages.\n",
      "WARNING: Requested total thread count and/or thread affinity may result in\n",
      "oversubscription of available CPU resources!  Performance may be degraded.\n",
      "Explicitly set OMP_WAIT_POLICY=PASSIVE or ACTIVE to suppress this message.\n",
      "Set CRAY_OMP_CHECK_AFFINITY=TRUE to print detailed thread-affinity messages.\n",
      "WARNING: Requested total thread count and/or thread affinity may result in\n",
      "oversubscription of available CPU resources!  Performance may be degraded.\n",
      "Explicitly set OMP_WAIT_POLICY=PASSIVE or ACTIVE to suppress this message.\n",
      "Set CRAY_OMP_CHECK_AFFINITY=TRUE to print detailed thread-affinity messages.\n",
      "WARNING: Requested total thread count and/or thread affinity may result in\n",
      "oversubscription of available CPU resources!  Performance may be degraded.\n",
      "Explicitly set OMP_WAIT_POLICY=PASSIVE or ACTIVE to suppress this message.\n",
      "Set CRAY_OMP_CHECK_AFFINITY=TRUE to print detailed thread-affinity messages.\n",
      "WARNING: Requested total thread count and/or thread affinity may result in\n",
      "oversubscription of available CPU resources!  Performance may be degraded.\n",
      "Explicitly set OMP_WAIT_POLICY=PASSIVE or ACTIVE to suppress this message.\n",
      "Set CRAY_OMP_CHECK_AFFINITY=TRUE to print detailed thread-affinity messages.\n"
     ]
    }
   ],
   "source": [
    "%%bash\n",
    "rm out_onfly512.txt\n",
    "ranks=(2 3 4 6 8 12)\n",
    "for index in ${!ranks[*]} ; do\n",
    "  nrank=${ranks[$index]}\n",
    "  max_thread=$((24/$nrank))\n",
    "  echo \"out_$nrank = [None] * ($max_thread+1)\" >> outputs/out_onfly512.txt\n",
    "  for nthreads in `seq 1 $max_thread` ; do\n",
    "    export OMP_NUM_THREADS=$nthreads\n",
    "    ncores=$nthreads\n",
    "    if [ $nthreads -gt 24 ] ; then\n",
    "      ncores=24\n",
    "    fi\n",
    "    srun -n $nrank -c $ncores ./stencil2d-onfly.x --nx 512 --ny 512 --nz 64 --num_iter 1024 >> outputs/out_onfly512.txt\n",
    "  done\n",
    "done"
   ]
  },
  {
   "cell_type": "markdown",
   "id": "888c3e77-1687-42d3-b959-c3b5eef51076",
   "metadata": {
    "tags": []
   },
   "source": [
    "## plot results"
   ]
  },
  {
   "cell_type": "markdown",
   "id": "857b7adf-fe5c-4d4b-a0a5-aced28d9691f",
   "metadata": {},
   "source": [
    "### 128 \\*  128 \\* 64, N_node=1"
   ]
  },
  {
   "cell_type": "code",
   "execution_count": 32,
   "id": "d9ad1611-f4b8-4afc-a767-80aff018ecc9",
   "metadata": {},
   "outputs": [],
   "source": [
    "cases = [\"mpi\", \"omp\", \"kblock\", \"kblockin\", \"onfly\"]\n",
    "num_ranks = [2, 3, 4, 6, 8, 12]\n",
    "results = dict()\n",
    "for case in cases:\n",
    "    results[case] = []\n",
    "    exec(open(\"outputs/out_%s.txt\" % case, \"r\").read())\n",
    "    for rank in num_ranks:\n",
    "        results[case].append(eval(\"out_%d\" % rank))\n",
    "results_for_plot = dict()\n",
    "for case in cases:\n",
    "    results_for_plot[case] = []\n",
    "    for i in range(len(num_ranks)):\n",
    "        results_for_plot[case].append([])\n",
    "        for j in range(1, len(results[case][i])):\n",
    "            results_for_plot[case][i].append(results[case][i][j][0, 5])"
   ]
  },
  {
   "cell_type": "code",
   "execution_count": 34,
   "id": "070757ab-7c51-49eb-a2f3-63f83bf8cdf0",
   "metadata": {},
   "outputs": [
    {
     "data": {
      "image/png": "[encoded data removed]",
      "text/plain": [
       "<Figure size 1440x1440 with 6 Axes>"
      ]
     },
     "metadata": {
      "needs_background": "light"
     },
     "output_type": "display_data"
    }
   ],
   "source": [
    "fig, axs = plt.subplots(3, 2, figsize=(20,20))\n",
    "for i in range(len(num_ranks)):\n",
    "    n_threads = np.arange(24 / num_ranks[i]) + 1\n",
    "    total_width = 0.8\n",
    "    for j in range(len(cases)):\n",
    "        each_width = total_width/len(cases)\n",
    "        xj = n_threads - total_width/2 + each_width * (j + 1/2)\n",
    "        yj = results_for_plot[cases[j]][i]\n",
    "        axs.flat[i].bar(xj, yj, each_width, label=cases[j])\n",
    "    axs.flat[i].set_title(\"rank=%d\" % num_ranks[i])\n",
    "    axs.flat[i].set_xlabel(\"num_threads\")\n",
    "    axs.flat[i].set_ylabel(\"time\")\n",
    "    axs.flat[i].legend()\n",
    "plt.show()"
   ]
  },
  {
   "cell_type": "markdown",
   "id": "9ce2433b-a363-416b-9ba6-d6a2c7e01d63",
   "metadata": {},
   "source": [
    "### 512 \\* 512 \\* 64, N_node = 1"
   ]
  },
  {
   "cell_type": "code",
   "execution_count": 5,
   "id": "76ad1e24-3238-4f2b-8e77-6a137804a6c9",
   "metadata": {},
   "outputs": [],
   "source": [
    "cases = [\"mpi\", \"omp\", \"kblock\", \"kblockin\", \"onfly\"]\n",
    "num_ranks = [2, 3, 4, 6, 8, 12]\n",
    "results = dict()\n",
    "for case in cases:\n",
    "    results[case] = []\n",
    "    exec(open(\"outputs/out_%s512.txt\" % case, \"r\").read())\n",
    "    for rank in num_ranks:\n",
    "        results[case].append(eval(\"out_%d\" % rank))\n",
    "results_for_plot = dict()\n",
    "for case in cases:\n",
    "    results_for_plot[case] = []\n",
    "    for i in range(len(num_ranks)):\n",
    "        results_for_plot[case].append([])\n",
    "        for j in range(1, len(results[case][i])):\n",
    "            results_for_plot[case][i].append(results[case][i][j][0, 5])"
   ]
  },
  {
   "cell_type": "code",
   "execution_count": 6,
   "id": "c5c9aab3-3cc7-4b61-acfe-5eafc3da87cd",
   "metadata": {},
   "outputs": [
    {
     "data": {
      "image/png": "[encoded data removed]",
      "text/plain": [
       "<Figure size 1440x1440 with 6 Axes>"
      ]
     },
     "metadata": {
      "needs_background": "light"
     },
     "output_type": "display_data"
    }
   ],
   "source": [
    "fig, axs = plt.subplots(3, 2, figsize=(20,20))\n",
    "for i in range(len(num_ranks)):\n",
    "    n_threads = np.arange(24 / num_ranks[i]) + 1\n",
    "    total_width = 0.8\n",
    "    for j in range(len(cases)):\n",
    "        each_width = total_width/len(cases)\n",
    "        xj = n_threads - total_width/2 + each_width * (j + 1/2)\n",
    "        yj = results_for_plot[cases[j]][i]\n",
    "        axs.flat[i].bar(xj, yj, each_width, label=cases[j])\n",
    "    axs.flat[i].set_title(\"rank=%d\" % num_ranks[i])\n",
    "    axs.flat[i].set_xlabel(\"num_threads\")\n",
    "    axs.flat[i].set_ylabel(\"time\")\n",
    "    axs.flat[i].legend()\n",
    "plt.show()"
   ]
  },
  {
   "cell_type": "markdown",
   "id": "2751d92a-7613-4eab-8d77-93020d632189",
   "metadata": {
    "tags": []
   },
   "source": [
    "# Formal experiment, N_node = 2"
   ]
  },
  {
   "cell_type": "markdown",
   "id": "271cd60b-12fc-45a7-8ff7-c0dc4a0fdf71",
   "metadata": {},
   "source": [
    "## dimension: 512\\*512\\*64"
   ]
  },
  {
   "cell_type": "code",
   "execution_count": 1,
   "id": "b3904af5-bf83-47d9-8fff-5867cfd77e3e",
   "metadata": {},
   "outputs": [
    {
     "name": "stderr",
     "output_type": "stream",
     "text": [
      "rm: cannot remove 'out_mpi512N2.txt': No such file or directory\n",
      "srun: Job 48089335 step creation temporarily disabled, retrying (Requested nodes are busy)\n",
      "srun: Step created for job 48089335\n",
      "srun: Job 48089335 step creation temporarily disabled, retrying (Requested nodes are busy)\n",
      "srun: Step created for job 48089335\n",
      "srun: Job 48089335 step creation temporarily disabled, retrying (Requested nodes are busy)\n",
      "srun: Step created for job 48089335\n",
      "srun: Job 48089335 step creation temporarily disabled, retrying (Requested nodes are busy)\n",
      "srun: Step created for job 48089335\n",
      "srun: Job 48089335 step creation temporarily disabled, retrying (Requested nodes are busy)\n",
      "srun: Step created for job 48089335\n"
     ]
    }
   ],
   "source": [
    "%%bash\n",
    "rm outputs/out_mpi512N2.txt\n",
    "ranks=(2 4 6 8 12 24)\n",
    "for index in ${!ranks[*]} ; do\n",
    "  nrank=${ranks[$index]}\n",
    "  max_thread=$((48/$nrank))\n",
    "  echo \"out_$nrank = [None] * ($max_thread+1)\" >> outputs/out_mpi512N2.txt\n",
    "  for nthreads in `seq 1 $max_thread` ; do\n",
    "    export OMP_NUM_THREADS=$nthreads\n",
    "    ncores=$nthreads\n",
    "    if [ $nthreads -gt 24 ] ; then\n",
    "      ncores=24\n",
    "    fi\n",
    "    srun -N 2 -n $nrank -c $ncores ./stencil2d-mpi.x --nx 512 --ny 512 --nz 64 --num_iter 1024 >> outputs/out_mpi512N2.txt\n",
    "  done\n",
    "done"
   ]
  },
  {
   "cell_type": "code",
   "execution_count": 3,
   "id": "0bfabea3-1457-47e3-a9dd-d93427d5f6df",
   "metadata": {
    "tags": []
   },
   "outputs": [
    {
     "name": "stderr",
     "output_type": "stream",
     "text": [
      "rm: cannot remove 'out_omp512N2.txt': No such file or directory\n"
     ]
    }
   ],
   "source": [
    "%%bash\n",
    "rm outputs/out_omp512N2.txt\n",
    "ranks=(2 4 6 8 12 24)\n",
    "for index in ${!ranks[*]} ; do\n",
    "  nrank=${ranks[$index]}\n",
    "  max_thread=$((48/$nrank))\n",
    "  echo \"out_$nrank = [None] * ($max_thread+1)\" >> outputs/out_omp512N2.txt\n",
    "  for nthreads in `seq 1 $max_thread` ; do\n",
    "    export OMP_NUM_THREADS=$nthreads\n",
    "    ncores=$nthreads\n",
    "    if [ $nthreads -gt 24 ] ; then\n",
    "      ncores=24\n",
    "    fi\n",
    "    srun -N 2 -n $nrank -c $ncores ./stencil2d-omp.x --nx 512 --ny 512 --nz 64 --num_iter 1024 >> outputs/out_omp512N2.txt\n",
    "  done\n",
    "done"
   ]
  },
  {
   "cell_type": "code",
   "execution_count": 4,
   "id": "52fcebee-ae74-4318-9a82-61bbebea2a10",
   "metadata": {},
   "outputs": [
    {
     "name": "stderr",
     "output_type": "stream",
     "text": [
      "rm: cannot remove 'out_kblock512N2.txt': No such file or directory\n",
      "srun: Job 48089335 step creation temporarily disabled, retrying (Requested nodes are busy)\n",
      "srun: Step created for job 48089335\n",
      "srun: Job 48089335 step creation temporarily disabled, retrying (Requested nodes are busy)\n",
      "srun: Step created for job 48089335\n"
     ]
    }
   ],
   "source": [
    "%%bash\n",
    "rm outputs/out_kblock512N2.txt\n",
    "ranks=(2 4 6 8 12 24)\n",
    "for index in ${!ranks[*]} ; do\n",
    "  nrank=${ranks[$index]}\n",
    "  max_thread=$((48/$nrank))\n",
    "  echo \"out_$nrank = [None] * ($max_thread+1)\" >> outputs/out_kblock512N2.txt\n",
    "  for nthreads in `seq 1 $max_thread` ; do\n",
    "    export OMP_NUM_THREADS=$nthreads\n",
    "    ncores=$nthreads\n",
    "    if [ $nthreads -gt 24 ] ; then\n",
    "      ncores=24\n",
    "    fi\n",
    "    srun -N 2 -n $nrank -c $ncores ./stencil2d-kblock.x --nx 512 --ny 512 --nz 64 --num_iter 1024 >> outputs/out_kblock512N2.txt\n",
    "  done\n",
    "done"
   ]
  },
  {
   "cell_type": "code",
   "execution_count": 5,
   "id": "2ce27835-ad21-4464-834c-1028e3335f66",
   "metadata": {},
   "outputs": [
    {
     "name": "stderr",
     "output_type": "stream",
     "text": [
      "rm: cannot remove 'out_kblockin512N2.txt': No such file or directory\n",
      "srun: Job 48089335 step creation temporarily disabled, retrying (Requested nodes are busy)\n",
      "srun: Step created for job 48089335\n",
      "srun: Job 48089335 step creation temporarily disabled, retrying (Requested nodes are busy)\n",
      "srun: Step created for job 48089335\n",
      "srun: Job 48089335 step creation temporarily disabled, retrying (Requested nodes are busy)\n",
      "srun: Step created for job 48089335\n",
      "srun: Job 48089335 step creation temporarily disabled, retrying (Requested nodes are busy)\n",
      "srun: Step created for job 48089335\n"
     ]
    }
   ],
   "source": [
    "%%bash\n",
    "rm outputs/out_kblockin512N2.txt\n",
    "ranks=(2 4 6 8 12 24)\n",
    "for index in ${!ranks[*]} ; do\n",
    "  nrank=${ranks[$index]}\n",
    "  max_thread=$((48/$nrank))\n",
    "  echo \"out_$nrank = [None] * ($max_thread+1)\" >> outputs/out_kblockin512N2.txt\n",
    "  for nthreads in `seq 1 $max_thread` ; do\n",
    "    export OMP_NUM_THREADS=$nthreads\n",
    "    ncores=$nthreads\n",
    "    if [ $nthreads -gt 24 ] ; then\n",
    "      ncores=24\n",
    "    fi\n",
    "    srun -N 2 -n $nrank -c $ncores ./stencil2d-kblockin.x --nx 512 --ny 512 --nz 64 --num_iter 1024 >> outputs/out_kblockin512N2.txt\n",
    "  done\n",
    "done"
   ]
  },
  {
   "cell_type": "code",
   "execution_count": 6,
   "id": "55e2802c-78b1-43f8-8296-25ec824694b3",
   "metadata": {},
   "outputs": [
    {
     "name": "stderr",
     "output_type": "stream",
     "text": [
      "rm: cannot remove 'out_onfly512N2.txt': No such file or directory\n",
      "srun: Job 48089335 step creation temporarily disabled, retrying (Requested nodes are busy)\n",
      "srun: Step created for job 48089335\n",
      "srun: Job 48089335 step creation temporarily disabled, retrying (Requested nodes are busy)\n",
      "srun: Step created for job 48089335\n",
      "srun: Job 48089335 step creation temporarily disabled, retrying (Requested nodes are busy)\n",
      "srun: Step created for job 48089335\n",
      "srun: Job 48089335 step creation temporarily disabled, retrying (Requested nodes are busy)\n",
      "srun: Step created for job 48089335\n",
      "srun: Job 48089335 step creation temporarily disabled, retrying (Requested nodes are busy)\n",
      "srun: Step created for job 48089335\n"
     ]
    }
   ],
   "source": [
    "%%bash\n",
    "rm outputs/out_onfly512N2.txt\n",
    "ranks=(2 4 6 8 12 24)\n",
    "for index in ${!ranks[*]} ; do\n",
    "  nrank=${ranks[$index]}\n",
    "  max_thread=$((48/$nrank))\n",
    "  echo \"out_$nrank = [None] * ($max_thread+1)\" >> outputs/out_onfly512N2.txt\n",
    "  for nthreads in `seq 1 $max_thread` ; do\n",
    "    export OMP_NUM_THREADS=$nthreads\n",
    "    ncores=$nthreads\n",
    "    if [ $nthreads -gt 24 ] ; then\n",
    "      ncores=24\n",
    "    fi\n",
    "    srun -N 2 -n $nrank -c $ncores ./stencil2d-onfly.x --nx 512 --ny 512 --nz 64 --num_iter 1024 >> outputs/out_onfly512N2.txt\n",
    "  done\n",
    "done"
   ]
  },
  {
   "cell_type": "markdown",
   "id": "b7658e12-a94c-453b-924b-86cd2de3bad4",
   "metadata": {},
   "source": [
    "### plot"
   ]
  },
  {
   "cell_type": "code",
   "execution_count": 13,
   "id": "460571dc-7dd4-40cb-862e-de728e8c6696",
   "metadata": {},
   "outputs": [],
   "source": [
    "cases = [\"mpi\", \"omp\", \"kblock\", \"kblockin\", \"onfly\"]\n",
    "num_ranks = [2, 4, 6, 8, 12, 24]\n",
    "results = dict()\n",
    "for case in cases:\n",
    "    results[case] = []\n",
    "    exec(open(\"outputs/out_%s512N2.txt\" % case, \"r\").read())\n",
    "    for rank in num_ranks:\n",
    "        results[case].append(eval(\"out_%d\" % rank))\n",
    "results_for_plot = dict()\n",
    "for case in cases:\n",
    "    results_for_plot[case] = []\n",
    "    for i in range(len(num_ranks)):\n",
    "        results_for_plot[case].append([])\n",
    "        for j in range(1, len(results[case][i])):\n",
    "            results_for_plot[case][i].append(results[case][i][j][0, 5])"
   ]
  },
  {
   "cell_type": "code",
   "execution_count": 14,
   "id": "15bfd1d2-fede-44bf-abb2-3cfc645d15c5",
   "metadata": {},
   "outputs": [
    {
     "data": {
      "image/png": "[encoded data removed]",
      "text/plain": [
       "<Figure size 1440x1440 with 6 Axes>"
      ]
     },
     "metadata": {
      "needs_background": "light"
     },
     "output_type": "display_data"
    }
   ],
   "source": [
    "fig, axs = plt.subplots(3, 2, figsize=(20,20))\n",
    "for i in range(len(num_ranks)):\n",
    "    n_threads = np.arange(48 / num_ranks[i]) + 1\n",
    "    total_width = 0.8\n",
    "    for j in range(len(cases)):\n",
    "        each_width = total_width/len(cases)\n",
    "        xj = n_threads - total_width/2 + each_width * (j + 1/2)\n",
    "        yj = results_for_plot[cases[j]][i]\n",
    "        axs.flat[i].bar(xj, yj, each_width, label=cases[j])\n",
    "    axs.flat[i].set_title(\"rank=%d\" % num_ranks[i])\n",
    "    axs.flat[i].set_xlabel(\"num_threads\")\n",
    "    axs.flat[i].set_ylabel(\"time\")\n",
    "    axs.flat[i].legend()\n",
    "plt.show()"
   ]
  },
  {
   "cell_type": "markdown",
   "id": "0d8a95e8-40d2-4088-beb0-79c13034d313",
   "metadata": {},
   "source": [
    "## dimension: 1024 \\* 1024 \\* 64"
   ]
  },
  {
   "cell_type": "code",
   "execution_count": null,
   "id": "a130a389-8c44-4297-92b6-9ac757fb8ca7",
   "metadata": {},
   "outputs": [],
   "source": [
    "%%bash\n",
    "rm outputs/out_mpi512N2.txt\n",
    "ranks=(2 4 6 8 12 24)\n",
    "for index in ${!ranks[*]} ; do\n",
    "  nrank=${ranks[$index]}\n",
    "  max_thread=$((48/$nrank))\n",
    "  echo \"out_$nrank = [None] * ($max_thread+1)\" >> outputs/out_mpi512N2.txt\n",
    "  for nthreads in `seq 1 $max_thread` ; do\n",
    "    export OMP_NUM_THREADS=$nthreads\n",
    "    ncores=$nthreads\n",
    "    if [ $nthreads -gt 24 ] ; then\n",
    "      ncores=24\n",
    "    fi\n",
    "    srun -N 2 -n $nrank -c $ncores ./stencil2d-mpi.x --nx 512 --ny 512 --nz 64 --num_iter 1024 >> outputs/out_mpi512N2.txt\n",
    "  done\n",
    "done"
   ]
  },
  {
   "cell_type": "code",
   "execution_count": 9,
   "id": "829888b2-2ca6-4cbc-9218-5a006b7bc129",
   "metadata": {
    "collapsed": true,
    "jupyter": {
     "outputs_hidden": true
    },
    "tags": []
   },
   "outputs": [
    {
     "name": "stderr",
     "output_type": "stream",
     "text": [
      "srun: Job 48090128 step creation temporarily disabled, retrying (Requested nodes are busy)\n",
      "srun: Job 48090128 step creation still disabled, retrying (Requested nodes are busy)\n",
      "srun: Step created for job 48090128\n",
      "srun: Job 48090128 step creation temporarily disabled, retrying (Requested nodes are busy)\n",
      "srun: Step created for job 48090128\n",
      "srun: Job 48090128 step creation temporarily disabled, retrying (Requested nodes are busy)\n",
      "srun: Step created for job 48090128\n",
      "srun: Job 48090128 step creation temporarily disabled, retrying (Requested nodes are busy)\n",
      "srun: Step created for job 48090128\n",
      "srun: Job 48090128 step creation temporarily disabled, retrying (Requested nodes are busy)\n",
      "srun: Step created for job 48090128\n",
      "srun: Job 48090128 step creation temporarily disabled, retrying (Requested nodes are busy)\n",
      "srun: Step created for job 48090128\n",
      "srun: Job 48090128 step creation temporarily disabled, retrying (Requested nodes are busy)\n",
      "srun: Step created for job 48090128\n",
      "srun: Job 48090128 step creation temporarily disabled, retrying (Requested nodes are busy)\n",
      "srun: Job 48090128 step creation still disabled, retrying (Requested nodes are busy)\n",
      "srun: Step created for job 48090128\n",
      "srun: Job 48090128 step creation temporarily disabled, retrying (Requested nodes are busy)\n",
      "srun: Step created for job 48090128\n",
      "srun: Job 48090128 step creation temporarily disabled, retrying (Requested nodes are busy)\n",
      "srun: Step created for job 48090128\n",
      "srun: Job 48090128 step creation temporarily disabled, retrying (Requested nodes are busy)\n",
      "srun: Job 48090128 step creation temporarily disabled, retrying (Requested nodes are busy)\n",
      "srun: Step created for job 48090128\n",
      "srun: Job 48090128 step creation still disabled, retrying (Requested nodes are busy)\n",
      "srun: Job 48090128 step creation temporarily disabled, retrying (Requested nodes are busy)\n",
      "srun: Step created for job 48090128\n",
      "srun: Job 48090128 step creation still disabled, retrying (Requested nodes are busy)\n",
      "srun: Step created for job 48090128\n",
      "srun: Job 48090128 step creation temporarily disabled, retrying (Requested nodes are busy)\n",
      "srun: Job 48090128 step creation still disabled, retrying (Requested nodes are busy)\n",
      "srun: Step created for job 48090128\n",
      "srun: Job 48090128 step creation temporarily disabled, retrying (Requested nodes are busy)\n",
      "srun: Step created for job 48090128\n",
      "srun: Job 48090128 step creation temporarily disabled, retrying (Requested nodes are busy)\n",
      "srun: Job 48090128 step creation still disabled, retrying (Requested nodes are busy)\n",
      "srun: Step created for job 48090128\n",
      "srun: Job 48090128 step creation temporarily disabled, retrying (Requested nodes are busy)\n",
      "srun: Step created for job 48090128\n",
      "srun: Job 48090128 step creation temporarily disabled, retrying (Requested nodes are busy)\n",
      "srun: Step created for job 48090128\n",
      "srun: Job 48090128 step creation temporarily disabled, retrying (Requested nodes are busy)\n",
      "srun: Step created for job 48090128\n",
      "srun: Job 48090128 step creation temporarily disabled, retrying (Requested nodes are busy)\n",
      "srun: Job 48090128 step creation still disabled, retrying (Requested nodes are busy)\n",
      "srun: Step created for job 48090128\n",
      "srun: Job 48090128 step creation temporarily disabled, retrying (Requested nodes are busy)\n",
      "srun: Step created for job 48090128\n",
      "srun: Job 48090128 step creation temporarily disabled, retrying (Requested nodes are busy)\n",
      "srun: Step created for job 48090128\n",
      "srun: Job 48090128 step creation temporarily disabled, retrying (Requested nodes are busy)\n",
      "srun: Step created for job 48090128\n",
      "srun: Job 48090128 step creation temporarily disabled, retrying (Requested nodes are busy)\n",
      "srun: Step created for job 48090128\n",
      "srun: Job 48090128 step creation temporarily disabled, retrying (Requested nodes are busy)\n",
      "srun: Step created for job 48090128\n",
      "srun: Job 48090128 step creation temporarily disabled, retrying (Requested nodes are busy)\n",
      "srun: Step created for job 48090128\n",
      "srun: Job 48090128 step creation temporarily disabled, retrying (Requested nodes are busy)\n",
      "srun: Job 48090128 step creation still disabled, retrying (Requested nodes are busy)\n",
      "srun: Step created for job 48090128\n",
      "srun: Job 48090128 step creation temporarily disabled, retrying (Requested nodes are busy)\n",
      "srun: Step created for job 48090128\n",
      "srun: Job 48090128 step creation temporarily disabled, retrying (Requested nodes are busy)\n",
      "srun: Step created for job 48090128\n",
      "srun: Job 48090128 step creation temporarily disabled, retrying (Requested nodes are busy)\n",
      "srun: Step created for job 48090128\n",
      "srun: Job 48090128 step creation temporarily disabled, retrying (Requested nodes are busy)\n",
      "srun: Job 48090128 step creation temporarily disabled, retrying (Requested nodes are busy)\n",
      "srun: Step created for job 48090128\n",
      "srun: Job 48090128 step creation still disabled, retrying (Requested nodes are busy)\n",
      "srun: Step created for job 48090128\n",
      "srun: Job 48090128 step creation temporarily disabled, retrying (Requested nodes are busy)\n",
      "srun: Job 48090128 step creation still disabled, retrying (Requested nodes are busy)\n",
      "srun: Step created for job 48090128\n",
      "srun: Job 48090128 step creation temporarily disabled, retrying (Requested nodes are busy)\n",
      "srun: Step created for job 48090128\n",
      "srun: Job 48090128 step creation temporarily disabled, retrying (Requested nodes are busy)\n",
      "srun: Step created for job 48090128\n",
      "srun: Job 48090128 step creation temporarily disabled, retrying (Requested nodes are busy)\n",
      "srun: Step created for job 48090128\n",
      "srun: Job 48090128 step creation temporarily disabled, retrying (Requested nodes are busy)\n",
      "srun: Step created for job 48090128\n",
      "srun: Job 48090128 step creation temporarily disabled, retrying (Requested nodes are busy)\n",
      "srun: Step created for job 48090128\n",
      "srun: Job 48090128 step creation temporarily disabled, retrying (Requested nodes are busy)\n",
      "srun: Step created for job 48090128\n",
      "srun: Job 48090128 step creation temporarily disabled, retrying (Requested nodes are busy)\n",
      "srun: Step created for job 48090128\n",
      "srun: Job 48090128 step creation temporarily disabled, retrying (Requested nodes are busy)\n",
      "srun: Step created for job 48090128\n",
      "srun: Job 48090128 step creation temporarily disabled, retrying (Requested nodes are busy)\n",
      "srun: Step created for job 48090128\n",
      "srun: Job 48090128 step creation temporarily disabled, retrying (Requested nodes are busy)\n",
      "srun: Step created for job 48090128\n",
      "srun: Job 48090128 step creation temporarily disabled, retrying (Requested nodes are busy)\n",
      "srun: Step created for job 48090128\n",
      "srun: Job 48090128 step creation temporarily disabled, retrying (Requested nodes are busy)\n",
      "srun: Step created for job 48090128\n",
      "srun: Job 48090128 step creation temporarily disabled, retrying (Requested nodes are busy)\n",
      "srun: Job 48090128 step creation still disabled, retrying (Requested nodes are busy)\n",
      "srun: Step created for job 48090128\n",
      "srun: Job 48090128 step creation temporarily disabled, retrying (Requested nodes are busy)\n",
      "srun: Step created for job 48090128\n",
      "srun: Job 48090128 step creation temporarily disabled, retrying (Requested nodes are busy)\n",
      "srun: Step created for job 48090128\n",
      "srun: Job 48090128 step creation temporarily disabled, retrying (Requested nodes are busy)\n",
      "srun: Step created for job 48090128\n",
      "srun: Job 48090128 step creation temporarily disabled, retrying (Requested nodes are busy)\n",
      "srun: Job 48090128 step creation temporarily disabled, retrying (Requested nodes are busy)\n",
      "srun: Step created for job 48090128\n",
      "srun: Job 48090128 step creation still disabled, retrying (Requested nodes are busy)\n",
      "srun: Step created for job 48090128\n",
      "srun: Job 48090128 step creation temporarily disabled, retrying (Requested nodes are busy)\n",
      "srun: Step created for job 48090128\n",
      "srun: Job 48090128 step creation temporarily disabled, retrying (Requested nodes are busy)\n",
      "srun: Step created for job 48090128\n",
      "srun: Job 48090128 step creation temporarily disabled, retrying (Requested nodes are busy)\n",
      "srun: Step created for job 48090128\n",
      "srun: Job 48090128 step creation temporarily disabled, retrying (Requested nodes are busy)\n",
      "srun: Step created for job 48090128\n",
      "srun: Job 48090128 step creation temporarily disabled, retrying (Requested nodes are busy)\n",
      "srun: Step created for job 48090128\n",
      "srun: Job 48090128 step creation temporarily disabled, retrying (Requested nodes are busy)\n",
      "srun: Step created for job 48090128\n",
      "srun: Job 48090128 step creation temporarily disabled, retrying (Requested nodes are busy)\n",
      "srun: Step created for job 48090128\n",
      "srun: Job 48090128 step creation temporarily disabled, retrying (Requested nodes are busy)\n",
      "srun: Step created for job 48090128\n",
      "srun: Job 48090128 step creation temporarily disabled, retrying (Requested nodes are busy)\n",
      "srun: Step created for job 48090128\n",
      "srun: Job 48090128 step creation temporarily disabled, retrying (Requested nodes are busy)\n",
      "srun: Step created for job 48090128\n",
      "srun: Job 48090128 step creation temporarily disabled, retrying (Requested nodes are busy)\n",
      "srun: Step created for job 48090128\n",
      "srun: Job 48090128 step creation temporarily disabled, retrying (Requested nodes are busy)\n",
      "srun: Step created for job 48090128\n",
      "srun: Job 48090128 step creation temporarily disabled, retrying (Requested nodes are busy)\n",
      "srun: Job 48090128 step creation still disabled, retrying (Requested nodes are busy)\n",
      "srun: Step created for job 48090128\n",
      "srun: Job 48090128 step creation temporarily disabled, retrying (Requested nodes are busy)\n",
      "srun: Job 48090128 step creation still disabled, retrying (Requested nodes are busy)\n",
      "srun: Step created for job 48090128\n",
      "srun: Job 48090128 step creation temporarily disabled, retrying (Requested nodes are busy)\n",
      "srun: Step created for job 48090128\n",
      "srun: Job 48090128 step creation temporarily disabled, retrying (Requested nodes are busy)\n",
      "srun: Step created for job 48090128\n",
      "srun: Job 48090128 step creation temporarily disabled, retrying (Requested nodes are busy)\n",
      "srun: Step created for job 48090128\n",
      "srun: Job 48090128 step creation temporarily disabled, retrying (Requested nodes are busy)\n",
      "srun: Step created for job 48090128\n",
      "srun: Job 48090128 step creation temporarily disabled, retrying (Requested nodes are busy)\n",
      "srun: Job 48090128 step creation still disabled, retrying (Requested nodes are busy)\n",
      "srun: Step created for job 48090128\n",
      "srun: Job 48090128 step creation temporarily disabled, retrying (Requested nodes are busy)\n",
      "srun: Step created for job 48090128\n",
      "srun: Job 48090128 step creation temporarily disabled, retrying (Requested nodes are busy)\n",
      "srun: Job 48090128 step creation still disabled, retrying (Requested nodes are busy)\n",
      "srun: Step created for job 48090128\n",
      "srun: Job 48090128 step creation temporarily disabled, retrying (Requested nodes are busy)\n",
      "srun: Step created for job 48090128\n",
      "srun: Job 48090128 step creation temporarily disabled, retrying (Requested nodes are busy)\n",
      "srun: Step created for job 48090128\n",
      "srun: Job 48090128 step creation temporarily disabled, retrying (Requested nodes are busy)\n",
      "srun: Step created for job 48090128\n",
      "srun: Job 48090128 step creation temporarily disabled, retrying (Requested nodes are busy)\n",
      "srun: Step created for job 48090128\n",
      "srun: Job 48090128 step creation temporarily disabled, retrying (Requested nodes are busy)\n",
      "srun: Step created for job 48090128\n",
      "srun: Job 48090128 step creation temporarily disabled, retrying (Requested nodes are busy)\n",
      "srun: Job 48090128 step creation temporarily disabled, retrying (Requested nodes are busy)\n",
      "srun: Step created for job 48090128\n",
      "srun: Job 48090128 step creation still disabled, retrying (Requested nodes are busy)\n",
      "srun: Step created for job 48090128\n",
      "srun: Job 48090128 step creation temporarily disabled, retrying (Requested nodes are busy)\n",
      "srun: Step created for job 48090128\n",
      "srun: Job 48090128 step creation temporarily disabled, retrying (Requested nodes are busy)\n",
      "srun: Step created for job 48090128\n",
      "srun: Job 48090128 step creation temporarily disabled, retrying (Requested nodes are busy)\n",
      "srun: Step created for job 48090128\n",
      "srun: Job 48090128 step creation temporarily disabled, retrying (Requested nodes are busy)\n",
      "srun: Step created for job 48090128\n",
      "srun: Job 48090128 step creation temporarily disabled, retrying (Requested nodes are busy)\n",
      "srun: Step created for job 48090128\n",
      "srun: Job 48090128 step creation temporarily disabled, retrying (Requested nodes are busy)\n",
      "srun: Step created for job 48090128\n",
      "srun: Job 48090128 step creation temporarily disabled, retrying (Requested nodes are busy)\n",
      "srun: Job 48090128 step creation still disabled, retrying (Requested nodes are busy)\n",
      "srun: Step created for job 48090128\n",
      "srun: Job 48090128 step creation temporarily disabled, retrying (Requested nodes are busy)\n",
      "srun: Step created for job 48090128\n",
      "srun: Job 48090128 step creation temporarily disabled, retrying (Requested nodes are busy)\n",
      "srun: Step created for job 48090128\n",
      "srun: Job 48090128 step creation temporarily disabled, retrying (Requested nodes are busy)\n",
      "srun: Step created for job 48090128\n",
      "srun: Job 48090128 step creation temporarily disabled, retrying (Requested nodes are busy)\n",
      "srun: Step created for job 48090128\n",
      "srun: Job 48090128 step creation temporarily disabled, retrying (Requested nodes are busy)\n",
      "srun: Step created for job 48090128\n",
      "srun: Job 48090128 step creation temporarily disabled, retrying (Requested nodes are busy)\n",
      "srun: Step created for job 48090128\n",
      "srun: Job 48090128 step creation temporarily disabled, retrying (Requested nodes are busy)\n",
      "srun: Job 48090128 step creation still disabled, retrying (Requested nodes are busy)\n",
      "srun: Step created for job 48090128\n"
     ]
    }
   ],
   "source": [
    "%%bash\n",
    "rm outputs/out_omp1024N2.txt\n",
    "ranks=(2 4 6 8 12 24)\n",
    "for index in ${!ranks[*]} ; do\n",
    "  nrank=${ranks[$index]}\n",
    "  max_thread=$((48/$nrank))\n",
    "  echo \"out_$nrank = [None] * ($max_thread+1)\" >> outputs/out_omp1024N2.txt\n",
    "  for nthreads in `seq 1 $max_thread` ; do\n",
    "    export OMP_NUM_THREADS=$nthreads\n",
    "    ncores=$nthreads\n",
    "    if [ $nthreads -gt 24 ] ; then\n",
    "      ncores=24\n",
    "    fi\n",
    "    srun -N 2 -n $nrank -c $ncores ./stencil2d-omp.x --nx 1024 --ny 1024 --nz 64 --num_iter 1024 >> outputs/out_omp1024N2.txt\n",
    "  done\n",
    "done"
   ]
  },
  {
   "cell_type": "code",
   "execution_count": 2,
   "id": "fd98db9f-8ad2-4b69-91b0-a7bea83aa0f2",
   "metadata": {
    "collapsed": true,
    "jupyter": {
     "outputs_hidden": true
    },
    "tags": []
   },
   "outputs": [
    {
     "name": "stderr",
     "output_type": "stream",
     "text": [
      "rm: cannot remove 'out_kblock1024N2.txt': No such file or directory\n",
      "srun: Job 48090128 step creation temporarily disabled, retrying (Requested nodes are busy)\n",
      "srun: Step created for job 48090128\n",
      "srun: Job 48090128 step creation temporarily disabled, retrying (Requested nodes are busy)\n",
      "srun: Step created for job 48090128\n",
      "srun: Job 48090128 step creation temporarily disabled, retrying (Requested nodes are busy)\n",
      "srun: Step created for job 48090128\n",
      "srun: Job 48090128 step creation temporarily disabled, retrying (Requested nodes are busy)\n",
      "srun: Step created for job 48090128\n",
      "srun: Job 48090128 step creation temporarily disabled, retrying (Requested nodes are busy)\n",
      "srun: Step created for job 48090128\n",
      "srun: Job 48090128 step creation temporarily disabled, retrying (Requested nodes are busy)\n",
      "srun: Step created for job 48090128\n"
     ]
    }
   ],
   "source": [
    "%%bash\n",
    "rm outputs/out_kblock1024N2.txt\n",
    "ranks=(2 4 6 8 12 24)\n",
    "for index in ${!ranks[*]} ; do\n",
    "  nrank=${ranks[$index]}\n",
    "  max_thread=$((48/$nrank))\n",
    "  echo \"out_$nrank = [None] * ($max_thread+1)\" >> outputs/out_kblock1024N2.txt\n",
    "  for nthreads in `seq 1 $max_thread` ; do\n",
    "    export OMP_NUM_THREADS=$nthreads\n",
    "    ncores=$nthreads\n",
    "    if [ $nthreads -gt 24 ] ; then\n",
    "      ncores=24\n",
    "    fi\n",
    "    srun -N 2 -n $nrank -c $ncores ./stencil2d-kblock.x --nx 1024 --ny 1024 --nz 64 --num_iter 1024 >> outputs/out_kblock1024N2.txt\n",
    "  done\n",
    "done"
   ]
  },
  {
   "cell_type": "code",
   "execution_count": 1,
   "id": "0ca45200-23f5-43b0-b5ba-60e455965612",
   "metadata": {
    "tags": []
   },
   "outputs": [
    {
     "name": "stderr",
     "output_type": "stream",
     "text": [
      "rm: cannot remove 'out_onfly1024N2.txt': No such file or directory\n",
      "srun: Job 48090128 step creation temporarily disabled, retrying (Requested nodes are busy)\n",
      "srun: Step created for job 48090128\n",
      "srun: Job 48090128 step creation temporarily disabled, retrying (Requested nodes are busy)\n",
      "srun: Step created for job 48090128\n",
      "srun: Job 48090128 step creation temporarily disabled, retrying (Requested nodes are busy)\n",
      "srun: Step created for job 48090128\n",
      "srun: Job 48090128 step creation temporarily disabled, retrying (Requested nodes are busy)\n",
      "srun: Step created for job 48090128\n",
      "srun: Job 48090128 step creation temporarily disabled, retrying (Requested nodes are busy)\n",
      "srun: Step created for job 48090128\n",
      "srun: Job 48090128 step creation temporarily disabled, retrying (Requested nodes are busy)\n",
      "srun: Step created for job 48090128\n",
      "srun: Job 48090128 step creation temporarily disabled, retrying (Requested nodes are busy)\n",
      "srun: Step created for job 48090128\n"
     ]
    }
   ],
   "source": [
    "%%bash\n",
    "rm outputs/out_onfly1024N2.txt\n",
    "ranks=(2 4 6 8 12 24)\n",
    "for index in ${!ranks[*]} ; do\n",
    "  nrank=${ranks[$index]}\n",
    "  max_thread=$((48/$nrank))\n",
    "  echo \"out_$nrank = [None] * ($max_thread+1)\" >> outputs/out_onfly1024N2.txt\n",
    "  for nthreads in `seq 1 $max_thread` ; do\n",
    "    export OMP_NUM_THREADS=$nthreads\n",
    "    ncores=$nthreads\n",
    "    if [ $nthreads -gt 24 ] ; then\n",
    "      ncores=24\n",
    "    fi\n",
    "    srun -N 2 -n $nrank -c $ncores ./stencil2d-onfly.x --nx 1024 --ny 1024 --nz 64 --num_iter 1024 >> outputs/out_onfly1024N2.txt\n",
    "  done\n",
    "done"
   ]
  },
  {
   "cell_type": "code",
   "execution_count": 20,
   "id": "942202ea-1041-49f3-af46-2f9a2d4d8f78",
   "metadata": {},
   "outputs": [],
   "source": [
    "cases = [\"omp\", \"kblock\", \"onfly\"]\n",
    "num_ranks = [2, 4, 6, 8, 12, 24]\n",
    "results = dict()\n",
    "for case in cases:\n",
    "    results[case] = []\n",
    "    exec(open(\"outputs/out_%s1024N2.txt\" % case, \"r\").read())\n",
    "    for rank in num_ranks:\n",
    "        results[case].append(eval(\"out_%d\" % rank))\n",
    "results_for_plot = dict()\n",
    "for case in cases:\n",
    "    results_for_plot[case] = []\n",
    "    for i in range(len(num_ranks)):\n",
    "        results_for_plot[case].append([])\n",
    "        for j in range(1, len(results[case][i])):\n",
    "            results_for_plot[case][i].append(results[case][i][j][0, 5])"
   ]
  },
  {
   "cell_type": "code",
   "execution_count": 21,
   "id": "30f1ef70-d82b-4837-bc62-c3f225995052",
   "metadata": {},
   "outputs": [
    {
     "data": {
      "image/png": "[encoded data removed]",
      "text/plain": [
       "<Figure size 1440x1440 with 6 Axes>"
      ]
     },
     "metadata": {
      "needs_background": "light"
     },
     "output_type": "display_data"
    }
   ],
   "source": [
    "fig, axs = plt.subplots(3, 2, figsize=(20,20))\n",
    "for i in range(len(num_ranks)):\n",
    "    n_threads = np.arange(48 / num_ranks[i]) + 1\n",
    "    total_width = 0.8\n",
    "    for j in range(len(cases)):\n",
    "        each_width = total_width/len(cases)\n",
    "        xj = n_threads - total_width/2 + each_width * (j + 1/2)\n",
    "        yj = results_for_plot[cases[j]][i]\n",
    "        axs.flat[i].bar(xj, yj, each_width, label=cases[j])\n",
    "    axs.flat[i].set_title(\"rank=%d\" % num_ranks[i])\n",
    "    axs.flat[i].set_xlabel(\"num_threads\")\n",
    "    axs.flat[i].set_ylabel(\"time\")\n",
    "    axs.flat[i].legend()\n",
    "plt.show()"
   ]
  },
  {
   "cell_type": "markdown",
   "id": "7f625f97-86ee-435b-af6a-7f4665eb88be",
   "metadata": {},
   "source": [
    "## dimension: 64 \\* 64 \\* 64"
   ]
  },
  {
   "cell_type": "code",
   "execution_count": 12,
   "id": "b74cfaa0-3fc1-483f-9fdc-f31feb4d45b1",
   "metadata": {},
   "outputs": [
    {
     "name": "stderr",
     "output_type": "stream",
     "text": [
      "rm: cannot remove 'out_mpi64N2.txt': No such file or directory\n",
      "srun: Job 48090128 step creation temporarily disabled, retrying (Requested nodes are busy)\n",
      "srun: Step created for job 48090128\n",
      "srun: Job 48090128 step creation temporarily disabled, retrying (Requested nodes are busy)\n",
      "srun: Step created for job 48090128\n",
      "srun: Job 48090128 step creation temporarily disabled, retrying (Requested nodes are busy)\n",
      "srun: Step created for job 48090128\n",
      "srun: Job 48090128 step creation temporarily disabled, retrying (Requested nodes are busy)\n",
      "srun: Step created for job 48090128\n",
      "srun: Job 48090128 step creation temporarily disabled, retrying (Requested nodes are busy)\n",
      "srun: Step created for job 48090128\n"
     ]
    }
   ],
   "source": [
    "%%bash\n",
    "rm outputs/out_mpi64N2.txt\n",
    "ranks=(2 4 6 8 12 24)\n",
    "for index in ${!ranks[*]} ; do\n",
    "  nrank=${ranks[$index]}\n",
    "  max_thread=$((48/$nrank))\n",
    "  echo \"out_$nrank = [None] * ($max_thread+1)\" >> outputs/out_mpi64N2.txt\n",
    "  for nthreads in `seq 1 $max_thread` ; do\n",
    "    export OMP_NUM_THREADS=$nthreads\n",
    "    ncores=$nthreads\n",
    "    if [ $nthreads -gt 24 ] ; then\n",
    "      ncores=24\n",
    "    fi\n",
    "    srun -N 2 -n $nrank -c $ncores ./stencil2d-mpi.x --nx 64 --ny 64 --nz 64 --num_iter 1024 >> outputs/out_mpi64N2.txt\n",
    "  done\n",
    "done"
   ]
  },
  {
   "cell_type": "code",
   "execution_count": 13,
   "id": "667f190e-65e2-4c50-a9a4-2da2983e6d26",
   "metadata": {},
   "outputs": [
    {
     "name": "stderr",
     "output_type": "stream",
     "text": [
      "rm: cannot remove 'out_omp64N2.txt': No such file or directory\n",
      "srun: Job 48090128 step creation temporarily disabled, retrying (Requested nodes are busy)\n",
      "srun: Step created for job 48090128\n",
      "srun: Job 48090128 step creation temporarily disabled, retrying (Requested nodes are busy)\n",
      "srun: Step created for job 48090128\n",
      "srun: Job 48090128 step creation temporarily disabled, retrying (Requested nodes are busy)\n",
      "srun: Step created for job 48090128\n",
      "srun: Job 48090128 step creation temporarily disabled, retrying (Requested nodes are busy)\n",
      "srun: Step created for job 48090128\n",
      "srun: Job 48090128 step creation temporarily disabled, retrying (Requested nodes are busy)\n",
      "srun: Step created for job 48090128\n",
      "srun: Job 48090128 step creation temporarily disabled, retrying (Requested nodes are busy)\n",
      "srun: Step created for job 48090128\n",
      "srun: Job 48090128 step creation temporarily disabled, retrying (Requested nodes are busy)\n",
      "srun: Step created for job 48090128\n"
     ]
    }
   ],
   "source": [
    "%%bash\n",
    "rm outputs/out_omp64N2.txt\n",
    "ranks=(2 4 6 8 12 24)\n",
    "for index in ${!ranks[*]} ; do\n",
    "  nrank=${ranks[$index]}\n",
    "  max_thread=$((48/$nrank))\n",
    "  echo \"out_$nrank = [None] * ($max_thread+1)\" >> outputs/out_omp64N2.txt\n",
    "  for nthreads in `seq 1 $max_thread` ; do\n",
    "    export OMP_NUM_THREADS=$nthreads\n",
    "    ncores=$nthreads\n",
    "    if [ $nthreads -gt 24 ] ; then\n",
    "      ncores=24\n",
    "    fi\n",
    "    srun -N 2 -n $nrank -c $ncores ./stencil2d-omp.x --nx 64 --ny 64 --nz 64 --num_iter 1024 >> outputs/out_omp64N2.txt\n",
    "  done\n",
    "done"
   ]
  },
  {
   "cell_type": "code",
   "execution_count": 14,
   "id": "3a225ebf-ab9a-43d5-b940-8e5bc26719fb",
   "metadata": {},
   "outputs": [
    {
     "name": "stderr",
     "output_type": "stream",
     "text": [
      "rm: cannot remove 'out_kblock64N2.txt': No such file or directory\n",
      "srun: Job 48090128 step creation temporarily disabled, retrying (Requested nodes are busy)\n",
      "srun: Step created for job 48090128\n",
      "srun: Job 48090128 step creation temporarily disabled, retrying (Requested nodes are busy)\n",
      "srun: Step created for job 48090128\n"
     ]
    }
   ],
   "source": [
    "%%bash\n",
    "rm outputs/out_kblock64N2.txt\n",
    "ranks=(2 4 6 8 12 24)\n",
    "for index in ${!ranks[*]} ; do\n",
    "  nrank=${ranks[$index]}\n",
    "  max_thread=$((48/$nrank))\n",
    "  echo \"out_$nrank = [None] * ($max_thread+1)\" >> outputs/out_kblock64N2.txt\n",
    "  for nthreads in `seq 1 $max_thread` ; do\n",
    "    export OMP_NUM_THREADS=$nthreads\n",
    "    ncores=$nthreads\n",
    "    if [ $nthreads -gt 24 ] ; then\n",
    "      ncores=24\n",
    "    fi\n",
    "    srun -N 2 -n $nrank -c $ncores ./stencil2d-kblock.x --nx 64 --ny 64 --nz 64 --num_iter 1024 >> outputs/out_kblock64N2.txt\n",
    "  done\n",
    "done"
   ]
  },
  {
   "cell_type": "code",
   "execution_count": 16,
   "id": "d54541f6-24d2-4f57-a54c-41bb571c3e49",
   "metadata": {},
   "outputs": [
    {
     "name": "stderr",
     "output_type": "stream",
     "text": [
      "rm: cannot remove 'out_kblockin64N2.txt': No such file or directory\n",
      "srun: Job 48090128 step creation temporarily disabled, retrying (Requested nodes are busy)\n",
      "srun: Step created for job 48090128\n",
      "srun: Job 48090128 step creation temporarily disabled, retrying (Requested nodes are busy)\n",
      "srun: Step created for job 48090128\n",
      "srun: Job 48090128 step creation temporarily disabled, retrying (Requested nodes are busy)\n",
      "srun: Step created for job 48090128\n",
      "srun: Job 48090128 step creation temporarily disabled, retrying (Requested nodes are busy)\n",
      "srun: Step created for job 48090128\n",
      "srun: Job 48090128 step creation temporarily disabled, retrying (Requested nodes are busy)\n",
      "srun: Step created for job 48090128\n"
     ]
    }
   ],
   "source": [
    "%%bash\n",
    "rm outputs/out_kblockin64N2.txt\n",
    "ranks=(2 4 6 8 12 24)\n",
    "for index in ${!ranks[*]} ; do\n",
    "  nrank=${ranks[$index]}\n",
    "  max_thread=$((48/$nrank))\n",
    "  echo \"out_$nrank = [None] * ($max_thread+1)\" >> outputs/out_kblockin64N2.txt\n",
    "  for nthreads in `seq 1 $max_thread` ; do\n",
    "    export OMP_NUM_THREADS=$nthreads\n",
    "    ncores=$nthreads\n",
    "    if [ $nthreads -gt 24 ] ; then\n",
    "      ncores=24\n",
    "    fi\n",
    "    srun -N 2 -n $nrank -c $ncores ./stencil2d-kblockin.x --nx 64 --ny 64 --nz 64 --num_iter 1024 >> outputs/out_kblockin64N2.txt\n",
    "  done\n",
    "done"
   ]
  },
  {
   "cell_type": "code",
   "execution_count": 15,
   "id": "4b2f5afc-e8ff-43e1-a074-12f5a006047d",
   "metadata": {},
   "outputs": [
    {
     "name": "stderr",
     "output_type": "stream",
     "text": [
      "rm: cannot remove 'out_onfly64N2.txt': No such file or directory\n",
      "srun: Job 48090128 step creation temporarily disabled, retrying (Requested nodes are busy)\n",
      "srun: Step created for job 48090128\n",
      "srun: Job 48090128 step creation temporarily disabled, retrying (Requested nodes are busy)\n",
      "srun: Step created for job 48090128\n"
     ]
    }
   ],
   "source": [
    "%%bash\n",
    "rm outputs/out_onfly64N2.txt\n",
    "ranks=(2 4 6 8 12 24)\n",
    "for index in ${!ranks[*]} ; do\n",
    "  nrank=${ranks[$index]}\n",
    "  max_thread=$((48/$nrank))\n",
    "  echo \"out_$nrank = [None] * ($max_thread+1)\" >> outputs/out_onfly64N2.txt\n",
    "  for nthreads in `seq 1 $max_thread` ; do\n",
    "    export OMP_NUM_THREADS=$nthreads\n",
    "    ncores=$nthreads\n",
    "    if [ $nthreads -gt 24 ] ; then\n",
    "      ncores=24\n",
    "    fi\n",
    "    srun -N 2 -n $nrank -c $ncores ./stencil2d-onfly.x --nx 64 --ny 64 --nz 64 --num_iter 1024 >> outputs/out_onfly64N2.txt\n",
    "  done\n",
    "done"
   ]
  },
  {
   "cell_type": "code",
   "execution_count": 17,
   "id": "dc33354b-b3e2-4d4e-bb01-399a07c9d15a",
   "metadata": {},
   "outputs": [],
   "source": [
    "cases = [\"mpi\", \"omp\", \"kblock\", \"kblockin\", \"onfly\"]\n",
    "num_ranks = [2, 4, 6, 8, 12, 24]\n",
    "results = dict()\n",
    "for case in cases:\n",
    "    results[case] = []\n",
    "    exec(open(\"outputs/out_%s64N2.txt\" % case, \"r\").read())\n",
    "    for rank in num_ranks:\n",
    "        results[case].append(eval(\"out_%d\" % rank))\n",
    "results_for_plot = dict()\n",
    "for case in cases:\n",
    "    results_for_plot[case] = []\n",
    "    for i in range(len(num_ranks)):\n",
    "        results_for_plot[case].append([])\n",
    "        for j in range(1, len(results[case][i])):\n",
    "            results_for_plot[case][i].append(results[case][i][j][0, 5])"
   ]
  },
  {
   "cell_type": "code",
   "execution_count": 19,
   "id": "46f0c340-f3e1-4473-a02c-f41d4374c57d",
   "metadata": {},
   "outputs": [
    {
     "data": {
      "image/png": "[encoded data removed]",
      "text/plain": [
       "<Figure size 1440x1440 with 6 Axes>"
      ]
     },
     "metadata": {
      "needs_background": "light"
     },
     "output_type": "display_data"
    }
   ],
   "source": [
    "fig, axs = plt.subplots(3, 2, figsize=(20,20))\n",
    "for i in range(len(num_ranks)):\n",
    "    n_threads = np.arange(48 / num_ranks[i]) + 1\n",
    "    total_width = 0.8\n",
    "    for j in range(len(cases)):\n",
    "        each_width = total_width/len(cases)\n",
    "        xj = n_threads - total_width/2 + each_width * (j + 1/2)\n",
    "        yj = results_for_plot[cases[j]][i]\n",
    "        axs.flat[i].bar(xj, yj, each_width, label=cases[j])\n",
    "    axs.flat[i].set_title(\"rank=%d\" % num_ranks[i])\n",
    "    axs.flat[i].set_xlabel(\"num_threads\")\n",
    "    axs.flat[i].set_ylabel(\"time\")\n",
    "    axs.flat[i].legend()\n",
    "plt.show()"
   ]
  },
  {
   "cell_type": "markdown",
   "id": "39587e28-edcf-4e14-903e-85823c1f8394",
   "metadata": {},
   "source": [
    "## dimension: 128 \\* 128 \\* 64"
   ]
  },
  {
   "cell_type": "code",
   "execution_count": 3,
   "id": "b09f09fc-3bcf-49eb-9eb7-a8025d7ec0d0",
   "metadata": {},
   "outputs": [
    {
     "name": "stderr",
     "output_type": "stream",
     "text": [
      "srun: Job 48092077 step creation temporarily disabled, retrying (Requested nodes are busy)\n",
      "srun: Step created for job 48092077\n",
      "srun: Job 48092077 step creation temporarily disabled, retrying (Requested nodes are busy)\n",
      "srun: Step created for job 48092077\n",
      "srun: Job 48092077 step creation temporarily disabled, retrying (Requested nodes are busy)\n",
      "srun: Step created for job 48092077\n"
     ]
    }
   ],
   "source": [
    "%%bash\n",
    "rm outputs/out_mpi128N2.txt\n",
    "ranks=(2 4 6 8 12 24)\n",
    "for index in ${!ranks[*]} ; do\n",
    "  nrank=${ranks[$index]}\n",
    "  max_thread=$((48/$nrank))\n",
    "  echo \"out_$nrank = [None] * ($max_thread+1)\" >> outputs/out_mpi128N2.txt\n",
    "  for nthreads in `seq 1 $max_thread` ; do\n",
    "    export OMP_NUM_THREADS=$nthreads\n",
    "    ncores=$nthreads\n",
    "    if [ $nthreads -gt 24 ] ; then\n",
    "      ncores=24\n",
    "    fi\n",
    "    srun -N 2 -n $nrank -c $ncores ./stencil2d-mpi.x --nx 128 --ny 128 --nz 64 --num_iter 1024 >> outputs/out_mpi128N2.txt\n",
    "  done\n",
    "done"
   ]
  },
  {
   "cell_type": "code",
   "execution_count": 4,
   "id": "b8c8dbb1-15a6-4f7b-add7-1c25a2f8d76c",
   "metadata": {},
   "outputs": [
    {
     "name": "stderr",
     "output_type": "stream",
     "text": [
      "rm: cannot remove 'out_omp128N2.txt': No such file or directory\n",
      "srun: Job 48092077 step creation temporarily disabled, retrying (Requested nodes are busy)\n",
      "srun: Step created for job 48092077\n",
      "srun: Job 48092077 step creation temporarily disabled, retrying (Requested nodes are busy)\n",
      "srun: Step created for job 48092077\n"
     ]
    }
   ],
   "source": [
    "%%bash\n",
    "rm outputs/out_omp128N2.txt\n",
    "ranks=(2 4 6 8 12 24)\n",
    "for index in ${!ranks[*]} ; do\n",
    "  nrank=${ranks[$index]}\n",
    "  max_thread=$((48/$nrank))\n",
    "  echo \"out_$nrank = [None] * ($max_thread+1)\" >> outputs/out_omp128N2.txt\n",
    "  for nthreads in `seq 1 $max_thread` ; do\n",
    "    export OMP_NUM_THREADS=$nthreads\n",
    "    ncores=$nthreads\n",
    "    if [ $nthreads -gt 24 ] ; then\n",
    "      ncores=24\n",
    "    fi\n",
    "    srun -N 2 -n $nrank -c $ncores ./stencil2d-omp.x --nx 128 --ny 128 --nz 64 --num_iter 1024 >> outputs/out_omp128N2.txt\n",
    "  done\n",
    "done"
   ]
  },
  {
   "cell_type": "code",
   "execution_count": 5,
   "id": "a757779f-0903-4f89-8737-c467dd66b6c4",
   "metadata": {},
   "outputs": [
    {
     "name": "stderr",
     "output_type": "stream",
     "text": [
      "rm: cannot remove 'out_kblock128N2.txt': No such file or directory\n",
      "srun: Job 48092077 step creation temporarily disabled, retrying (Requested nodes are busy)\n",
      "srun: Step created for job 48092077\n",
      "srun: Job 48092077 step creation temporarily disabled, retrying (Requested nodes are busy)\n",
      "srun: Step created for job 48092077\n",
      "srun: Job 48092077 step creation temporarily disabled, retrying (Requested nodes are busy)\n",
      "srun: Step created for job 48092077\n"
     ]
    }
   ],
   "source": [
    "%%bash\n",
    "rm outputs/out_kblock128N2.txt\n",
    "ranks=(2 4 6 8 12 24)\n",
    "for index in ${!ranks[*]} ; do\n",
    "  nrank=${ranks[$index]}\n",
    "  max_thread=$((48/$nrank))\n",
    "  echo \"out_$nrank = [None] * ($max_thread+1)\" >> outputs/out_kblock128N2.txt\n",
    "  for nthreads in `seq 1 $max_thread` ; do\n",
    "    export OMP_NUM_THREADS=$nthreads\n",
    "    ncores=$nthreads\n",
    "    if [ $nthreads -gt 24 ] ; then\n",
    "      ncores=24\n",
    "    fi\n",
    "    srun -N 2 -n $nrank -c $ncores ./stencil2d-kblock.x --nx 128 --ny 128 --nz 64 --num_iter 1024 >> outputs/out_kblock128N2.txt\n",
    "  done\n",
    "done"
   ]
  },
  {
   "cell_type": "code",
   "execution_count": 6,
   "id": "dda8d487-cfe8-4d60-bfbe-4d171d932d40",
   "metadata": {},
   "outputs": [
    {
     "name": "stderr",
     "output_type": "stream",
     "text": [
      "rm: cannot remove 'out_kblockin128N2.txt': No such file or directory\n",
      "srun: Job 48092077 step creation temporarily disabled, retrying (Requested nodes are busy)\n",
      "srun: Step created for job 48092077\n",
      "srun: Job 48092077 step creation temporarily disabled, retrying (Requested nodes are busy)\n",
      "srun: Step created for job 48092077\n",
      "srun: Job 48092077 step creation temporarily disabled, retrying (Requested nodes are busy)\n",
      "srun: Step created for job 48092077\n",
      "srun: Job 48092077 step creation temporarily disabled, retrying (Requested nodes are busy)\n",
      "srun: Step created for job 48092077\n",
      "srun: Job 48092077 step creation temporarily disabled, retrying (Requested nodes are busy)\n",
      "srun: Step created for job 48092077\n",
      "srun: Job 48092077 step creation temporarily disabled, retrying (Requested nodes are busy)\n",
      "srun: Step created for job 48092077\n"
     ]
    }
   ],
   "source": [
    "%%bash\n",
    "rm outputs/out_kblockin128N2.txt\n",
    "ranks=(2 4 6 8 12 24)\n",
    "for index in ${!ranks[*]} ; do\n",
    "  nrank=${ranks[$index]}\n",
    "  max_thread=$((48/$nrank))\n",
    "  echo \"out_$nrank = [None] * ($max_thread+1)\" >> outputs/out_kblockin128N2.txt\n",
    "  for nthreads in `seq 1 $max_thread` ; do\n",
    "    export OMP_NUM_THREADS=$nthreads\n",
    "    ncores=$nthreads\n",
    "    if [ $nthreads -gt 24 ] ; then\n",
    "      ncores=24\n",
    "    fi\n",
    "    srun -N 2 -n $nrank -c $ncores ./stencil2d-kblockin.x --nx 128 --ny 128 --nz 64 --num_iter 1024 >> outputs/out_kblockin128N2.txt\n",
    "  done\n",
    "done"
   ]
  },
  {
   "cell_type": "code",
   "execution_count": 7,
   "id": "82a29d24-2a1c-4659-8b8e-5eb35d1a69c9",
   "metadata": {},
   "outputs": [
    {
     "name": "stderr",
     "output_type": "stream",
     "text": [
      "rm: cannot remove 'out_onfly128N2.txt': No such file or directory\n",
      "srun: Job 48092077 step creation temporarily disabled, retrying (Requested nodes are busy)\n",
      "srun: Step created for job 48092077\n",
      "srun: Job 48092077 step creation temporarily disabled, retrying (Requested nodes are busy)\n",
      "srun: Step created for job 48092077\n"
     ]
    }
   ],
   "source": [
    "%%bash\n",
    "rm outputs/out_onfly128N2.txt\n",
    "ranks=(2 4 6 8 12 24)\n",
    "for index in ${!ranks[*]} ; do\n",
    "  nrank=${ranks[$index]}\n",
    "  max_thread=$((48/$nrank))\n",
    "  echo \"out_$nrank = [None] * ($max_thread+1)\" >> outputs/out_onfly128N2.txt\n",
    "  for nthreads in `seq 1 $max_thread` ; do\n",
    "    export OMP_NUM_THREADS=$nthreads\n",
    "    ncores=$nthreads\n",
    "    if [ $nthreads -gt 24 ] ; then\n",
    "      ncores=24\n",
    "    fi\n",
    "    srun -N 2 -n $nrank -c $ncores ./stencil2d-onfly.x --nx 128 --ny 128 --nz 64 --num_iter 1024 >> outputs/out_onfly128N2.txt\n",
    "  done\n",
    "done"
   ]
  },
  {
   "cell_type": "code",
   "execution_count": 8,
   "id": "d5b5221b-48e9-4209-af47-3fb856838038",
   "metadata": {},
   "outputs": [],
   "source": [
    "cases = [\"mpi\", \"omp\", \"kblock\", \"kblockin\", \"onfly\"]\n",
    "num_ranks = [2, 4, 6, 8, 12, 24]\n",
    "results = dict()\n",
    "for case in cases:\n",
    "    results[case] = []\n",
    "    exec(open(\"outputs/out_%s128N2.txt\" % case, \"r\").read())\n",
    "    for rank in num_ranks:\n",
    "        results[case].append(eval(\"out_%d\" % rank))\n",
    "results_for_plot = dict()\n",
    "for case in cases:\n",
    "    results_for_plot[case] = []\n",
    "    for i in range(len(num_ranks)):\n",
    "        results_for_plot[case].append([])\n",
    "        for j in range(1, len(results[case][i])):\n",
    "            results_for_plot[case][i].append(results[case][i][j][0, 5])"
   ]
  },
  {
   "cell_type": "code",
   "execution_count": 9,
   "id": "45184750-bf87-4073-8e27-ac1963a4fa95",
   "metadata": {},
   "outputs": [
    {
     "data": {
      "image/png": "[encoded data removed]",
      "text/plain": [
       "<Figure size 1440x1440 with 6 Axes>"
      ]
     },
     "metadata": {
      "needs_background": "light"
     },
     "output_type": "display_data"
    }
   ],
   "source": [
    "fig, axs = plt.subplots(3, 2, figsize=(20,20))\n",
    "for i in range(len(num_ranks)):\n",
    "    n_threads = np.arange(48 / num_ranks[i]) + 1\n",
    "    total_width = 0.8\n",
    "    for j in range(len(cases)):\n",
    "        each_width = total_width/len(cases)\n",
    "        xj = n_threads - total_width/2 + each_width * (j + 1/2)\n",
    "        yj = results_for_plot[cases[j]][i]\n",
    "        axs.flat[i].bar(xj, yj, each_width, label=cases[j])\n",
    "    axs.flat[i].set_title(\"rank=%d\" % num_ranks[i])\n",
    "    axs.flat[i].set_xlabel(\"num_threads\")\n",
    "    axs.flat[i].set_ylabel(\"time\")\n",
    "    axs.flat[i].legend()\n",
    "plt.show()"
   ]
  },
  {
   "cell_type": "code",
   "execution_count": null,
   "id": "0fff1ad9-a277-4a77-8e6a-354576d8ebef",
   "metadata": {},
   "outputs": [],
   "source": []
  }
 ],
 "metadata": {
  "kernelspec": {
   "display_name": "HPC4WC_kernel",
   "language": "python",
   "name": "hpc4wc_kernel"
  },
  "language_info": {
   "codemirror_mode": {
    "name": "ipython",
    "version": 3
   },
   "file_extension": ".py",
   "mimetype": "text/x-python",
   "name": "python",
   "nbconvert_exporter": "python",
   "pygments_lexer": "ipython3",
   "version": "3.9.4"
  }
 },
 "nbformat": 4,
 "nbformat_minor": 5
}
