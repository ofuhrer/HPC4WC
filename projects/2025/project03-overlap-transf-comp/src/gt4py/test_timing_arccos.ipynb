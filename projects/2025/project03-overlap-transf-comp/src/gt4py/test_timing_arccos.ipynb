{
 "cells": [
  {
   "cell_type": "markdown",
   "id": "a1f86af2-561b-42fe-9430-45edc20ad0be",
   "metadata": {},
   "source": [
    "# Prototype timing arccos with gt4py\n",
    "In here we tested different timing techniques."
   ]
  },
  {
   "cell_type": "code",
   "execution_count": 7,
   "id": "dc7fbdf1-5f4d-4f50-aea2-f482ec4009ee",
   "metadata": {},
   "outputs": [],
   "source": [
    "import os\n",
    "import gt4py.next as gtx\n",
    "from gt4py.next import broadcast\n",
    "from gt4py.next.ffront.fbuiltins import arccos\n",
    "import numpy as np"
   ]
  },
  {
   "cell_type": "code",
   "execution_count": 8,
   "id": "c411e84c-ac0f-4b8e-9e16-2c7528bc33e1",
   "metadata": {},
   "outputs": [],
   "source": [
    "I = gtx.Dimension(\"I\")\n",
    "J = gtx.Dimension(\"J\")\n",
    "K = gtx.Dimension(\"K\")\n",
    "IField = gtx.Field[gtx.Dims[I], gtx.float64]\n",
    "IJKField = gtx.Field[gtx.Dims[I, J, K], gtx.float64]"
   ]
  },
  {
   "cell_type": "code",
   "execution_count": 9,
   "id": "4c2bc55a-a7e5-4f53-ac3f-e2d21ebeebda",
   "metadata": {},
   "outputs": [],
   "source": [
    "n_max = 1e8\n",
    "x_np = 2 * np.random.rand(int(n_max)) - 1\n",
    "\n",
    "two_by_pi = 2 / np.pi\n",
    "arccos_rescaled_np = lambda x: two_by_pi * np.arccos(x) - 1\n",
    "ref_np = arccos_rescaled_np(arccos_rescaled_np(arccos_rescaled_np(arccos_rescaled_np(x_np))))"
   ]
  },
  {
   "cell_type": "code",
   "execution_count": 10,
   "id": "dbc33745-def9-4bb0-92d1-b9cbc168acf5",
   "metadata": {},
   "outputs": [
    {
     "data": {
      "text/plain": [
       "array([-0.12665501, -0.24328836,  0.08006521, ..., -0.13992951,\n",
       "        0.10686117, -0.03258796])"
      ]
     },
     "metadata": {},
     "output_type": "display_data"
    },
    {
     "data": {
      "text/plain": [
       "array([-0.6632596 , -0.93167756,  0.45773221, ..., -0.71086848,\n",
       "        0.58310831, -0.19629008])"
      ]
     },
     "metadata": {},
     "output_type": "display_data"
    }
   ],
   "source": [
    "display(ref_np, x_np)\n",
    "\n",
    "assert(len(x_np.shape) == 1)\n",
    "domain_all = gtx.domain({\n",
    "    I: (0, x_np.shape[0]),\n",
    "})"
   ]
  },
  {
   "cell_type": "code",
   "execution_count": 12,
   "id": "97c429fd-6a08-4f42-886a-e57e00f1ddb1",
   "metadata": {},
   "outputs": [],
   "source": [
    "@gtx.field_operator\n",
    "def arccos_once(x: IField) -> IField:\n",
    "    return arccos(x)\n",
    "\n",
    "###\n",
    "\n",
    "@gtx.field_operator # 2^0\n",
    "def arccos_rescaled(x: IField) -> IField:\n",
    "    res = broadcast(2.0 / 3.141592653589793, (I,)) * arccos(x) - broadcast(1.0, (I,))\n",
    "    return res\n",
    "\n",
    "@gtx.field_operator # 2^1\n",
    "def arccos_twice(x: IField) -> IField:\n",
    "    return arccos_rescaled(arccos_rescaled(x))\n",
    "\n",
    "@gtx.field_operator # 2^2\n",
    "def arccos_four_times(x: IField) -> IField:\n",
    "    return arccos_rescaled(arccos_rescaled(arccos_rescaled(arccos_rescaled(x))))"
   ]
  },
  {
   "cell_type": "code",
   "execution_count": 15,
   "id": "c50154cf-caa0-4b84-8304-7ec76e53abce",
   "metadata": {},
   "outputs": [],
   "source": [
    "# backend = None\n",
    "# backend = gtx.gtfn_cpu\n",
    "backend = gtx.gtfn_gpu\n",
    "# gtx_arccos = arccos_once.with_backend(backend)\n",
    "gtx_4arcosc = arccos_four_times.with_backend(backend)\n",
    "\n",
    "ref = gtx.as_field(data=ref_np, domain=domain_all, allocator=backend)\n",
    "x = gtx.as_field(data=x_np, domain=domain_all, allocator=backend)\n",
    "\n",
    "out_field = gtx.empty(domain=domain_all, dtype=x.dtype, allocator=backend)"
   ]
  },
  {
   "cell_type": "code",
   "execution_count": 16,
   "id": "1c166205-1922-44c0-a3d6-93653b5a05e3",
   "metadata": {},
   "outputs": [
    {
     "name": "stdout",
     "output_type": "stream",
     "text": [
      "3.1 ms ± 311 μs per loop (mean ± std. dev. of 7 runs, 1 loop each)\n"
     ]
    }
   ],
   "source": [
    "%timeit gtx_4arcosc(x=x, out=out_field, domain=domain_all)"
   ]
  },
  {
   "cell_type": "code",
   "execution_count": 19,
   "id": "3e53ba79-4f18-40ea-bf49-d20b37e3ceee",
   "metadata": {},
   "outputs": [
    {
     "data": {
      "text/plain": [
       "np.True_"
      ]
     },
     "execution_count": 19,
     "metadata": {},
     "output_type": "execute_result"
    }
   ],
   "source": [
    "np.isclose(ref_np, out_field.asnumpy()).all()"
   ]
  },
  {
   "cell_type": "code",
   "execution_count": 20,
   "id": "e987a6a0-e1bb-4673-9613-09af2d1ed213",
   "metadata": {},
   "outputs": [],
   "source": [
    "# backend = None\n",
    "backend = gtx.gtfn_cpu\n",
    "# backend = gtx.gtfn_gpu\n",
    "gtx_4arcosc_cpu = arccos_four_times.with_backend(gtx.gtfn_cpu)\n",
    "gtx_4arcosc_gpu = arccos_four_times.with_backend(gtx.gtfn_gpu)\n",
    "\n",
    "x_cpu = gtx.as_field(data=x_np, domain=domain_all, allocator=gtx.gtfn_cpu)\n",
    "x_gpu = gtx.as_field(data=x_np, domain=domain_all, allocator=gtx.gtfn_gpu)\n",
    "out_field_cpu = gtx.empty(domain=domain_all, dtype=x.dtype, allocator=gtx.gtfn_cpu)\n",
    "out_field_gpu = gtx.empty(domain=domain_all, dtype=x.dtype, allocator=gtx.gtfn_gpu)"
   ]
  },
  {
   "cell_type": "code",
   "execution_count": 21,
   "id": "ee40e024-312f-47e9-bb0f-be2794c43883",
   "metadata": {},
   "outputs": [
    {
     "name": "stdout",
     "output_type": "stream",
     "text": [
      "34.8 ms ± 6.76 ms per loop (mean ± std. dev. of 7 runs, 1 loop each)\n"
     ]
    }
   ],
   "source": [
    "%timeit gtx_4arcosc_cpu(x=x_cpu, out=out_field_cpu, domain=domain_all)"
   ]
  },
  {
   "cell_type": "code",
   "execution_count": 22,
   "id": "6ec476c7-784b-4b51-8755-4dbd9ce573fc",
   "metadata": {},
   "outputs": [
    {
     "name": "stdout",
     "output_type": "stream",
     "text": [
      "3.13 ms ± 21.2 μs per loop (mean ± std. dev. of 7 runs, 100 loops each)\n"
     ]
    }
   ],
   "source": [
    "%timeit gtx_4arcosc_gpu(x=x_gpu, out=out_field_gpu, domain=domain_all)"
   ]
  },
  {
   "cell_type": "code",
   "execution_count": 23,
   "id": "45053653-d410-46a0-a046-e7c468c18a99",
   "metadata": {},
   "outputs": [
    {
     "name": "stdout",
     "output_type": "stream",
     "text": [
      "Average time per run: 0.003197 seconds\n"
     ]
    }
   ],
   "source": [
    "import timeit\n",
    "n_reps = 100\n",
    "execution_time = timeit.timeit(\"gtx_4arcosc_gpu(x=x_gpu, out=out_field_gpu, domain=domain_all)\", globals=globals(), number=n_reps)\n",
    "print(f\"Average time per run: {execution_time / n_reps:.6f} seconds\")"
   ]
  },
  {
   "cell_type": "code",
   "execution_count": 24,
   "id": "f8f5fb62-9bf9-4236-8d99-85087285fb1d",
   "metadata": {},
   "outputs": [
    {
     "name": "stdout",
     "output_type": "stream",
     "text": [
      "Average time per run: 0.003170 seconds\n"
     ]
    }
   ],
   "source": [
    "import timeit\n",
    "number = 100 # inner loop reps\n",
    "repeats = 10 # timings (outer loop)\n",
    "times = timeit.repeat(\"gtx_4arcosc_gpu(x=x_gpu, out=out_field_gpu, domain=domain_all)\", globals=globals(), repeat=repeats, number=number)\n",
    "mean_time, std_time = np.mean(times), np.std(times)\n",
    "print(f\"Average time per run: {mean_time / number:.6f} seconds\")"
   ]
  },
  {
   "cell_type": "markdown",
   "id": "429d17d9",
   "metadata": {},
   "source": [
    "## Test if cupy synchronization is required"
   ]
  },
  {
   "cell_type": "code",
   "execution_count": 28,
   "id": "7a3f01d1-b507-4f7b-8094-f356229b9aa0",
   "metadata": {},
   "outputs": [],
   "source": [
    "import timeit\n",
    "import statistics\n",
    "import cupy as cp  # Required for GPU sync\n",
    "\n",
    "def gt4py_timeit(func, *args, number=10, repeat=5, warm_up=1, synchronize=True, **kwargs):\n",
    "    \"\"\"\n",
    "    Time a GT4Py function with optional GPU synchronization.\n",
    "    \n",
    "    Args:\n",
    "        func: Function to time.\n",
    "        *args, **kwargs: Arguments to pass to the function.\n",
    "        number: How many executions per timing batch.\n",
    "        repeat: How many timing batches.\n",
    "        synchronize: If True, synchronize GPU before/after timing.\n",
    "\n",
    "    Returns:\n",
    "        mean_time_per_exec: Mean execution time (seconds).\n",
    "        std_time_per_exec: Standard deviation (seconds).\n",
    "        all_times: List of per-execution times (seconds).\n",
    "    \"\"\"\n",
    "    times = []\n",
    "\n",
    "    for _ in range(repeat + warm_up):\n",
    "        if synchronize:\n",
    "            cp.cuda.Device(0).synchronize()\n",
    "\n",
    "        start = timeit.default_timer()\n",
    "\n",
    "        for _ in range(number):\n",
    "            func(*args, **kwargs)\n",
    "\n",
    "        if synchronize:\n",
    "            cp.cuda.Device(0).synchronize()\n",
    "\n",
    "        end = timeit.default_timer()\n",
    "        times.append((end - start) / number)  # Per-execution time\n",
    "\n",
    "    for k in range(warm_up):\n",
    "        print(\"    \", times[k])\n",
    "    times = times[warm_up:]\n",
    "    mean_time = np.mean(times)\n",
    "    std_time = np.std(times)\n",
    "\n",
    "    print(f\"{func.__name__} mean time per execution: {mean_time:.6e} s ± {std_time:.6e} s over {repeat} repeats with {warm_up} warmups\")\n",
    "\n",
    "    return mean_time, std_time, times\n"
   ]
  },
  {
   "cell_type": "code",
   "execution_count": 29,
   "id": "3f9989f4-1287-4ef5-9525-71e7cd2d9a63",
   "metadata": {},
   "outputs": [
    {
     "name": "stdout",
     "output_type": "stream",
     "text": [
      "     0.0032729881100021885\n",
      "arccos_four_times mean time per execution: 3.219137e-03 s ± 8.199510e-06 s over 10 repeats with 1 warmups\n"
     ]
    },
    {
     "data": {
      "text/plain": [
       "(np.float64(0.0032191365610015053),\n",
       " np.float64(8.19950985000852e-06),\n",
       " [0.003217868930005352,\n",
       "  0.0032195104700076626,\n",
       "  0.0032086868100122956,\n",
       "  0.003215228370008845,\n",
       "  0.0032077297199975875,\n",
       "  0.0032230844399964553,\n",
       "  0.003222750049990282,\n",
       "  0.0032209206599873143,\n",
       "  0.0032169697500103213,\n",
       "  0.00323861640999894])"
      ]
     },
     "execution_count": 29,
     "metadata": {},
     "output_type": "execute_result"
    }
   ],
   "source": [
    "gt4py_timeit(gtx_4arcosc_gpu, number=number, repeat=repeats, warm_up=1, synchronize=True, x=x_gpu, out=out_field_gpu, domain=domain_all)\n"
   ]
  },
  {
   "cell_type": "code",
   "execution_count": 27,
   "id": "6f7b98ff-b143-4774-a1ef-1f4c75008fad",
   "metadata": {},
   "outputs": [
    {
     "name": "stdout",
     "output_type": "stream",
     "text": [
      "     0.003259036260005814\n",
      "arccos_four_times mean time per execution: 3.203960e-03 s ± 6.854653e-06 s over 10 repeats with 1 warmups\n"
     ]
    },
    {
     "data": {
      "text/plain": [
       "(np.float64(0.0032039603140019608),\n",
       " np.float64(6.854652866948029e-06),\n",
       " [0.0032063067600029173,\n",
       "  0.003197313140008191,\n",
       "  0.0032051416900139885,\n",
       "  0.0031969649900020158,\n",
       "  0.003197736160000204,\n",
       "  0.0032157403800010796,\n",
       "  0.0032027894500060937,\n",
       "  0.003207083049983339,\n",
       "  0.003214692740002647,\n",
       "  0.0031958347799991315])"
      ]
     },
     "execution_count": 27,
     "metadata": {},
     "output_type": "execute_result"
    }
   ],
   "source": [
    "gt4py_timeit(gtx_4arcosc_gpu, number=number, repeat=repeats, warm_up=1, synchronize=False, x=x_gpu, out=out_field_gpu, domain=domain_all)\n"
   ]
  },
  {
   "cell_type": "markdown",
   "id": "3e4a9443",
   "metadata": {},
   "source": [
    "\n",
    "\n",
    "<div class=\"alert alert-block alert-success\">\n",
    "The measurements above result in almost the same times with and without the cupy synchronization. This means gt4py only returns once the calculation is effectively done we don't need to synchronize manually.\n",
    "</div>"
   ]
  },
  {
   "cell_type": "code",
   "execution_count": null,
   "id": "9d33087b",
   "metadata": {},
   "outputs": [],
   "source": []
  },
  {
   "cell_type": "markdown",
   "id": "60f4a471",
   "metadata": {},
   "source": [
    "----------\n",
    "## Test time_arccos from arccos_gt4py"
   ]
  },
  {
   "cell_type": "code",
   "execution_count": null,
   "id": "ef98b048",
   "metadata": {},
   "outputs": [],
   "source": [
    "# Test time_arccos without transfer back and forth to gpu\n",
    "from arccos_gt4py import time_arccos"
   ]
  },
  {
   "cell_type": "code",
   "execution_count": null,
   "id": "559d8cd1",
   "metadata": {},
   "outputs": [
    {
     "name": "stdout",
     "output_type": "stream",
     "text": [
      "### 4 128 -1 0.17052842390003206\n"
     ]
    },
    {
     "data": {
      "text/plain": [
       "(4, 128, np.float64(0.17052842390003206))"
      ]
     },
     "metadata": {},
     "output_type": "display_data"
    }
   ],
   "source": [
    "time_arccos(4, 128, number=1, repeats=10, do_print=True, incl_transfer=True)"
   ]
  },
  {
   "cell_type": "code",
   "execution_count": null,
   "id": "155bdd84",
   "metadata": {},
   "outputs": [
    {
     "name": "stdout",
     "output_type": "stream",
     "text": [
      "### 4 128 -1 0.004496450499573257\n"
     ]
    },
    {
     "data": {
      "text/plain": [
       "(4, 128, np.float64(0.004496450499573257))"
      ]
     },
     "metadata": {},
     "output_type": "display_data"
    }
   ],
   "source": [
    "time_arccos(4, 128, number=1, repeats=10, do_print=True, incl_transfer=False)"
   ]
  },
  {
   "cell_type": "markdown",
   "id": "0e94027f",
   "metadata": {},
   "source": [
    "--------\n",
    "## Time manually"
   ]
  },
  {
   "cell_type": "code",
   "execution_count": null,
   "id": "fcf80a61",
   "metadata": {},
   "outputs": [],
   "source": [
    "import time\n",
    "import cupy as cp"
   ]
  },
  {
   "cell_type": "code",
   "execution_count": null,
   "id": "66fb6435",
   "metadata": {},
   "outputs": [],
   "source": [
    "# time manually:\n",
    "tic = time.perf_counter()\n",
    "gtx_4arcosc_gpu(x=x_gpu, out=out_field_gpu, domain=domain_all)\n",
    "# gtx_arccos_gpu(x=x_gpu, out=out_field_gpu, domain=domain_all)\n",
    "cp.cuda.runtime.deviceSynchronize()\n",
    "toc = time.perf_counter()"
   ]
  },
  {
   "cell_type": "code",
   "execution_count": null,
   "id": "b8873bbf",
   "metadata": {},
   "outputs": [
    {
     "data": {
      "text/plain": [
       "0.007939551000163192"
      ]
     },
     "metadata": {},
     "output_type": "display_data"
    }
   ],
   "source": [
    "toc-tic "
   ]
  },
  {
   "cell_type": "code",
   "execution_count": null,
   "id": "ea8384b6",
   "metadata": {},
   "outputs": [],
   "source": []
  },
  {
   "cell_type": "markdown",
   "id": "d8272ca5",
   "metadata": {},
   "source": [
    "-------\n",
    "## test path handling"
   ]
  },
  {
   "cell_type": "code",
   "execution_count": null,
   "id": "db0cfe86",
   "metadata": {},
   "outputs": [
    {
     "data": {
      "text/plain": [
       "'/users/class182/project-overlapping/src/gt4py'"
      ]
     },
     "metadata": {},
     "output_type": "display_data"
    }
   ],
   "source": [
    "import os\n",
    "os.getcwd()"
   ]
  },
  {
   "cell_type": "code",
   "execution_count": null,
   "id": "954fb736",
   "metadata": {},
   "outputs": [
    {
     "data": {
      "text/plain": [
       "['.gt4py_cache',\n",
       " '.ipynb_checkpoints',\n",
       " 'TEMP_arccos.ipynb',\n",
       " '__pycache__',\n",
       " 'arccos_gt4py.py',\n",
       " 'run_arccos_gt4py.py',\n",
       " 'run_arccos_gt4py.sh']"
      ]
     },
     "metadata": {},
     "output_type": "display_data"
    }
   ],
   "source": [
    "os.listdir()"
   ]
  },
  {
   "cell_type": "code",
   "execution_count": null,
   "id": "a0e7a88b",
   "metadata": {},
   "outputs": [
    {
     "data": {
      "text/plain": [
       "['.gt4py_cache',\n",
       " '.ipynb_checkpoints',\n",
       " 'TEMP_arccos.ipynb',\n",
       " '__pycache__',\n",
       " 'arccos_gt4py.py',\n",
       " 'run_arccos_gt4py.py',\n",
       " 'run_arccos_gt4py.sh']"
      ]
     },
     "metadata": {},
     "output_type": "display_data"
    }
   ],
   "source": [
    "os.listdir(\"../../build/gt4py/\")"
   ]
  },
  {
   "cell_type": "code",
   "execution_count": null,
   "id": "a3c8ea3f",
   "metadata": {},
   "outputs": [
    {
     "data": {
      "text/plain": [
       "True"
      ]
     },
     "metadata": {},
     "output_type": "display_data"
    }
   ],
   "source": [
    "os.path.isfile(\"../../build/gt4py/run_arccos_gt4py.py\")"
   ]
  }
 ],
 "metadata": {
  "kernelspec": {
   "display_name": "hpc4wc",
   "language": "python",
   "name": "python3"
  },
  "language_info": {
   "codemirror_mode": {
    "name": "ipython",
    "version": 3
   },
   "file_extension": ".py",
   "mimetype": "text/x-python",
   "name": "python",
   "nbconvert_exporter": "python",
   "pygments_lexer": "ipython3",
   "version": "3.12.11"
  }
 },
 "nbformat": 4,
 "nbformat_minor": 5
}
