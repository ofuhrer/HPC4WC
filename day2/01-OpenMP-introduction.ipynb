{
 "cells": [
  {
   "cell_type": "markdown",
   "metadata": {},
   "source": [
    "# Shared Memory Parallelism Using OpenMP\n",
    "We want to use OpenMP to enable parallel execution of our codes. If multiple workers can do the same job, execution will be sped up."
   ]
  },
  {
   "cell_type": "code",
   "execution_count": null,
   "metadata": {},
   "outputs": [],
   "source": [
    "export OMP_NUM_THREADS=10\n",
    "export OMP_PROC_BIND=close\n",
    "export OMP_PLACES=cores"
   ]
  },
  {
   "cell_type": "code",
   "execution_count": null,
   "metadata": {},
   "outputs": [],
   "source": [
    "pygmentize omp_examples/a01-parallel.F90"
   ]
  },
  {
   "cell_type": "markdown",
   "metadata": {},
   "source": [
    "We need to tell the compiler that our program contains OpenMP pragmas with the `-fopenmp` option."
   ]
  },
  {
   "cell_type": "code",
   "execution_count": null,
   "metadata": {},
   "outputs": [],
   "source": [
    "gfortran omp_examples/a01-parallel.F90 -fopenmp -o parallel.out"
   ]
  },
  {
   "cell_type": "markdown",
   "metadata": {},
   "source": [
    "Now we can run the generated executable."
   ]
  },
  {
   "cell_type": "code",
   "execution_count": null,
   "metadata": {},
   "outputs": [],
   "source": [
    "./parallel.out"
   ]
  },
  {
   "cell_type": "markdown",
   "metadata": {},
   "source": [
    "<div class=\"alert alert-block alert-warning\">\n",
    "    We see that each worker is entering the parallel region and executes the code independent of the other workers.<br>\n",
    "    If we repeat the same block multiple times we see that there is no deterministic answer as the order changes. We see thought that the numbers printed are always the same\n",
    "</div>    "
   ]
  },
  {
   "cell_type": "markdown",
   "metadata": {},
   "source": [
    "<div class=\"alert alert-block alert-info\">\n",
    "<b>Now it's your turn...</b><br>\n",
    "<b>1.</b> Can you explain why the numbers are the same but the order is jumbled up?\n",
    "    \n",
    "<b>2.</b> Why do you see the number of outputs?\n",
    "</div>"
   ]
  },
  {
   "cell_type": "markdown",
   "metadata": {},
   "source": [
    "<b>ANSWERS</b><p>\n",
    "\n",
    "1. ...\n",
    "2. ..."
   ]
  },
  {
   "cell_type": "markdown",
   "metadata": {},
   "source": [
    "## Infos About the Region\n",
    "OpenMP allows to get the information about number of threads present in each parallel region"
   ]
  },
  {
   "cell_type": "code",
   "execution_count": null,
   "metadata": {},
   "outputs": [],
   "source": [
    "pygmentize omp_examples/a02-infos.F90"
   ]
  },
  {
   "cell_type": "code",
   "execution_count": null,
   "metadata": {},
   "outputs": [],
   "source": [
    "gfortran omp_examples/a02-infos.F90 -fopenmp -o infos.out && ./infos.out"
   ]
  },
  {
   "cell_type": "markdown",
   "metadata": {},
   "source": [
    "<div class=\"alert alert-block alert-warning\">\n",
    "    We can inspect the current thread number and the total number of threads via intrinsics\n",
    "</div>    "
   ]
  },
  {
   "cell_type": "markdown",
   "metadata": {},
   "source": [
    "<div class=\"alert alert-block alert-info\">\n",
    "<b>Now it's your turn...</b><br>\n",
    "<b>3.</b> Can you think of a good reason why this information might be useful?\n",
    "    \n",
    "</div>"
   ]
  },
  {
   "cell_type": "markdown",
   "metadata": {},
   "source": [
    "<b>ANSWERS</b><p>\n",
    "\n",
    "3. ..."
   ]
  },
  {
   "cell_type": "markdown",
   "metadata": {},
   "source": [
    "## Setting the Number of Threads\n",
    "We can do this either on each parallel region or with an environment variable"
   ]
  },
  {
   "cell_type": "code",
   "execution_count": null,
   "metadata": {},
   "outputs": [],
   "source": [
    "pygmentize omp_examples/a03-threadnum.F90"
   ]
  },
  {
   "cell_type": "code",
   "execution_count": null,
   "metadata": {},
   "outputs": [],
   "source": [
    "gfortran omp_examples/a03-threadnum.F90 -fopenmp -o threadnum.out && ./threadnum.out"
   ]
  },
  {
   "cell_type": "markdown",
   "metadata": {},
   "source": [
    "<div class=\"alert alert-block alert-warning\">\n",
    "    We can set the number of threads with the <code>num_threads</code> keyword for parallel regions\n",
    "</div>"
   ]
  },
  {
   "cell_type": "code",
   "execution_count": null,
   "metadata": {},
   "outputs": [],
   "source": [
    "OMP_NUM_THREADS=4 ./infos.out"
   ]
  },
  {
   "cell_type": "markdown",
   "metadata": {},
   "source": [
    "<div class=\"alert alert-block alert-warning\">\n",
    "    We can set the number of threads to use when nothing is specified with the <code>OMP_NUM_THREADS</code> environment variable.\n",
    "</div>"
   ]
  },
  {
   "cell_type": "code",
   "execution_count": null,
   "metadata": {},
   "outputs": [],
   "source": [
    "OMP_NUM_THREADS=4 ./threadnum.out"
   ]
  },
  {
   "cell_type": "markdown",
   "metadata": {},
   "source": [
    "<div class=\"alert alert-block alert-warning\">\n",
    "    We see that <code>num_threads</code> takes presedence over <code>OMP_NUM_THREADS</code>\n",
    "</div>"
   ]
  },
  {
   "cell_type": "markdown",
   "metadata": {},
   "source": [
    "<div class=\"alert alert-block alert-info\">\n",
    "<b>Now it's your turn...</b><br>\n",
    "<b>4.</b> Why do you think num_threads is higher up in the order of precedence?<br>\n",
    "<b>5.</b> Why do we need two ways of controlling this? Are these two ways fulfilling the same purpose?\n",
    "</div>"
   ]
  },
  {
   "cell_type": "markdown",
   "metadata": {},
   "source": [
    "<b>ANSWERS</b><p>\n",
    "\n",
    "4. ...\n",
    "5. ...\n",
    "    "
   ]
  },
  {
   "cell_type": "markdown",
   "metadata": {},
   "source": [
    "## Parallel Loops\n",
    "Since loops are such an important concept to parallelize, there is a special directive for it."
   ]
  },
  {
   "cell_type": "code",
   "execution_count": null,
   "metadata": {},
   "outputs": [],
   "source": [
    "pygmentize omp_examples/a04-loops.F90"
   ]
  },
  {
   "cell_type": "code",
   "execution_count": null,
   "metadata": {},
   "outputs": [],
   "source": [
    "gfortran omp_examples/a04-loops.F90 -fopenmp -o loops.out"
   ]
  },
  {
   "cell_type": "code",
   "execution_count": null,
   "metadata": {},
   "outputs": [],
   "source": [
    "OMP_NUM_THREADS=4 ./loops.out"
   ]
  },
  {
   "cell_type": "markdown",
   "metadata": {},
   "source": [
    "<div class=\"alert alert-block alert-warning\">\n",
    "    We see that the loop order is not preserved, threads take diffent amout of iterations and are not sorted\n",
    "</div>"
   ]
  },
  {
   "cell_type": "markdown",
   "metadata": {},
   "source": [
    "<div class=\"alert alert-block alert-info\">\n",
    "<b>Now it's your turn...</b><br>\n",
    "<b>6.</b> Since this is an existing concept it has it's applications. Can you think of a simple example where the loop order does not matter? Can you also think of one where an unordered loop will break the program flow?<br>\n",
    "    \n",
    "</div>"
   ]
  },
  {
   "cell_type": "markdown",
   "metadata": {},
   "source": [
    "<b>ANSWERS</b><p>\n",
    "\n",
    "6. ..."
   ]
  },
  {
   "cell_type": "code",
   "execution_count": null,
   "metadata": {},
   "outputs": [],
   "source": [
    "OMP_NUM_THREADS=12 ./loops.out"
   ]
  },
  {
   "cell_type": "markdown",
   "metadata": {},
   "source": [
    "<div class=\"alert alert-block alert-warning\">\n",
    "    If more threads than loop iterations are available, only the first set of threads is used\n",
    "</div>"
   ]
  },
  {
   "cell_type": "markdown",
   "metadata": {},
   "source": [
    "## Scheduling\n",
    "<div class=\"alert alert-block alert-danger\">\n",
    "This is an important concept to understand but is not necessarily used in our example\n",
    "</div>\n",
    "\n",
    "Controlling the loop execution with the `schedule` directive might be important for performance. Since the work is oftentimes similar in weather and climate codes this is not super important for our example but is still a concept worth knowing."
   ]
  },
  {
   "cell_type": "code",
   "execution_count": null,
   "metadata": {},
   "outputs": [],
   "source": [
    "pygmentize omp_examples/a05-schedule.F90"
   ]
  },
  {
   "cell_type": "code",
   "execution_count": null,
   "metadata": {},
   "outputs": [],
   "source": [
    "gfortran omp_examples/a05-schedule.F90 -fopenmp -o schedule.out"
   ]
  },
  {
   "cell_type": "code",
   "execution_count": null,
   "metadata": {},
   "outputs": [],
   "source": [
    "OMP_NUM_THREADS=2 ./schedule.out"
   ]
  },
  {
   "cell_type": "markdown",
   "metadata": {},
   "source": [
    "<div class=\"alert alert-block alert-warning\">\n",
    "    Static scheduling allows us to assign chunks of the iteration to the same thread\n",
    "</div>"
   ]
  },
  {
   "cell_type": "markdown",
   "metadata": {},
   "source": [
    "## Variable Scoping\n",
    "We try to understand how variables are scoped, who owns them at which parts of the code and who can see effects of writing them."
   ]
  },
  {
   "cell_type": "code",
   "execution_count": null,
   "metadata": {},
   "outputs": [],
   "source": [
    "pygmentize omp_examples/a06-scoping.F90"
   ]
  },
  {
   "cell_type": "code",
   "execution_count": null,
   "metadata": {},
   "outputs": [],
   "source": [
    "gfortran omp_examples/a06-scoping.F90 -fopenmp -o scoping.out"
   ]
  },
  {
   "cell_type": "code",
   "execution_count": null,
   "metadata": {},
   "outputs": [],
   "source": [
    "./scoping.out"
   ]
  },
  {
   "cell_type": "markdown",
   "metadata": {},
   "source": [
    "<div class=\"alert alert-block alert-warning\">\n",
    "    We see that shared variables can cause race conditions\n",
    "</div>"
   ]
  },
  {
   "cell_type": "markdown",
   "metadata": {},
   "source": [
    "<div class=\"alert alert-block alert-info\">\n",
    "<b>Now it's your turn...</b><br>\n",
    "<b>7.</b> Run the above code 5 times. What do you observe?<br>\n",
    "<b>8.</b> Why is the code above problematic? Is what we're doing here still compatible with the Turing Machine way of modelling computers?\n",
    "    \n",
    "</div>"
   ]
  },
  {
   "cell_type": "markdown",
   "metadata": {},
   "source": [
    "<b>ANSWERS</b><p>\n",
    "\n",
    "7. ...\n",
    "8. ..."
   ]
  },
  {
   "cell_type": "markdown",
   "metadata": {},
   "source": [
    "The private directive allows each thread to have a copy of a variable: "
   ]
  },
  {
   "cell_type": "code",
   "execution_count": null,
   "metadata": {},
   "outputs": [],
   "source": [
    "pygmentize omp_examples/a07-private.F90"
   ]
  },
  {
   "cell_type": "code",
   "execution_count": null,
   "metadata": {},
   "outputs": [],
   "source": [
    "gfortran omp_examples/a07-private.F90 -fopenmp -o private.out"
   ]
  },
  {
   "cell_type": "code",
   "execution_count": null,
   "metadata": {},
   "outputs": [],
   "source": [
    "OMP_NUM_THREADS=10 ./private.out"
   ]
  },
  {
   "cell_type": "markdown",
   "metadata": {},
   "source": [
    "<div class=\"alert alert-block alert-warning\">\n",
    "    We see:\n",
    "    <ul>\n",
    "        <li>Private variables are always empty when coming in to the parallel regions</li>\n",
    "        <li>Private variables do not cause race conditions</li>\n",
    "        <li>The values in private variables are lost after exiting the parallel region</li>\n",
    "    </ul>\n",
    "</div>"
   ]
  },
  {
   "cell_type": "markdown",
   "metadata": {},
   "source": [
    "shared is the default but can also be stated explicitly"
   ]
  },
  {
   "cell_type": "code",
   "execution_count": null,
   "metadata": {},
   "outputs": [],
   "source": [
    "pygmentize omp_examples/a08-shared.F90"
   ]
  },
  {
   "cell_type": "code",
   "execution_count": null,
   "metadata": {},
   "outputs": [],
   "source": [
    "gfortran omp_examples/a08-shared.F90 -fopenmp -o shared.out"
   ]
  },
  {
   "cell_type": "code",
   "execution_count": null,
   "metadata": {},
   "outputs": [],
   "source": [
    "OMP_NUM_THREADS=10 ./shared.out"
   ]
  },
  {
   "cell_type": "markdown",
   "metadata": {},
   "source": [
    "<div class=\"alert alert-block alert-warning\">\n",
    "    We find a way to explicitly use shared variables in parallel regions\n",
    "</div>"
   ]
  },
  {
   "cell_type": "markdown",
   "metadata": {
    "tags": []
   },
   "source": [
    "## Special Regions\n",
    "<div class=\"alert alert-block alert-danger\">\n",
    "This is an important concept to understand but is not necessarily used in our example\n",
    "</div>\n",
    "\n",
    "There are certain pieces of the code that might be more sensitive to how threads should be handling them, here are the options:"
   ]
  },
  {
   "cell_type": "code",
   "execution_count": null,
   "metadata": {},
   "outputs": [],
   "source": [
    "pygmentize omp_examples/a09-regions.F90"
   ]
  },
  {
   "cell_type": "code",
   "execution_count": null,
   "metadata": {},
   "outputs": [],
   "source": [
    "gfortran omp_examples/a09-regions.F90 -fopenmp -o regions.out && ./regions.out"
   ]
  },
  {
   "cell_type": "markdown",
   "metadata": {},
   "source": [
    "<div class=\"alert alert-block alert-warning\">\n",
    "    We learn that thread 0 is the only one entering <code>master</code>, only one thread ever enters <code>single</code> and every thread enters <code>critical</code>, but only one at a time\n",
    "</div>"
   ]
  },
  {
   "cell_type": "markdown",
   "metadata": {},
   "source": [
    "## What if parallel regions span multiple tasks\n",
    "<div class=\"alert alert-block alert-danger\">\n",
    "This is an important concept to understand but is not necessarily used in our example\n",
    "</div>\n",
    "\n",
    "Depending on how parallelization was done there might be a need to let threads wait for each other. The `#pragma omp barrier` is used for that."
   ]
  },
  {
   "cell_type": "code",
   "execution_count": null,
   "metadata": {},
   "outputs": [],
   "source": [
    "pygmentize omp_examples/a10-barrier.F90"
   ]
  },
  {
   "cell_type": "code",
   "execution_count": null,
   "metadata": {},
   "outputs": [],
   "source": [
    "gfortran omp_examples/a10-barrier.F90 -fopenmp -o barrier.out && ./barrier.out"
   ]
  },
  {
   "cell_type": "markdown",
   "metadata": {},
   "source": [
    "<div class=\"alert alert-block alert-warning\">\n",
    "    We learn that there is no guarantee on the execution order of different statements in a parallel block across threads\n",
    "</div>"
   ]
  },
  {
   "cell_type": "code",
   "execution_count": null,
   "metadata": {},
   "outputs": [],
   "source": [
    "pygmentize omp_examples/a11-barrier.F90"
   ]
  },
  {
   "cell_type": "code",
   "execution_count": null,
   "metadata": {},
   "outputs": [],
   "source": [
    "gfortran omp_examples/a11-barrier.F90 -fopenmp -o barrier2.out && ./barrier2.out"
   ]
  },
  {
   "cell_type": "markdown",
   "metadata": {},
   "source": [
    "<div class=\"alert alert-block alert-warning\">\n",
    "    We learn that barriers help synchronize code\n",
    "</div>"
   ]
  },
  {
   "cell_type": "markdown",
   "metadata": {},
   "source": [
    "## Nowait\n",
    "<div class=\"alert alert-block alert-danger\">\n",
    "This is an important concept to understand but is not necessarily used in our example\n",
    "</div>\n",
    "\n",
    "Certain OpenMP statements come with implicit barriers so `nowait` is the keyword to explicitly disable those"
   ]
  },
  {
   "cell_type": "code",
   "execution_count": null,
   "metadata": {},
   "outputs": [],
   "source": [
    "pygmentize omp_examples/a12-loops.F90"
   ]
  },
  {
   "cell_type": "code",
   "execution_count": null,
   "metadata": {},
   "outputs": [],
   "source": [
    "gfortran omp_examples/a12-loops.F90 -fopenmp -o loops.out && ./loops.out"
   ]
  },
  {
   "cell_type": "markdown",
   "metadata": {},
   "source": [
    "<div class=\"alert alert-block alert-warning\">\n",
    "    We learn that loops synchrnoize afterwards\n",
    "</div>"
   ]
  },
  {
   "cell_type": "code",
   "execution_count": null,
   "metadata": {},
   "outputs": [],
   "source": [
    "pygmentize omp_examples/a13-nowait.F90"
   ]
  },
  {
   "cell_type": "code",
   "execution_count": null,
   "metadata": {},
   "outputs": [],
   "source": [
    "gfortran omp_examples/a13-nowait.F90 -fopenmp -o nowait.out && ./nowait.out"
   ]
  },
  {
   "cell_type": "markdown",
   "metadata": {},
   "source": [
    "<div class=\"alert alert-block alert-warning\">\n",
    "    We learn that the nowait keyword can remove synchonizaton\n",
    "</div>"
   ]
  },
  {
   "cell_type": "markdown",
   "metadata": {},
   "source": [
    "## Reductions\n",
    "<div class=\"alert alert-block alert-danger\">\n",
    "This is an important concept to understand but is not necessarily used in our example\n",
    "</div>\n",
    "\n",
    "Since reductions are such an omnipresent motif, we do not want to implement it with critical / atomic every time, so there is a keyword for it:"
   ]
  },
  {
   "cell_type": "code",
   "execution_count": null,
   "metadata": {},
   "outputs": [],
   "source": [
    "pygmentize omp_examples/a14-reduction.F90"
   ]
  },
  {
   "cell_type": "code",
   "execution_count": null,
   "metadata": {},
   "outputs": [],
   "source": [
    "gfortran omp_examples/a14-reduction.F90 -fopenmp -o reduction.out && ./reduction.out"
   ]
  },
  {
   "cell_type": "markdown",
   "metadata": {},
   "source": [
    "<div class=\"alert alert-block alert-warning\">\n",
    "    We learn about the reduction keyword\n",
    "</div>"
   ]
  },
  {
   "cell_type": "markdown",
   "metadata": {},
   "source": [
    "# Amdahl's law\n",
    "\n",
    "We try to investigate the performance of a simple example, computing $\\pi$ using the Leibniz formula:\n",
    "\n",
    "$$1 - \\frac{1}{3} + \\frac{1}{5} - \\frac{1}{7} + \\frac{1}{9} ... = \\frac{\\pi}{4}$$\n",
    "\n",
    "Our goal is to understand what might affect performance and how this is reflected in strong and weak scaling plots\n",
    "\n",
    "## Strong Scaling\n",
    "\n",
    "Understanding how much faster the code gets though parallelization"
   ]
  },
  {
   "cell_type": "code",
   "execution_count": null,
   "metadata": {},
   "outputs": [],
   "source": [
    "pygmentize omp_examples/b01-timing.F90"
   ]
  },
  {
   "cell_type": "code",
   "execution_count": null,
   "metadata": {},
   "outputs": [],
   "source": [
    "gfortran -fopenmp omp_examples/b01-timing.F90 -o timing.out"
   ]
  },
  {
   "cell_type": "code",
   "execution_count": null,
   "metadata": {},
   "outputs": [],
   "source": [
    "echo -n > out.txt\n",
    "for nthread in `seq 12` ; do\n",
    "  ./timing.out $nthread >> out.txt\n",
    "done"
   ]
  },
  {
   "cell_type": "code",
   "execution_count": null,
   "metadata": {},
   "outputs": [],
   "source": [
    "python -c \"\n",
    "import matplotlib\n",
    "matplotlib.use('Agg')\n",
    "import numpy as np, matplotlib.pyplot as plt;\n",
    "data = np.loadtxt('out.txt');\n",
    "threads = data[:,0].astype(int); runtimes = data[:,1];\n",
    "plt.figure(figsize=(8,6));\n",
    "plt.bar(threads, runtimes, color='purple', label='runtime');\n",
    "plt.xlabel('# threads'); plt.ylabel('runtime [s]'); plt.legend(); plt.tight_layout();\n",
    "plt.savefig('out.png', dpi=72)\n",
    "\"\n",
    "\n",
    "cat out.png | display"
   ]
  },
  {
   "cell_type": "code",
   "execution_count": null,
   "metadata": {},
   "outputs": [],
   "source": [
    "python -c \"\n",
    "import matplotlib\n",
    "matplotlib.use('Agg')\n",
    "import numpy as np, matplotlib.pyplot as plt\n",
    "data = np.loadtxt('out.txt')\n",
    "threads = data[:, 0].astype(int)\n",
    "runtimes = data[:, 1]\n",
    "base_runtime = runtimes[0]\n",
    "speedup = base_runtime / runtimes\n",
    "linear = threads\n",
    "plt.figure(figsize=(8,6))\n",
    "plt.bar(threads, speedup, color='purple', label='runtime')\n",
    "plt.plot(threads, linear, color='turquoise', label='linear')\n",
    "plt.xlabel('# threads')\n",
    "plt.ylabel('speedup (relative to 1 core)')\n",
    "plt.ylim(0, 14)\n",
    "plt.legend()\n",
    "plt.tight_layout()\n",
    "plt.savefig('out.png', dpi=72)\n",
    "\"\n",
    "\n",
    "cat out.png | display"
   ]
  },
  {
   "cell_type": "markdown",
   "metadata": {},
   "source": [
    "<div class=\"alert alert-block alert-info\">\n",
    "<b>Now it's your turn...</b><br>\n",
    "<b>9.</b> Can you explain the performance numbers that we see here? What effects are in place?<br>    \n",
    "</div>"
   ]
  },
  {
   "cell_type": "markdown",
   "metadata": {},
   "source": [
    "<b>ANSWERS</b><p>\n",
    "\n",
    "9. ...\n"
   ]
  },
  {
   "cell_type": "markdown",
   "metadata": {},
   "source": [
    "## Weak scaling\n",
    "Measuring the performance hit we get by increasing the problem size as well as the number of threads"
   ]
  },
  {
   "cell_type": "code",
   "execution_count": null,
   "metadata": {},
   "outputs": [],
   "source": [
    "pygmentize omp_examples/b02-weakscaling.F90"
   ]
  },
  {
   "cell_type": "code",
   "execution_count": null,
   "metadata": {},
   "outputs": [],
   "source": [
    "gfortran -fopenmp omp_examples/b02-weakscaling.F90 -o weak.out"
   ]
  },
  {
   "cell_type": "code",
   "execution_count": null,
   "metadata": {},
   "outputs": [],
   "source": [
    "echo -n > weak.txt\n",
    "for nthread in `seq 72` ; do\n",
    "    ./weak.out $nthread >> weak.txt\n",
    "done"
   ]
  },
  {
   "cell_type": "code",
   "execution_count": null,
   "metadata": {
    "tags": []
   },
   "outputs": [],
   "source": [
    "python -c \"\n",
    "import matplotlib\n",
    "matplotlib.use('Agg')\n",
    "import numpy as np, matplotlib.pyplot as plt\n",
    "data = np.loadtxt('weak.txt')\n",
    "threads = data[:, 0].astype(int)\n",
    "runtimes = data[:, 1]\n",
    "base_runtime = runtimes[0]\n",
    "efficiency = (base_runtime / runtimes)\n",
    "plt.figure(figsize=(8,6))\n",
    "plt.bar(threads, efficiency, color='purple', label='efficiency')\n",
    "plt.xlabel('# threads')\n",
    "plt.ylabel('parallel efficiency')\n",
    "plt.ylim(0, 1.1)\n",
    "plt.legend()\n",
    "plt.tight_layout()\n",
    "plt.savefig('out.png', dpi=72)\n",
    "\"\n",
    "\n",
    "cat out.png | display"
   ]
  },
  {
   "cell_type": "markdown",
   "metadata": {},
   "source": [
    "<div class=\"alert alert-block alert-info\">\n",
    "<b>Now it's your turn...</b><br>\n",
    "<b>10.</b> Can you explain the performance numbers that we see here? What effects are in place?<br>\n",
    "</div>"
   ]
  },
  {
   "cell_type": "markdown",
   "metadata": {},
   "source": [
    "<b>ANSWERS</b><p>\n",
    "\n",
    "10. ...\n"
   ]
  },
  {
   "cell_type": "markdown",
   "metadata": {},
   "source": [
    "## Caching\n",
    "\n",
    "Here we see the implication of caching in a multithreaded environment"
   ]
  },
  {
   "cell_type": "code",
   "execution_count": null,
   "metadata": {},
   "outputs": [],
   "source": [
    "pygmentize omp_examples/b03-caching.F90"
   ]
  },
  {
   "cell_type": "code",
   "execution_count": null,
   "metadata": {},
   "outputs": [],
   "source": [
    "gfortran -fopenmp omp_examples/b03-caching.F90 -o caching.out"
   ]
  },
  {
   "cell_type": "code",
   "execution_count": null,
   "metadata": {},
   "outputs": [],
   "source": [
    "echo -n > caching.txt\n",
    "for nthread in `seq 72` ; do\n",
    "  ./caching.out $nthread >> caching.txt\n",
    "done"
   ]
  },
  {
   "cell_type": "code",
   "execution_count": null,
   "metadata": {},
   "outputs": [],
   "source": [
    "python -c \"\n",
    "import matplotlib\n",
    "matplotlib.use('Agg')\n",
    "import numpy as np, matplotlib.pyplot as plt\n",
    "data = np.loadtxt('caching.txt')\n",
    "threads = data[:, 0].astype(int)\n",
    "runtimes = data[:, 1]\n",
    "plt.figure(figsize=(8,6))\n",
    "plt.bar(threads, runtimes, color='purple', label='runtime')\n",
    "plt.xlabel('# threads')\n",
    "plt.ylabel('runtime [s]')\n",
    "plt.ylim(0, 0.03)\n",
    "plt.legend()\n",
    "plt.tight_layout()\n",
    "plt.savefig('out.png', dpi=72)\n",
    "\"\n",
    "\n",
    "cat out.png | display"
   ]
  },
  {
   "cell_type": "markdown",
   "metadata": {},
   "source": [
    "<div class=\"alert alert-block alert-info\">\n",
    "<b>Now it's your turn...</b><br>\n",
    "<b>11.</b> Can you explain the performance numbers that we see here? What effects are in place?<br>\n",
    "</div>"
   ]
  },
  {
   "cell_type": "markdown",
   "metadata": {},
   "source": [
    "<b>ANSWERS</b><p>\n",
    "\n",
    "11. ..."
   ]
  },
  {
   "cell_type": "code",
   "execution_count": null,
   "metadata": {},
   "outputs": [],
   "source": [
    "pygmentize omp_examples/b04-caching_fast.F90"
   ]
  },
  {
   "cell_type": "code",
   "execution_count": null,
   "metadata": {},
   "outputs": [],
   "source": [
    "gfortran -fopenmp omp_examples/b04-caching_fast.F90 -o caching2.out"
   ]
  },
  {
   "cell_type": "code",
   "execution_count": null,
   "metadata": {},
   "outputs": [],
   "source": [
    "echo -n > caching2.txt\n",
    "for nthread in `seq 72` ; do\n",
    "  ./caching2.out $nthread >> caching2.txt\n",
    "done"
   ]
  },
  {
   "cell_type": "code",
   "execution_count": null,
   "metadata": {},
   "outputs": [],
   "source": [
    "python -c \"\n",
    "import matplotlib\n",
    "matplotlib.use('Agg')\n",
    "import numpy as np, matplotlib.pyplot as plt\n",
    "data = np.loadtxt('caching2.txt')\n",
    "threads = data[:, 0].astype(int)\n",
    "runtimes = data[:, 1]\n",
    "plt.figure(figsize=(8,6))\n",
    "plt.bar(threads, runtimes, color='purple', label='runtime')\n",
    "plt.xlabel('# threads')\n",
    "plt.ylabel('runtime [s]')\n",
    "#plt.ylim(0, 0.03)\n",
    "plt.legend()\n",
    "plt.tight_layout()\n",
    "plt.savefig('out.png', dpi=72)\n",
    "\"\n",
    "\n",
    "cat out.png | display"
   ]
  },
  {
   "cell_type": "markdown",
   "metadata": {},
   "source": [
    "<div class=\"alert alert-block alert-info\">\n",
    "<b>Now it's your turn...</b><br>\n",
    "<b>12.</b> Can you explain the performance numbers that we see here? What effects are in place?<br>\n",
    "</div>"
   ]
  },
  {
   "cell_type": "markdown",
   "metadata": {},
   "source": [
    "<b>ANSWERS</b><p>\n",
    "\n",
    "12. ..."
   ]
  },
  {
   "cell_type": "code",
   "execution_count": null,
   "metadata": {},
   "outputs": [],
   "source": [
    "make clean_examples"
   ]
  },
  {
   "cell_type": "code",
   "execution_count": null,
   "metadata": {},
   "outputs": [],
   "source": []
  }
 ],
 "metadata": {
  "kernelspec": {
   "display_name": "Bash",
   "language": "bash",
   "name": "bash"
  },
  "language_info": {
   "codemirror_mode": "shell",
   "file_extension": ".sh",
   "mimetype": "text/x-sh",
   "name": "bash"
  }
 },
 "nbformat": 4,
 "nbformat_minor": 4
}
