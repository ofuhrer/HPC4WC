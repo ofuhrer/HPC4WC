{
 "cells": [
  {
   "cell_type": "markdown",
   "metadata": {},
   "source": [
    "# GT4Py Concepts"
   ]
  },
  {
   "cell_type": "markdown",
   "metadata": {},
   "source": [
    "This notebook walks through the major concepts of the [GT4Py](https://github.com/GridTools/gt4py) stencil library. The concepts are exposed with the aid of some illustrative examples which are particularly relevant in weather and climate."
   ]
  },
  {
   "cell_type": "code",
   "execution_count": null,
   "metadata": {},
   "outputs": [],
   "source": [
    "import os\n",
    "import gt4py.next as gtx\n",
    "import matplotlib as mpl\n",
    "import matplotlib.pyplot as plt\n",
    "import numpy as np\n",
    "\n",
    "mpl.rcParams[\"font.size\"] = 16"
   ]
  },
  {
   "cell_type": "markdown",
   "metadata": {},
   "source": [
    "## Defining a stencil computation"
   ]
  },
  {
   "cell_type": "markdown",
   "metadata": {},
   "source": [
    "Horizontal advection by the mean flow represents a major driving force for atmospheric dynamics. Consider the conserved quantity $\\phi = \\rho \\psi$, where $\\rho$ is the air density and $\\psi$ a specific quantity. Its transport by the steering wind $(u, \\, v)$ is governed by the equation\n",
    "\n",
    "\\begin{equation}\n",
    "    \\frac{\\partial \\phi}{\\partial t} + \\frac{\\partial u \\phi}{\\partial x} + \\frac{\\partial v \\phi}{\\partial y} = 0 \\, .\n",
    "\\end{equation}\n",
    "\n",
    "(Observe that $\\psi \\equiv 1$ discloses the continuity equation.) An established way to discretize this equation on a Cartesian grid is by centered spatio-temporal differencing:\n",
    "\n",
    "\\begin{equation}\n",
    "    \\frac{\\phi^{n+1}_{i,j} - \\phi^{n-1}_{i,j}}{2 \\Delta t} + \\frac{u_{i+1,j}^n \\, \\phi_{i+1,j}^n  -  u_{i-1,j}^n \\, \\phi_{i-1,j}^n}{2 \\Delta x} + \\frac{v_{i,j+1}^n \\, \\phi_{i,j+1}^n - v_{i,j-1}^n \\, \\phi_{i,j-1}^n}{2 \\Delta y} = 0 \\, .\n",
    "\\end{equation}\n",
    "\n",
    "This method is commonly known as the leapfrog scheme. Here $\\Delta x$ and $\\Delta y$ are the grid spacings in the $x$- and $y$-direction, $\\Delta t$ is the time-step and for a generic variable $\\xi = \\xi(x, \\, y, \\, t)$ we denote by $\\xi_{i,j}^n$ the numerical approximation of $\\xi(i \\Delta x, \\, j \\Delta y, \\, n \\Delta t)$. "
   ]
  },
  {
   "cell_type": "markdown",
   "metadata": {},
   "source": [
    "![grid](img/grid.png)"
   ]
  },
  {
   "cell_type": "markdown",
   "metadata": {},
   "source": [
    "The formula which advances the solution forward in time is found to be\n",
    "\n",
    "\\begin{equation}\n",
    "    \\phi_{i,j}^{n+1} = \\phi_{i, j}^{n-1} - \\frac{\\Delta t}{\\Delta x} \\left( u_{i+1,j}^n \\, \\phi_{i+1,j}^n - u_{i-1,j}^n \\, \\phi_{i-1,j}^n \\right) - \\frac{\\Delta t}{\\Delta y} \\left( v_{i,j+1}^n \\, \\phi_{i,j+1}^n - v_{i,j-1}^n \\, \\phi_{i,j-1}^n  \\right) \\, .\n",
    "\\end{equation}\n",
    "\n",
    "We recognize the update operator as a stencil computation. The field $\\phi^{n+1}$ at $(i, \\, j)$ (blue point in the figure below) is computed by accessing $\\phi^{n-1}$ at $(i, \\, j)$ and $\\phi^n$, $u^n$ and $v^n$ at the neignboring points $(i-1, \\, j)$, $(i+1, \\, j)$, $(i, \\, j-1)$ and $(i, \\, j+1)$ (red points)."
   ]
  },
  {
   "cell_type": "markdown",
   "metadata": {},
   "source": [
    "![stencil](img/stencil.png)"
   ]
  },
  {
   "cell_type": "markdown",
   "metadata": {},
   "source": [
    "GT4Py is a domain-specific language (DSL) to express stencil computations as regular Python functions. "
   ]
  },
  {
   "cell_type": "code",
   "execution_count": null,
   "metadata": {},
   "outputs": [],
   "source": [
    "I = gtx.Dimension(\"I\")\n",
    "J = gtx.Dimension(\"J\")\n",
    "K = gtx.Dimension(\"K\")\n",
    "\n",
    "IJKField = gtx.Field[gtx.Dims[I, J, K], gtx.float64]\n",
    "\n",
    "\n",
    "@gtx.field_operator\n",
    "def leapfrog(\n",
    "    u: IJKField,\n",
    "    v: IJKField,\n",
    "    phi_old: IJKField,\n",
    "    phi_now: IJKField,\n",
    "    dt: gtx.float64,\n",
    "    dx: gtx.float64,\n",
    "    dy: gtx.float64,\n",
    ") -> IJKField:\n",
    "    dphi_dx = phi_now(I + 1) * u(I + 1) - phi_now(I - 1) * u(I - 1) / (2.0 * dx)\n",
    "    dphi_dy = phi_now(J + 1) * v(J + 1) - phi_now(J - 1) * v(J - 1) / (2.0 * dy)\n",
    "    phi_new = phi_old - 2.0 * dt * (dphi_dx + dphi_dy)\n",
    "               \n",
    "    return phi_new"
   ]
  },
  {
   "cell_type": "markdown",
   "metadata": {},
   "source": [
    "Let's dissect the definition function block-by-block.\n",
    "\n",
    "* All input parameters must be annotated. GT4Py next offers the type descriptor `Field` for data fields. This descriptor is parametric in the data-type. Supported data-types are: `gtx.float64`, which is equivalent to `numpy.float64` in the embedded backend.\n",
    "* The `@gtx.field_operator` ensures that the function is pure, or side effect free: its signature includes only read-only fields (`u`, `v`, `phi_old`, `phi_now`) and read-only scalar coefficients (`dt`, `dx`, `dy`), the output is automatically the return value.  More on pure functions below.\n",
    "* Accessing neighbors is done by shifting the fields with the `field(I + 1)` syntax, where `I` denotes the dimension and `+ 1` an offset in that dimension. Have a look at the figure below for a schematic visualization of how a field with halo is shifted in `I - 1` and `I + 1`.\n",
    "* Note that for loops are abstracted away and operations are performed for all elements of a field implicitly, similar to NumPy or CuPy. You may think each operation as the body of an `ij`-loop."
   ]
  },
  {
   "cell_type": "markdown",
   "metadata": {},
   "source": [
    "![input](img/fieldview_lap_2.png)"
   ]
  },
  {
   "cell_type": "markdown",
   "metadata": {},
   "source": [
    "#### Note on pure functions:\n",
    "One instructive view of pure functions is that they cannot have any side effects, for example the call to a `print` function. The following function computes the square of a number `a` and also prints the word \"Hello\"."
   ]
  },
  {
   "cell_type": "code",
   "execution_count": null,
   "metadata": {},
   "outputs": [],
   "source": [
    "def square(a):\n",
    "    print(\"Hello\")\n",
    "    return a*a\n",
    "\n",
    "# Prints Hello twice\n",
    "b = square(2)\n",
    "b = square(2)"
   ]
  },
  {
   "cell_type": "markdown",
   "metadata": {},
   "source": [
    "The result of the function is 4, but the side effect is the printing of the \"Hello\". We say `square` has a side effect. The side effect \"Hello\" allows us to see if `square(2)` was executed once or twice. We can check the terminal if \"Hello\" was printed once or twice.\n",
    "\n",
    "If we remove the print from the function:"
   ]
  },
  {
   "cell_type": "code",
   "execution_count": null,
   "metadata": {},
   "outputs": [],
   "source": [
    "def square(a):\n",
    "    return a*a\n",
    "\n",
    "# We can no longer tell if there was one or two executions\n",
    "b = square(2)\n",
    "b = square(2)"
   ]
  },
  {
   "cell_type": "markdown",
   "metadata": {},
   "source": [
    "We can no longer say if the function was executed once or twice, except by looking at the code, the result value in b is the same (4) and there is no side effect.\n",
    "We can say `square(a)` is side-effect free, or pure.\n",
    "\n",
    "Pure functions often appear in scientific computing, since most of our computations are data-in data-out methods without side effects.\n",
    "Pure functions have some very big upsides, for example, they are very easy to predict in their behavior/effect"
   ]
  },
  {
   "cell_type": "markdown",
   "metadata": {},
   "source": [
    "## Fields"
   ]
  },
  {
   "cell_type": "markdown",
   "metadata": {},
   "source": [
    "GT4Py's data storages are fields on structured (or unstructured) grids. The following figure shows how the array elements (green boxes) map to the grid points (grey dots). The pairs between square brackets represent the element indices in a horizontal slice of the storage."
   ]
  },
  {
   "cell_type": "markdown",
   "metadata": {},
   "source": [
    "![storage](img/storage.png)"
   ]
  },
  {
   "cell_type": "markdown",
   "metadata": {},
   "source": [
    "Fields in GT4Py are multi-dimensional arrays on a domain with named dimensions. This is implemented by wrapping a NumPy or CuPy array and adding the domain specific operations to the field interface (often just dispatching to the NumPy or CuPy implementation). To access the underlying array you can use `field.ndarray` (CuPy or NumPy array) or `field.asnumpy()` to convert it to NumPy.\n",
    "\n",
    "The user interface hides as much as possible all low-level and backend-specific details, like the memory layout, strides, padding, etc.. All these aspects are handled internally by GT4Py in a transparent fashion."
   ]
  },
  {
   "cell_type": "code",
   "execution_count": null,
   "metadata": {},
   "outputs": [],
   "source": [
    "# different possible backends\n",
    "#backend = None             # Embedded, native Python execution\n",
    "backend = gtx.gtfn_cpu     # Translated to C code\n",
    "#backend = gtx.gtfn_gpu     # Translated to GPU (CUDA or HIP) code\n",
    "\n",
    "# defining dimensions\n",
    "I = gtx.Dimension(\"I\")\n",
    "J = gtx.Dimension(\"J\")\n",
    "K = gtx.Dimension(\"K\", kind=gtx.DimensionKind.VERTICAL)\n",
    "\n",
    "# sizes and origins\n",
    "field_domain = gtx.domain({\n",
    "    I: (-1, 513),\n",
    "    J: (-1, 513),\n",
    "    K: (0, 128),\n",
    "})\n",
    "\n",
    "u = gtx.zeros(field_domain, dtype=gtx.float64, allocator=backend)\n",
    "v = gtx.ones(field_domain, dtype=gtx.float64, allocator=backend)"
   ]
  },
  {
   "cell_type": "code",
   "execution_count": null,
   "metadata": {},
   "outputs": [],
   "source": [
    "from gt4py.next.iterator.embedded import MutableLocatedField\n",
    "\n",
    "# define helper function enabling random fields\n",
    "def random_field(\n",
    "    domain: gtx.Domain, low: float = -1.0, high: float = 1.0, *, allocator=None\n",
    ") -> MutableLocatedField:\n",
    "    # return as gt4py field\n",
    "    return gtx.as_field(\n",
    "        domain,\n",
    "        # create numpy/cupy array depending on the allocator\n",
    "        np.random.default_rng().uniform(low=low, high=high, size=domain.shape),\n",
    "        allocator=allocator,\n",
    "    )"
   ]
  },
  {
   "cell_type": "code",
   "execution_count": null,
   "metadata": {},
   "outputs": [],
   "source": [
    "# define three random fields\n",
    "phi_old = random_field(field_domain, allocator=backend)\n",
    "phi_now = random_field(field_domain, allocator=backend)\n",
    "phi_new = random_field(field_domain, allocator=backend)"
   ]
  },
  {
   "cell_type": "markdown",
   "metadata": {},
   "source": [
    "We can use `.asnumpy()` to coerce a GT4Py array into a plain NumPy array. The coercion preserves the memory layout and it is required e.g. when using matplotlib."
   ]
  },
  {
   "cell_type": "code",
   "execution_count": null,
   "metadata": {},
   "outputs": [],
   "source": [
    "# prints the domain of the field\n",
    "print(\"-- Domain of phi_old --\")\n",
    "print(phi_old)\n",
    "\n",
    "# prints the content of phi_old\n",
    "print(\"\\n\")\n",
    "print(\"-- Content of phi_old --\")\n",
    "print(phi_old.asnumpy())"
   ]
  },
  {
   "cell_type": "markdown",
   "metadata": {},
   "source": [
    "<div class=\"alert alert-block alert-info\">\n",
    "<b>Now it's your turn...</b><br>\n",
    "    <b>1.</b> Create a field <tt>a</tt> for each backend `None`, `gtx.gtfn_cpu` and `gtx.gtfn_gpu`, for the `field_domain` defined above, using the `random_field` function. Investigate the sizes and strides of the generated fields using the <tt>strides</tt> attribute of a <tt>numpy.ndarray</tt>. For each backend try to infer the memory layout from the strides. Do your findings agree with what we have discussed over this week? <br>\n",
    "    <b>2.</b> Add a `dtype` argument to the `random_field` method so you can choose between creating fields of data type `np.float32` and `np.float64`. <br>\n",
    "    <b>3.</b> The function <tt>plot_slice</tt> tries to visualize <tt>a[:, :, 0]</tt>. Check yourself that the function raises an exception with any backend. How could you make it work? \n",
    "</div>"
   ]
  },
  {
   "cell_type": "code",
   "execution_count": null,
   "metadata": {},
   "outputs": [],
   "source": [
    "# TODO - create a storage for each of the 3 backends, investigate the domains \n",
    "\n",
    "print(field_domain.shape)\n",
    "\n",
    "a = random_field(field_domain, allocator=None)\n",
    "print(a)\n",
    "print(a.ndarray.strides)\n",
    "\n",
    "a = random_field(field_domain, allocator=gtx.gtfn_cpu)\n",
    "print(a)\n",
    "print(a.ndarray.strides)\n",
    "\n",
    "#a = random_field(field_domain, allocator=gtx.gtfn_gpu)\n",
    "#print(a)\n",
    "#print(a.ndarray.strides)"
   ]
  },
  {
   "cell_type": "code",
   "execution_count": null,
   "metadata": {},
   "outputs": [],
   "source": [
    "from gt4py.next.iterator.embedded import MutableLocatedField\n",
    "\n",
    "# define helper function enabling random fields\n",
    "def random_field(\n",
    "    domain: gtx.Domain, low: float = -1.0, high: float = 1.0, *, allocator=None, dtype=np.float64\n",
    ") -> MutableLocatedField:\n",
    "    # return as gt4py field\n",
    "    return gtx.as_field(\n",
    "        domain,\n",
    "        # create numpy/cupy array depending on the allocator\n",
    "        np.random.default_rng().uniform(low=low, high=high, size=domain.shape).astype(dtype),\n",
    "        allocator=allocator,\n",
    "        dtype=dtype,\n",
    "    )"
   ]
  },
  {
   "cell_type": "code",
   "execution_count": null,
   "metadata": {},
   "outputs": [],
   "source": [
    "# TODO - create a storage for each of the 3 backends, investigate the domains \n",
    "\n",
    "print(field_domain.shape)\n",
    "\n",
    "a = random_field(field_domain, allocator=None, dtype=np.float32)\n",
    "print(a)\n",
    "print(a.ndarray.strides)\n",
    "\n",
    "a = random_field(field_domain, allocator=gtx.gtfn_cpu, dtype=np.float32)\n",
    "print(a)\n",
    "print(a.ndarray.strides)\n",
    "\n",
    "#a = random_field(field_domain, allocator=gtx.gtfn_gpu)\n",
    "#print(a)\n",
    "#print(a.ndarray.strides)"
   ]
  },
  {
   "cell_type": "code",
   "execution_count": null,
   "metadata": {},
   "outputs": [],
   "source": [
    "def plot_slice(field):\n",
    "    fig, ax = plt.subplots(1, 1)\n",
    "    # TODO - fix the line below\n",
    "    im = ax.imshow(field.asnumpy()[:,:,0], origin=\"lower\", vmin=0, vmax=1)\n",
    "    fig.colorbar(im, cmap=\"magma\", ax=ax)\n",
    "    ax.set_xticks(range(0, 513, 128))\n",
    "    ax.set_yticks(range(0, 513, 128))\n",
    "    plt.show()"
   ]
  },
  {
   "cell_type": "code",
   "execution_count": null,
   "metadata": {},
   "outputs": [],
   "source": [
    "plot_slice(a)"
   ]
  },
  {
   "cell_type": "markdown",
   "metadata": {},
   "source": [
    "## Running a stencil"
   ]
  },
  {
   "cell_type": "markdown",
   "metadata": {},
   "source": [
    "GT4Py can generate high-performance implementations of a stencil starting from its definition function. The GT4Py pipeline relies on the [GridTools (GT) framework](https://github.com/GridTools) to produce native implementations for different platforms. The piece of software in charge of synthetizing optimized code for a specific hardware architecture is called **backend**. The default is *no* backend (`backend=None`) which runs the program natively in Python (using NumPy/CuPy under the hood)."
   ]
  },
  {
   "cell_type": "code",
   "execution_count": null,
   "metadata": {},
   "outputs": [],
   "source": [
    "backend = gtx.gtfn_cpu\n",
    "leapfrog_stencil = leapfrog.with_backend(backend) # creates a program with the given backend"
   ]
  },
  {
   "cell_type": "markdown",
   "metadata": {},
   "source": [
    "In this course we use the following backends\n",
    "\n",
    "* `None`: execution directly in Python, natively, using numpy or cupy\n",
    "* `gtx.gtfn_cpu`: produces C++ GT-based code devised for a generic CPU;\n",
    "* `gtx.gtfn_gpu`: produces C++ GT-based code for NVIDIA GPUs.\n",
    "\n",
    "TODO: discuss caching"
   ]
  },
  {
   "cell_type": "markdown",
   "metadata": {},
   "source": [
    "## Running computations"
   ]
  },
  {
   "cell_type": "markdown",
   "metadata": {},
   "source": [
    "Executing stencil computations is as simple as a function call:"
   ]
  },
  {
   "cell_type": "code",
   "execution_count": null,
   "metadata": {},
   "outputs": [],
   "source": [
    "compute_domain = gtx.domain({\n",
    "    I: (0, 512),\n",
    "    J: (0, 512),\n",
    "    K: (0, 128),\n",
    "})\n",
    "\n",
    "leapfrog(\n",
    "    u=u,\n",
    "    v=v,\n",
    "    phi_old=phi_old,\n",
    "    phi_now=phi_now,\n",
    "    dt=1.0,\n",
    "    dx=1.0,\n",
    "    dy=1.0,\n",
    "    out=phi_new,\n",
    "    domain=compute_domain,\n",
    ")"
   ]
  },
  {
   "cell_type": "markdown",
   "metadata": {},
   "source": [
    "The field operator retains the same signature of its definition function and adds two additional parameters: `out` and `domain`. The former specifies where the data should be written to (here `phi_new` defined as a random field above) and serves as a non-functional entry point to the DSL `phi_new` for interfacing with surrounding code. The `domain` is the region where we want to compute values for `out`.\n",
    "TODO: remove origin from the picture and improve domain description"
   ]
  },
  {
   "cell_type": "markdown",
   "metadata": {},
   "source": [
    "![halo](img/halo.png)"
   ]
  },
  {
   "cell_type": "markdown",
   "metadata": {},
   "source": [
    "The blue area denotes the computation domain, i.e. where values for `phi_new` can be computed and stored. On the other hand, the red boxes form the **boundary region** where values for `phi_new` cannot be calculated, but where the input fields `u`, `v` and `phi_now` are read. It should be remarked that the figure showcases the *largest* possible computation domain, see that it goes from 0 to 512 in I and J, which is one \"cell\" less than what our `field_domain` is where we definded I and J from -1 to 513. It is possible to restrict the application of the stencil to a subset of the largest feasible computation domain. Keep in mind the computation must never access areas outside of the domain. In Python execution you will get an error indicating mismatching domains, (currently - to be improved) you might get a segmentation fault / cuda memory error in the compiled backends."
   ]
  },
  {
   "cell_type": "code",
   "execution_count": null,
   "metadata": {},
   "outputs": [],
   "source": [
    "# stencil halo\n",
    "stencil_extent = (1, 1, 0)\n",
    "\n",
    "# storage shape\n",
    "buffer_shape = (nx, ny, nz)\n",
    "\n",
    "# stencil origin\n",
    "origin = (1, 1, 0)\n",
    "\n",
    "# stencil computation domain\n",
    "domain = (nx - 2, ny - 2, nz)\n",
    "\n",
    "# requirements\n",
    "assert all(origin[i] >= stencil_extent[i] for i in range(3))\n",
    "assert all(origin[i] + domain[i] <= buffer_shape[i] - stencil_extent[i] for i in range(3))"
   ]
  },
  {
   "cell_type": "markdown",
   "metadata": {},
   "source": [
    "It should also be noted that the binding between the symbols used within the definition function and the storage buffers happens at invocation time. This implies that the stencil object is not bound to any given grid size. Therefore the same stencil computation can be run on different grids and/or computation domains without any re-compilation."
   ]
  },
  {
   "cell_type": "markdown",
   "metadata": {},
   "source": [
    "<div class=\"alert alert-block alert-info\">\n",
    "<b>Now it's your turn...</b><br>\n",
    "    <b>3.</b> Run the <tt>leapfrog</tt> stencil with <tt>origin=(0, 0, 0)</tt>. Do the computations run for any domain size? <br>\n",
    "    <b>4.</b> Write a simple stencil which sets a field equal to <tt>1</tt>. Compile it using the <tt>numpy</tt> backend. Assume then it is fed with a field of size <tt>(128, 128, 64)</tt>, filled with zeros, and it is invoked employing either (i) <tt>origin=(32, 32, 0)</tt> and <tt>domain=(64, 64, 64)</tt>, or (ii) <tt>origin=(64, 0, 0)</tt> and <tt>domain=(64, 128, 64)</tt>. Can you guess which is the result in both cases? Assess the correctness of your ideas using the function <tt>validate_to_one</tt>.\n",
    "</div>"
   ]
  },
  {
   "cell_type": "code",
   "execution_count": null,
   "metadata": {},
   "outputs": [],
   "source": [
    "compute_domain = gtx.domain({\n",
    "    I: (0, 512), # TODO\n",
    "    J: (0, 512), # TODO\n",
    "    K: (0, 128), # TODO\n",
    "})\n",
    "\n",
    "leapfrog(\n",
    "    u=u,\n",
    "    v=v,\n",
    "    phi_old=phi_old,\n",
    "    phi_now=phi_now,\n",
    "    dt=1.0,\n",
    "    dx=1.0,\n",
    "    dy=1.0,\n",
    "    out=phi_new,\n",
    "    domain=compute_domain,\n",
    ")"
   ]
  },
  {
   "cell_type": "code",
   "execution_count": null,
   "metadata": {},
   "outputs": [],
   "source": [
    "def to_one_defs(a: gtscript.Field[float]):\n",
    "    with computation(PARALLEL), interval(...):\n",
    "        a = 1.0"
   ]
  },
  {
   "cell_type": "code",
   "execution_count": null,
   "metadata": {},
   "outputs": [],
   "source": [
    "to_one = gtscript.stencil(definition=to_one_defs, backend=\"numpy\")"
   ]
  },
  {
   "cell_type": "code",
   "execution_count": null,
   "metadata": {},
   "outputs": [],
   "source": [
    "def validate_to_one(stencil):\n",
    "    backend = stencil.backend\n",
    "    \n",
    "    fig, axs = plt.subplots(1, 2, figsize=(12, 6))\n",
    "    \n",
    "    a = gt.storage.zeros(backend, (0, 0, 0), (128, 128, 64), float)\n",
    "    stencil(a=a, origin=(32, 32, 0), domain=(64, 64, 64))\n",
    "    im0 = axs[0].imshow(np.asarray(a[:, :, 0]), origin=\"lower\", vmin=0, vmax=1)\n",
    "    axs[0].set_title(\"Case (i)\")\n",
    "    axs[0].set_xlabel(\"i\")\n",
    "    axs[0].set_xticks(range(0, 129, 32))\n",
    "    axs[0].set_ylabel(\"j\")\n",
    "    axs[0].set_yticks(range(0, 129, 32))\n",
    "    \n",
    "    a[...] = 0.0\n",
    "    stencil(a=a, origin=(64, 0, 0), domain=(64, 128, 64))\n",
    "    im1 = axs[1].imshow(np.asarray(a[:, :, 0]).transpose(), origin=\"lower\", vmin=0, vmax=1)\n",
    "    fig.colorbar(im1, cmap=\"magma\", ax=[axs[0], axs[1]])\n",
    "    axs[1].set_title(\"Case (ii)\")\n",
    "    axs[1].set_xlabel(\"i\")\n",
    "    axs[1].set_xticks(range(0, 129, 32))\n",
    "    axs[1].set_yticks(range(0, 129, 32))\n",
    "    \n",
    "    plt.show()"
   ]
  },
  {
   "cell_type": "code",
   "execution_count": null,
   "metadata": {},
   "outputs": [],
   "source": [
    "validate_to_one(to_one)"
   ]
  },
  {
   "cell_type": "markdown",
   "metadata": {},
   "source": [
    "## Functions"
   ]
  },
  {
   "cell_type": "markdown",
   "metadata": {},
   "source": [
    "GTScript allows the user to call a customed function inside a computation block. This function can accept both fields and scalar coefficients, performs stencil operations, and eventually returns one or multiple fields. One should think of a function as a macro which is automatically expanded by the GT4Py pipeline. So there is little performance penalty associated with functions. This is in contrast with regular Python functions, whose invocation may entail significant overheads. To make a function callable from within a stencil, use the `gtscript.function` decorator."
   ]
  },
  {
   "cell_type": "code",
   "execution_count": null,
   "metadata": {},
   "outputs": [],
   "source": [
    "@gtx.field_operator\n",
    "def centered_diff_x(\n",
    "    u: IJKField,\n",
    "    phi: IJKField,\n",
    "    dx: gtx.float64,\n",
    ") -> IJKField:\n",
    "    return (phi(I + 1) * u(I + 1) - phi(I - 1) * u(I - 1)) / (2.0 * dx)\n",
    "\n",
    "@gtx.field_operator\n",
    "def centered_diff_y(\n",
    "    v: IJKField,\n",
    "    phi: IJKField,\n",
    "    dy: gtx.float64,\n",
    ") -> IJKField:\n",
    "    return (phi(J + 1) * v(J + 1) - phi(J - 1) * v(J - 1)) / (2.0 * dy)\n",
    "\n",
    "@gtx.field_operator\n",
    "def leapfrog_functions_defs(\n",
    "    u: IJKField,\n",
    "    v: IJKField,\n",
    "    phi_old: IJKField,\n",
    "    phi_now: IJKField,\n",
    "    dt: gtx.float64,\n",
    "    dx: gtx.float64,\n",
    "    dy: gtx.float64,\n",
    ") -> IJKField:\n",
    "    \n",
    "    dphi_dx = centered_diff_x(u, phi_now, dx)\n",
    "    dphi_dy = centered_diff_y(v, phi_now, dy)\n",
    "    phi_new = phi_old - 2.0 * dt * (dphi_dx + dphi_dy)\n",
    "    \n",
    "    return phi_new"
   ]
  },
  {
   "cell_type": "code",
   "execution_count": null,
   "metadata": {},
   "outputs": [],
   "source": [
    "leapfrog_stencil = leapfrog.with_backend(backend)\n",
    "\n",
    "dt=0.1\n",
    "dx=0.1\n",
    "dy=0.1\n",
    "\n",
    "%timeit leapfrog_stencil(u=u, v=v, phi_old=phi_old, phi_now=phi_now, dt=dt, dx=dx, dy=dy, out=phi_new, domain=field_domain, offset_provider={\"_IOff\": I, \"_JOff\": J})\n",
    "\n",
    "%timeit leapfrog_stencil(u=u, v=v, phi_old=phi_old, phi_now=phi_now, dt=dt, dx=dx, dy=dy, out=phi_new, domain=field_domain, offset_provider={\"_IOff\": I, \"_JOff\": J})"
   ]
  },
  {
   "cell_type": "markdown",
   "metadata": {},
   "source": [
    "The systematic use of functions may avoid duplicated code and improve readability, without introducing unacceptable overheads. The latter statement can be easily validated on our simple example:"
   ]
  },
  {
   "cell_type": "markdown",
   "metadata": {},
   "source": [
    "## Run-time conditionals"
   ]
  },
  {
   "cell_type": "markdown",
   "metadata": {},
   "source": [
    "GT4Py supports all binary operators (e.g. sum, difference, multiplication, etc) and ternary operators. The latter are also known as conditional expressions in Python, and can be used to calculate the absolute value of a field:"
   ]
  },
  {
   "cell_type": "code",
   "execution_count": null,
   "metadata": {},
   "outputs": [],
   "source": [
    "@gtx.field_operator\n",
    "def absolute_value_field(phi: gtx.float64):\n",
    "    return phi if phi > 0.0 else -phi"
   ]
  },
  {
   "cell_type": "markdown",
   "metadata": {},
   "source": [
    "The ternary operator can also be split into an if-statement followed by an else-statement:"
   ]
  },
  {
   "cell_type": "code",
   "execution_count": null,
   "metadata": {},
   "outputs": [],
   "source": [
    "from gt4py.next import where\n",
    "\n",
    "@gtx.field_operator\n",
    "def absolute_value_pointwise(phi: IJKField):\n",
    "    out = where(\n",
    "        phi > 0.0,\n",
    "        phi,\n",
    "        -phi,\n",
    "    )\n",
    "\n",
    "    return out"
   ]
  },
  {
   "cell_type": "markdown",
   "metadata": {},
   "source": [
    "Another notable example where run-time conditionals come in handy is the numerical integration of the hyperbolic equation\n",
    "\n",
    "\\begin{equation}\n",
    "    \\frac{\\partial \\phi}{\\partial t} + \\frac{\\partial \\phi u}{\\partial x} + \\frac{\\partial \\phi v}{\\partial y} = 0 \\, .\n",
    "\\end{equation}\n",
    "\n",
    "by the upwind scheme:\n",
    "\n",
    "\\begin{equation}\n",
    "    F_{i,j} =\n",
    "    \\begin{cases}\n",
    "        & \\left( \\phi_{i,j} \\, u_{i,j} - \\phi_{i-1,j} \\, u_{i-1,j} \\right) / \\Delta x \\qquad \\text{if $u_{i,j} > 0$} \\\\\n",
    "        & \\left( \\phi_{i+1,j} \\, u_{i+1,j} - \\phi_{i,j} \\, u_{i,j} \\right) / \\Delta x \\qquad \\text{if $u_{i,j} <= 0$}\n",
    "    \\end{cases} \\\\\n",
    "    G_{i,j} =\n",
    "    \\begin{cases}\n",
    "        & \\left( \\phi_{i,j} \\, v_{i,j} - \\phi_{i,j-1} \\, v_{i,j-1} \\right) / \\Delta y \\qquad \\text{if $v_{i,j} > 0$} \\\\\n",
    "        & \\left( \\phi_{i,j+1} \\, v_{i,j+1} - \\phi_{i,j} \\, v_{i,j} \\right) / \\Delta y \\qquad \\text{if $v_{i,j} <= 0$}\n",
    "    \\end{cases} \\\\\n",
    "    \\phi_{i,j}^{n+1} = \\phi_{i,j}^n - \\Delta t \\left( F_{i,j}^n + G_{i,j}^n \\right) \\, .\n",
    "\\end{equation}"
   ]
  },
  {
   "cell_type": "code",
   "execution_count": null,
   "metadata": {},
   "outputs": [],
   "source": [
    "from gt4py.next import where\n",
    "\n",
    "@gtx.field_operator\n",
    "def upwind_diff_x(\n",
    "    u: IJKField,\n",
    "    phi: IJKField,\n",
    "    dx: gtx.float64,\n",
    ") -> IJKField:\n",
    "    out = where(\n",
    "        u > 0.0,\n",
    "        (phi * u - phi(I - 1) * u(I - 1)) / dx,\n",
    "        (phi(I + 1) * u(I + 1) - phi* u) / dx,\n",
    "    )\n",
    "    \n",
    "    return out\n",
    "\n",
    "@gtx.field_operator\n",
    "def upwind_diff_y(\n",
    "    v: IJKField,\n",
    "    phi: IJKField,\n",
    "    dy: gtx.float64,\n",
    ") -> IJKField:\n",
    "    out = where(\n",
    "        v > 0.0,\n",
    "        (phi * v - phi(J - 1) * v(J -1)) / dy,\n",
    "        (phi(J + 1) * v(J + 1) - phi * v) / dy,\n",
    "    )\n",
    "  \n",
    "    return out\n",
    "\n",
    "@gtx.field_operator\n",
    "def upwind(\n",
    "    u: IJKField,\n",
    "    v: IJKField,\n",
    "    phi_now: IJKField,\n",
    "    dt: gtx.float64,\n",
    "    dx: gtx.float64,\n",
    "    dy: gtx.float64,\n",
    ") -> IJKField:\n",
    "\n",
    "    dphi_dx = upwind_diff_x(u, phi_now, dx)\n",
    "    dphi_dy = upwind_diff_y(v, phi_now, dy)\n",
    "    phi_new = phi_now - dt * (dphi_dx + dphi_dy)\n",
    "    \n",
    "    return phi_new\n",
    "        \n",
    "upwind_stencil = upwind.with_backend(backend)"
   ]
  },
  {
   "cell_type": "markdown",
   "metadata": {},
   "source": [
    "## Compile-time conditionals"
   ]
  },
  {
   "cell_type": "markdown",
   "metadata": {},
   "source": [
    "A more sophisticated control flow statement consists of an if-else construct which queries a **scalar** quantity whose value is known at the stencil compile-time. Such scalar quantity is made available inside the stencil definition as an external symbol and read through the `__INLINED()` accessor. An example for this could be a configuration option `UPWINDING` which regulates the type of advection scheme to use. This technique allows to fuse the `leapfrog` and `upwind` stencils into a unique stencil."
   ]
  },
  {
   "cell_type": "code",
   "execution_count": null,
   "metadata": {},
   "outputs": [],
   "source": [
    "@gtx.field_operator\n",
    "def horizontal_advection_(\n",
    "    u: IJKField,\n",
    "    v: IJKField,\n",
    "    phi_now: IJKField,\n",
    "    dt: gtx.float64,\n",
    "    dx: gtx.float64,\n",
    "    dy: gtx.float64,\n",
    "    upwinding: bool,\n",
    ") -> IJKField:\n",
    "    \n",
    "    if (upwinding):\n",
    "        dphi_dx = upwind_diff_x(u, phi_now, dx)\n",
    "        dphi_dy = upwind_diff_y(v, phi_now, dy)\n",
    "    else:\n",
    "        dphi_dx = centered_diff_x(u, phi_now, dx)\n",
    "        dphi_dy = centered_diff_y(v, phi_now, dy)\n",
    "            \n",
    "    phi_new = phi_old - 2.0 * dt * (dphi_dx + dphi_dy)\n",
    "    \n",
    "    return phi_new\n",
    "\n",
    "\n",
    "@gtx.program\n",
    "def horizontal_advection(\n",
    "    u: IJKField,\n",
    "    v: IJKField,\n",
    "    phi_now: IJKField,\n",
    "    phi_new: IJKField,\n",
    "    dt: gtx.float64,\n",
    "    dx: gtx.float64,\n",
    "    dy: gtx.float64,\n",
    "    upwinding: bool,\n",
    "):\n",
    "    horizontal_advection_(\n",
    "        u,\n",
    "        v,\n",
    "        phi_now,\n",
    "        dt,\n",
    "        dx,\n",
    "        dy,\n",
    "        upwinding,\n",
    "        out=phi_new,\n",
    "        offset_provider={\"_IOff\": I, \"_JOff\": J},\n",
    "    )\n",
    "\n",
    "# @HANNES: I cannot get this pre-compilation to work\n",
    "horizontal_advection_stencil = horizontal_advection.with_backend(backend).compile(upwinding = [True])"
   ]
  }
 ],
 "metadata": {
  "kernelspec": {
   "display_name": "HPC4WC",
   "language": "python",
   "name": "python3"
  },
  "language_info": {
   "codemirror_mode": {
    "name": "ipython",
    "version": 3
   },
   "file_extension": ".py",
   "mimetype": "text/x-python",
   "name": "python",
   "nbconvert_exporter": "python",
   "pygments_lexer": "ipython3",
   "version": "3.12.11"
  },
  "pycharm": {
   "stem_cell": {
    "cell_type": "raw",
    "metadata": {
     "collapsed": false
    },
    "source": []
   }
  }
 },
 "nbformat": 4,
 "nbformat_minor": 4
}
