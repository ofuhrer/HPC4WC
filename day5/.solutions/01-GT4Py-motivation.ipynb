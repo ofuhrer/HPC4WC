{
 "cells": [
  {
   "cell_type": "markdown",
   "metadata": {
    "tags": []
   },
   "source": [
    "# Why GT4Py?"
   ]
  },
  {
   "cell_type": "markdown",
   "metadata": {
    "tags": []
   },
   "source": [
    "# Example 1: A simple point-wise stencil"
   ]
  },
  {
   "cell_type": "markdown",
   "metadata": {},
   "source": [
    "First, we compare a NumPy, CuPy and GT4Py implementation of the point-wise stencil\n",
    "```\n",
    "d[i, j, k] = a[i, j, k] + b[i, j, k] - c[i, j, k]\n",
    "```\n",
    "Timings are measured using the `%timeit` magic command. This command times a single statement or function call by averaging over multiple runs. It has the additional advantage of synchronizing the CPU and the GPU at the end of each run, thus making the output reliable."
   ]
  },
  {
   "cell_type": "markdown",
   "metadata": {},
   "source": [
    "### NumPy"
   ]
  },
  {
   "cell_type": "code",
   "execution_count": 1,
   "metadata": {},
   "outputs": [
    {
     "name": "stdout",
     "output_type": "stream",
     "text": [
      "75.9 ms ± 1.51 ms per loop (mean ± std. dev. of 7 runs, 10 loops each)\n"
     ]
    }
   ],
   "source": [
    "import numpy as np\n",
    "\n",
    "shape = (512, 512, 128)\n",
    "\n",
    "def f_numpy(a, b, c, d):\n",
    "    d[...] = a + b - c\n",
    "    \n",
    "a = np.random.rand(*shape)\n",
    "b = np.random.rand(*shape)\n",
    "c = np.random.rand(*shape)\n",
    "d = np.empty_like(a)\n",
    "\n",
    "%timeit f_numpy(a, b, c, d)"
   ]
  },
  {
   "cell_type": "markdown",
   "metadata": {},
   "source": [
    "### CuPy"
   ]
  },
  {
   "cell_type": "code",
   "execution_count": 2,
   "metadata": {},
   "outputs": [
    {
     "ename": "ModuleNotFoundError",
     "evalue": "No module named 'cupy'",
     "output_type": "error",
     "traceback": [
      "\u001b[0;31m---------------------------------------------------------------------------\u001b[0m",
      "\u001b[0;31mModuleNotFoundError\u001b[0m                       Traceback (most recent call last)",
      "Cell \u001b[0;32mIn[2], line 1\u001b[0m\n\u001b[0;32m----> 1\u001b[0m \u001b[38;5;28;01mimport\u001b[39;00m\u001b[38;5;250m \u001b[39m\u001b[38;5;21;01mcupy\u001b[39;00m\u001b[38;5;250m \u001b[39m\u001b[38;5;28;01mas\u001b[39;00m\u001b[38;5;250m \u001b[39m\u001b[38;5;21;01mcp\u001b[39;00m\n\u001b[1;32m      3\u001b[0m shape \u001b[38;5;241m=\u001b[39m (\u001b[38;5;241m512\u001b[39m, \u001b[38;5;241m512\u001b[39m, \u001b[38;5;241m128\u001b[39m)\n\u001b[1;32m      5\u001b[0m \u001b[38;5;28;01mdef\u001b[39;00m\u001b[38;5;250m \u001b[39m\u001b[38;5;21mf_cupy\u001b[39m(a, b, c, d):\n",
      "\u001b[0;31mModuleNotFoundError\u001b[0m: No module named 'cupy'"
     ]
    }
   ],
   "source": [
    "import cupy as cp\n",
    "\n",
    "shape = (512, 512, 128)\n",
    "\n",
    "def f_cupy(a, b, c, d):\n",
    "    d[...] = a + b - c\n",
    "    \n",
    "a = cp.asarray(np.random.rand(*shape))\n",
    "b = cp.asarray(np.random.rand(*shape))\n",
    "c = cp.asarray(np.random.rand(*shape))\n",
    "d = cp.empty_like(a)\n",
    "\n",
    "%timeit f_cupy(a, b, c, d)"
   ]
  },
  {
   "cell_type": "markdown",
   "metadata": {},
   "source": [
    "### GT4Py"
   ]
  },
  {
   "cell_type": "code",
   "execution_count": 6,
   "metadata": {},
   "outputs": [],
   "source": [
    "import numpy as np\n",
    "\n",
    "import gt4py.next as gtx\n",
    "from gt4py.next.iterator.embedded import MutableLocatedField\n",
    "from gt4py.next import neighbor_sum, where, Dims\n",
    "\n",
    "\n",
    "def random_field(\n",
    "    domain: gtx.Domain, low: float = -1.0, high: float = 1.0, *, allocator=None\n",
    ") -> MutableLocatedField:\n",
    "    return gtx.as_field(\n",
    "        domain,\n",
    "        np.random.default_rng().uniform(low=low, high=high, size=domain.shape),\n",
    "        allocator=allocator,\n",
    "    )\n",
    "\n"
   ]
  },
  {
   "cell_type": "code",
   "execution_count": 20,
   "metadata": {},
   "outputs": [
    {
     "name": "stdout",
     "output_type": "stream",
     "text": [
      "38.7 ms ± 1.38 ms per loop (mean ± std. dev. of 7 runs, 10 loops each)\n"
     ]
    }
   ],
   "source": [
    "import gt4py.next as gtx\n",
    "import numpy as np\n",
    "import os\n",
    "\n",
    "backend = \"cpu\"\n",
    "\n",
    "backend_str_to_backend = {\"None\": None, \"cpu\": gtx.gtfn_cpu, \"gpu\": gtx.gtfn_gpu}\n",
    "\n",
    "actual_backend = backend_str_to_backend[backend]\n",
    "\n",
    "I = gtx.Dimension(\"I\")\n",
    "J = gtx.Dimension(\"J\")\n",
    "K = gtx.Dimension(\"K\")\n",
    "\n",
    "field_domain = gtx.domain({\n",
    "    I: (0, 512),\n",
    "    J: (0, 512),\n",
    "    K: (0, 128),\n",
    "})\n",
    "\n",
    "IJKField = gtx.Field[gtx.Dims[I, J, K], gtx.float64]\n",
    "\n",
    "@gtx.field_operator\n",
    "def f_gt4py(\n",
    "    a: IJKField,\n",
    "    b: IJKField,\n",
    "    c: IJKField,\n",
    ") -> IJKField:\n",
    "    return a + b - c\n",
    "        \n",
    "a = random_field(field_domain, allocator=actual_backend)\n",
    "b = random_field(field_domain, allocator=actual_backend)\n",
    "c = random_field(field_domain, allocator=actual_backend)\n",
    "d = gtx.zeros(field_domain, dtype=gtx.float64, allocator=actual_backend)\n",
    "\n",
    "f_gt4py_stencil = f_gt4py.with_backend(actual_backend)\n",
    "\n",
    "f_gt4py_stencil(\n",
    "    a=a, \n",
    "    b=b,\n",
    "    c=c,\n",
    "    out=d,\n",
    "    domain=field_domain,\n",
    "    offset_provider={\"_IOff\": I, \"_JOff\": J},\n",
    ")\n",
    "\n",
    "%timeit f_gt4py_stencil(a=a, b=b, c=c, out=d, domain=field_domain, offset_provider={\"_IOff\": I, \"_JOff\": J})\n"
   ]
  },
  {
   "cell_type": "markdown",
   "metadata": {
    "tags": []
   },
   "source": [
    "# Example 2: Laplacian"
   ]
  },
  {
   "cell_type": "markdown",
   "metadata": {},
   "source": [
    "The next example compares a NumPy, CuPy and GT4Py implementation of the Laplacian stencil that we saw before in our stencil2d code that we have been working with:\n",
    "```\n",
    "lap[i, j, k] = - 4 * phi[  i,   j, k] \n",
    "               +     phi[i-1,   j, k] \n",
    "               +     phi[i+1,   j, k] \n",
    "               +     phi[  i, j-1, k] \n",
    "               +     phi[  i, j+1, k]\n",
    "```\n",
    "Timings are measured using the `%timeit` magic command. This command times a single statement or function call by averaging over multiple runs. It has the additional advantage of synchronizing the CPU and the GPU at the end of each run, thus making the output reliable."
   ]
  },
  {
   "cell_type": "markdown",
   "metadata": {
    "tags": []
   },
   "source": [
    "### NumPy"
   ]
  },
  {
   "cell_type": "code",
   "execution_count": 21,
   "metadata": {},
   "outputs": [
    {
     "name": "stdout",
     "output_type": "stream",
     "text": [
      "269 ms ± 23.1 ms per loop (mean ± std. dev. of 7 runs, 1 loop each)\n"
     ]
    }
   ],
   "source": [
    "import numpy as np\n",
    "\n",
    "shape = (512, 512, 128)\n",
    "\n",
    "def lap_numpy(phi, lap):\n",
    "    lap[1:-1, 1:-1] = (\n",
    "        - 4. * phi[1:-1, 1:-1]\n",
    "        +      phi[ :-2, 1:-1]\n",
    "        +      phi[  2:, 1:-1]\n",
    "        +      phi[1:-1,  :-2]\n",
    "        +      phi[1:-1,   2:]\n",
    "    )\n",
    "    \n",
    "phi = np.random.rand(*shape)\n",
    "lap = np.empty_like(phi)\n",
    "\n",
    "%timeit lap_numpy(phi, lap)"
   ]
  },
  {
   "cell_type": "markdown",
   "metadata": {},
   "source": [
    "### CuPy"
   ]
  },
  {
   "cell_type": "code",
   "execution_count": 5,
   "metadata": {},
   "outputs": [
    {
     "name": "stdout",
     "output_type": "stream",
     "text": [
      "7.74 ms ± 37.5 ns per loop (mean ± std. dev. of 7 runs, 1,000 loops each)\n"
     ]
    }
   ],
   "source": [
    "import cupy as cp\n",
    "\n",
    "shape = (512, 512, 128)\n",
    "\n",
    "def lap_cupy(phi, lap):\n",
    "    lap[1:-1, 1:-1] = (\n",
    "        - 4. * phi[1:-1, 1:-1]\n",
    "        +      phi[ :-2, 1:-1]\n",
    "        +      phi[  2:, 1:-1]\n",
    "        +      phi[1:-1,  :-2]\n",
    "        +      phi[1:-1,   2:]\n",
    "    )\n",
    "    \n",
    "phi = cp.asarray(np.random.rand(*shape))\n",
    "lap = cp.empty_like(phi)\n",
    "\n",
    "%timeit lap_cupy(phi, lap)"
   ]
  },
  {
   "cell_type": "markdown",
   "metadata": {},
   "source": [
    "### GT4Py"
   ]
  },
  {
   "cell_type": "code",
   "execution_count": 25,
   "metadata": {},
   "outputs": [
    {
     "name": "stdout",
     "output_type": "stream",
     "text": [
      "26.6 ms ± 1.91 ms per loop (mean ± std. dev. of 7 runs, 10 loops each)\n"
     ]
    }
   ],
   "source": [
    "import gt4py.next as gtx\n",
    "import numpy as np\n",
    "import os\n",
    "\n",
    "backend = \"cpu\"\n",
    "\n",
    "backend_str_to_backend = {\"None\": None, \"cpu\": gtx.gtfn_cpu, \"gpu\": gtx.gtfn_gpu}\n",
    "\n",
    "actual_backend = backend_str_to_backend[backend]\n",
    "\n",
    "I = gtx.Dimension(\"I\")\n",
    "J = gtx.Dimension(\"J\")\n",
    "K = gtx.Dimension(\"K\")\n",
    "\n",
    "field_domain = gtx.domain({\n",
    "    I: (-4, 516),\n",
    "    J: (-4, 516),\n",
    "    K: (-4, 132),\n",
    "})\n",
    "\n",
    "IJKField = gtx.Field[gtx.Dims[I, J, K], gtx.float64]\n",
    "\n",
    "@gtx.field_operator\n",
    "def lap_gt4py(in_field: IJKField) -> IJKField:\n",
    "    lap_field = (\n",
    "        -4.0 * in_field\n",
    "        + in_field(I - 1)\n",
    "        + in_field(I + 1)\n",
    "        + in_field(J - 1)\n",
    "        + in_field(J + 1)\n",
    "    )\n",
    "    return lap_field\n",
    "\n",
    "\n",
    "phi = random_field(field_domain, allocator=actual_backend)\n",
    "lap = gtx.zeros(field_domain, dtype=gtx.float64, allocator=actual_backend)\n",
    "\n",
    "lap_gt4py_stencil = lap_gt4py.with_backend(actual_backend)\n",
    "\n",
    "compute_domain = gtx.domain({\n",
    "    I: (0, 512),\n",
    "    J: (0, 512),\n",
    "    K: (0, 128),\n",
    "})\n",
    "\n",
    "lap_gt4py_stencil(\n",
    "    in_field=phi,\n",
    "    out=lap,\n",
    "    domain=compute_domain,\n",
    "    offset_provider={\"_IOff\": I, \"_JOff\": J},\n",
    ")\n",
    "\n",
    "%timeit lap_gt4py_stencil(in_field=phi, out=lap, domain=compute_domain, offset_provider={\"_IOff\": I, \"_JOff\": J})\n"
   ]
  },
  {
   "cell_type": "code",
   "execution_count": null,
   "metadata": {},
   "outputs": [],
   "source": []
  }
 ],
 "metadata": {
  "kernelspec": {
   "display_name": "GT4Py kernel",
   "language": "python",
   "name": "gt4py"
  },
  "language_info": {
   "codemirror_mode": {
    "name": "ipython",
    "version": 3
   },
   "file_extension": ".py",
   "mimetype": "text/x-python",
   "name": "python",
   "nbconvert_exporter": "python",
   "pygments_lexer": "ipython3",
   "version": "3.10.12"
  }
 },
 "nbformat": 4,
 "nbformat_minor": 4
}
