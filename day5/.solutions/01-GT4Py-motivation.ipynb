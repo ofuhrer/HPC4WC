{
 "cells": [
  {
   "cell_type": "markdown",
   "metadata": {
    "tags": []
   },
   "source": [
    "# Why GT4Py?"
   ]
  },
  {
   "cell_type": "markdown",
   "metadata": {
    "tags": []
   },
   "source": [
    "# Example 1: A simple point-wise stencil"
   ]
  },
  {
   "cell_type": "markdown",
   "metadata": {},
   "source": [
    "First, we compare a NumPy, CuPy and GT4Py implementation of the point-wise stencil\n",
    "```\n",
    "d[i, j, k] = a[i, j, k] + b[i, j, k] - c[i, j, k]\n",
    "```\n",
    "Timings are measured using the `%timeit` magic command. This command times a single statement or function call by averaging over multiple runs. It has the additional advantage of synchronizing the CPU and the GPU at the end of each run, thus making the output reliable."
   ]
  },
  {
   "cell_type": "code",
   "execution_count": 27,
   "metadata": {},
   "outputs": [],
   "source": [
    "shape = (512, 512, 128)"
   ]
  },
  {
   "cell_type": "markdown",
   "metadata": {},
   "source": [
    "### NumPy"
   ]
  },
  {
   "cell_type": "code",
   "execution_count": 28,
   "metadata": {},
   "outputs": [
    {
     "name": "stdout",
     "output_type": "stream",
     "text": [
      "115 ms ± 6.92 ms per loop (mean ± std. dev. of 7 runs, 10 loops each)\n"
     ]
    }
   ],
   "source": [
    "import numpy as np\n",
    "\n",
    "def f_numpy(a, b, c, d):\n",
    "    d[...] = a + b - c\n",
    "    \n",
    "a = np.random.rand(*shape)\n",
    "b = np.random.rand(*shape)\n",
    "c = np.random.rand(*shape)\n",
    "d = np.empty_like(a)\n",
    "\n",
    "%timeit f_numpy(a, b, c, d)"
   ]
  },
  {
   "cell_type": "markdown",
   "metadata": {},
   "source": [
    "### CuPy"
   ]
  },
  {
   "cell_type": "code",
   "execution_count": 29,
   "metadata": {},
   "outputs": [
    {
     "name": "stdout",
     "output_type": "stream",
     "text": [
      "9.41 ms ± 1.88 μs per loop (mean ± std. dev. of 7 runs, 100 loops each)\n"
     ]
    }
   ],
   "source": [
    "import cupy as cp\n",
    "\n",
    "def f_cupy(a, b, c, d):\n",
    "    d[...] = a + b - c\n",
    "    cp.cuda.runtime.deviceSynchronize()\n",
    "    \n",
    "a = cp.asarray(np.random.rand(*shape))\n",
    "b = cp.asarray(np.random.rand(*shape))\n",
    "c = cp.asarray(np.random.rand(*shape))\n",
    "d = cp.empty_like(a)\n",
    "\n",
    "%timeit f_cupy(a, b, c, d)"
   ]
  },
  {
   "cell_type": "markdown",
   "metadata": {},
   "source": [
    "### GT4Py"
   ]
  },
  {
   "cell_type": "code",
   "execution_count": 30,
   "metadata": {},
   "outputs": [
    {
     "name": "stdout",
     "output_type": "stream",
     "text": [
      "4.64 ms ± 16.1 μs per loop (mean ± std. dev. of 7 runs, 100 loops each)\n"
     ]
    }
   ],
   "source": [
    "import numpy as np\n",
    "import gt4py.next as gtx\n",
    "\n",
    "backend = None             # Embedded, native Python execution\n",
    "#backend = gtx.gtfn_cpu     # Translated to C code\n",
    "backend = gtx.gtfn_gpu     # Translated to GPU (CUDA or HIP) code\n",
    "\n",
    "I = gtx.Dimension(\"I\")\n",
    "J = gtx.Dimension(\"J\")\n",
    "K = gtx.Dimension(\"K\")\n",
    "\n",
    "field_domain = gtx.domain({\n",
    "    I: (0, shape[0]),\n",
    "    J: (0, shape[1]),\n",
    "    K: (0, shape[2]),\n",
    "})\n",
    "\n",
    "IJKField = gtx.Field[gtx.Dims[I, J, K], gtx.float64]\n",
    "\n",
    "@gtx.field_operator\n",
    "def f_gt4py(a: IJKField, b: IJKField, c: IJKField) -> IJKField:\n",
    "    return a + b - c\n",
    "\n",
    "@gtx.program\n",
    "def f_gt4py_program(\n",
    "    a: IJKField,\n",
    "    b: IJKField,\n",
    "    c: IJKField,\n",
    "    nx: gtx.int32,\n",
    "    ny: gtx.int32,\n",
    "    nz: gtx.int32,\n",
    "    out: IJKField\n",
    "):\n",
    "    f_gt4py(\n",
    "        a=a,\n",
    "        b=b,\n",
    "        c=c,\n",
    "        out=out,\n",
    "        domain={\n",
    "            I: (0, nx),\n",
    "            J: (0, ny),\n",
    "            K: (0, nz),\n",
    "        },\n",
    "    )\n",
    "        \n",
    "a = gtx.as_field(field_domain, np.random.rand(*field_domain.shape), allocator=backend)\n",
    "b = gtx.as_field(field_domain, np.random.rand(*field_domain.shape), allocator=backend)\n",
    "c = gtx.as_field(field_domain, np.random.rand(*field_domain.shape), allocator=backend)\n",
    "d = gtx.zeros(field_domain, dtype=gtx.float64, allocator=backend)\n",
    "\n",
    "f_gt4py_stencil = f_gt4py_program.with_backend(backend)\n",
    "\n",
    "compute_domain = field_domain\n",
    "\n",
    "def run():\n",
    "    f_gt4py_stencil(\n",
    "        a=a,\n",
    "        b=b,\n",
    "        c=c,\n",
    "        nx=shape[0],\n",
    "        ny=shape[1],\n",
    "        nz=shape[2],\n",
    "        out=d\n",
    "    )\n",
    "    cp.cuda.runtime.deviceSynchronize()\n",
    "\n",
    "run()\n",
    "\n",
    "%timeit run()"
   ]
  },
  {
   "cell_type": "markdown",
   "metadata": {
    "tags": []
   },
   "source": [
    "# Example 2: Laplacian"
   ]
  },
  {
   "cell_type": "markdown",
   "metadata": {},
   "source": [
    "The next example compares a NumPy, CuPy and GT4Py implementation of the Laplacian stencil that we saw before in our stencil2d code that we have been working with:\n",
    "```\n",
    "lap[i, j, k] = - 4 * phi[  i,   j, k] \n",
    "               +     phi[i-1,   j, k] \n",
    "               +     phi[i+1,   j, k] \n",
    "               +     phi[  i, j-1, k] \n",
    "               +     phi[  i, j+1, k]\n",
    "```\n",
    "Timings are measured using the `%timeit` magic command. This command times a single statement or function call by averaging over multiple runs. It has the additional advantage of synchronizing the CPU and the GPU at the end of each run, thus making the output reliable."
   ]
  },
  {
   "cell_type": "code",
   "execution_count": 31,
   "metadata": {},
   "outputs": [],
   "source": [
    "shape_with_halo = (shape[0] + 2, shape[1] + 2, shape[2])"
   ]
  },
  {
   "cell_type": "markdown",
   "metadata": {
    "tags": []
   },
   "source": [
    "### NumPy"
   ]
  },
  {
   "cell_type": "code",
   "execution_count": 32,
   "metadata": {},
   "outputs": [
    {
     "name": "stdout",
     "output_type": "stream",
     "text": [
      "217 ms ± 11.5 ms per loop (mean ± std. dev. of 7 runs, 1 loop each)\n"
     ]
    }
   ],
   "source": [
    "import numpy as np\n",
    "\n",
    "def lap_numpy(phi, lap):\n",
    "    lap[1:-1, 1:-1] = (\n",
    "        - 4. * phi[1:-1, 1:-1]\n",
    "        +      phi[ :-2, 1:-1]\n",
    "        +      phi[  2:, 1:-1]\n",
    "        +      phi[1:-1,  :-2]\n",
    "        +      phi[1:-1,   2:]\n",
    "    )\n",
    "    \n",
    "phi = np.random.rand(*shape_with_halo)\n",
    "lap = np.empty_like(phi)\n",
    "\n",
    "%timeit lap_numpy(phi, lap)"
   ]
  },
  {
   "cell_type": "markdown",
   "metadata": {},
   "source": [
    "### CuPy"
   ]
  },
  {
   "cell_type": "code",
   "execution_count": null,
   "metadata": {},
   "outputs": [
    {
     "ename": "TypeError",
     "evalue": "synchronize() takes exactly 1 positional argument (0 given)",
     "output_type": "error",
     "traceback": [
      "\u001b[31m---------------------------------------------------------------------------\u001b[39m",
      "\u001b[31mTypeError\u001b[39m                                 Traceback (most recent call last)",
      "\u001b[36mCell\u001b[39m\u001b[36m \u001b[39m\u001b[32mIn[33]\u001b[39m\u001b[32m, line 16\u001b[39m\n\u001b[32m     13\u001b[39m phi = cp.asarray(np.random.rand(*shape_with_halo))\n\u001b[32m     14\u001b[39m lap = cp.empty_like(phi)\n\u001b[32m---> \u001b[39m\u001b[32m16\u001b[39m \u001b[43mget_ipython\u001b[49m\u001b[43m(\u001b[49m\u001b[43m)\u001b[49m\u001b[43m.\u001b[49m\u001b[43mrun_line_magic\u001b[49m\u001b[43m(\u001b[49m\u001b[33;43m'\u001b[39;49m\u001b[33;43mtimeit\u001b[39;49m\u001b[33;43m'\u001b[39;49m\u001b[43m,\u001b[49m\u001b[43m \u001b[49m\u001b[33;43m'\u001b[39;49m\u001b[33;43mlap_cupy(phi, lap)\u001b[39;49m\u001b[33;43m'\u001b[39;49m\u001b[43m)\u001b[49m\n",
      "\u001b[36mFile \u001b[39m\u001b[32m~/git/HPC4WC/.venv/lib/python3.11/site-packages/IPython/core/interactiveshell.py:2488\u001b[39m, in \u001b[36mInteractiveShell.run_line_magic\u001b[39m\u001b[34m(self, magic_name, line, _stack_depth)\u001b[39m\n\u001b[32m   2486\u001b[39m     kwargs[\u001b[33m'\u001b[39m\u001b[33mlocal_ns\u001b[39m\u001b[33m'\u001b[39m] = \u001b[38;5;28mself\u001b[39m.get_local_scope(stack_depth)\n\u001b[32m   2487\u001b[39m \u001b[38;5;28;01mwith\u001b[39;00m \u001b[38;5;28mself\u001b[39m.builtin_trap:\n\u001b[32m-> \u001b[39m\u001b[32m2488\u001b[39m     result = \u001b[43mfn\u001b[49m\u001b[43m(\u001b[49m\u001b[43m*\u001b[49m\u001b[43margs\u001b[49m\u001b[43m,\u001b[49m\u001b[43m \u001b[49m\u001b[43m*\u001b[49m\u001b[43m*\u001b[49m\u001b[43mkwargs\u001b[49m\u001b[43m)\u001b[49m\n\u001b[32m   2490\u001b[39m \u001b[38;5;66;03m# The code below prevents the output from being displayed\u001b[39;00m\n\u001b[32m   2491\u001b[39m \u001b[38;5;66;03m# when using magics with decorator @output_can_be_silenced\u001b[39;00m\n\u001b[32m   2492\u001b[39m \u001b[38;5;66;03m# when the last Python token in the expression is a ';'.\u001b[39;00m\n\u001b[32m   2493\u001b[39m \u001b[38;5;28;01mif\u001b[39;00m \u001b[38;5;28mgetattr\u001b[39m(fn, magic.MAGIC_OUTPUT_CAN_BE_SILENCED, \u001b[38;5;28;01mFalse\u001b[39;00m):\n",
      "\u001b[36mFile \u001b[39m\u001b[32m~/git/HPC4WC/.venv/lib/python3.11/site-packages/IPython/core/magics/execution.py:1225\u001b[39m, in \u001b[36mExecutionMagics.timeit\u001b[39m\u001b[34m(self, line, cell, local_ns)\u001b[39m\n\u001b[32m   1223\u001b[39m \u001b[38;5;28;01mfor\u001b[39;00m index \u001b[38;5;129;01min\u001b[39;00m \u001b[38;5;28mrange\u001b[39m(\u001b[32m0\u001b[39m, \u001b[32m10\u001b[39m):\n\u001b[32m   1224\u001b[39m     number = \u001b[32m10\u001b[39m ** index\n\u001b[32m-> \u001b[39m\u001b[32m1225\u001b[39m     time_number = \u001b[43mtimer\u001b[49m\u001b[43m.\u001b[49m\u001b[43mtimeit\u001b[49m\u001b[43m(\u001b[49m\u001b[43mnumber\u001b[49m\u001b[43m)\u001b[49m\n\u001b[32m   1226\u001b[39m     \u001b[38;5;28;01mif\u001b[39;00m time_number >= \u001b[32m0.2\u001b[39m:\n\u001b[32m   1227\u001b[39m         \u001b[38;5;28;01mbreak\u001b[39;00m\n",
      "\u001b[36mFile \u001b[39m\u001b[32m~/git/HPC4WC/.venv/lib/python3.11/site-packages/IPython/core/magics/execution.py:183\u001b[39m, in \u001b[36mTimer.timeit\u001b[39m\u001b[34m(self, number)\u001b[39m\n\u001b[32m    181\u001b[39m gc.disable()\n\u001b[32m    182\u001b[39m \u001b[38;5;28;01mtry\u001b[39;00m:\n\u001b[32m--> \u001b[39m\u001b[32m183\u001b[39m     timing = \u001b[38;5;28;43mself\u001b[39;49m\u001b[43m.\u001b[49m\u001b[43minner\u001b[49m\u001b[43m(\u001b[49m\u001b[43mit\u001b[49m\u001b[43m,\u001b[49m\u001b[43m \u001b[49m\u001b[38;5;28;43mself\u001b[39;49m\u001b[43m.\u001b[49m\u001b[43mtimer\u001b[49m\u001b[43m)\u001b[49m\n\u001b[32m    184\u001b[39m \u001b[38;5;28;01mfinally\u001b[39;00m:\n\u001b[32m    185\u001b[39m     \u001b[38;5;28;01mif\u001b[39;00m gcold:\n",
      "\u001b[36mFile \u001b[39m\u001b[32m<magic-timeit>:1\u001b[39m, in \u001b[36minner\u001b[39m\u001b[34m(_it, _timer)\u001b[39m\n",
      "\u001b[36mCell\u001b[39m\u001b[36m \u001b[39m\u001b[32mIn[33]\u001b[39m\u001b[32m, line 11\u001b[39m, in \u001b[36mlap_cupy\u001b[39m\u001b[34m(phi, lap)\u001b[39m\n\u001b[32m      3\u001b[39m \u001b[38;5;28;01mdef\u001b[39;00m\u001b[38;5;250m \u001b[39m\u001b[34mlap_cupy\u001b[39m(phi, lap):\n\u001b[32m      4\u001b[39m     lap[\u001b[32m1\u001b[39m:-\u001b[32m1\u001b[39m, \u001b[32m1\u001b[39m:-\u001b[32m1\u001b[39m] = (\n\u001b[32m      5\u001b[39m         - \u001b[32m4.\u001b[39m * phi[\u001b[32m1\u001b[39m:-\u001b[32m1\u001b[39m, \u001b[32m1\u001b[39m:-\u001b[32m1\u001b[39m]\n\u001b[32m      6\u001b[39m         +      phi[ :-\u001b[32m2\u001b[39m, \u001b[32m1\u001b[39m:-\u001b[32m1\u001b[39m]\n\u001b[32m   (...)\u001b[39m\u001b[32m      9\u001b[39m         +      phi[\u001b[32m1\u001b[39m:-\u001b[32m1\u001b[39m,   \u001b[32m2\u001b[39m:]\n\u001b[32m     10\u001b[39m     )\n\u001b[32m---> \u001b[39m\u001b[32m11\u001b[39m     \u001b[43mcp\u001b[49m\u001b[43m.\u001b[49m\u001b[43mcuda\u001b[49m\u001b[43m.\u001b[49m\u001b[43mStream\u001b[49m\u001b[43m.\u001b[49m\u001b[43msynchronize\u001b[49m\u001b[43m(\u001b[49m\u001b[43m)\u001b[49m\n",
      "\u001b[36mFile \u001b[39m\u001b[32mcupy/cuda/stream.pyx:252\u001b[39m, in \u001b[36mcupy.cuda.stream._BaseStream.synchronize\u001b[39m\u001b[34m()\u001b[39m\n",
      "\u001b[31mTypeError\u001b[39m: synchronize() takes exactly 1 positional argument (0 given)"
     ]
    }
   ],
   "source": [
    "import cupy as cp\n",
    "\n",
    "def lap_cupy(phi, lap):\n",
    "    lap[1:-1, 1:-1] = (\n",
    "        - 4. * phi[1:-1, 1:-1]\n",
    "        +      phi[ :-2, 1:-1]\n",
    "        +      phi[  2:, 1:-1]\n",
    "        +      phi[1:-1,  :-2]\n",
    "        +      phi[1:-1,   2:]\n",
    "    )\n",
    "    cp.cuda.runtime.deviceSynchronize()\n",
    "    \n",
    "phi = cp.asarray(np.random.rand(*shape_with_halo))\n",
    "lap = cp.empty_like(phi)\n",
    "\n",
    "%timeit lap_cupy(phi, lap)"
   ]
  },
  {
   "cell_type": "markdown",
   "metadata": {},
   "source": [
    "### GT4Py"
   ]
  },
  {
   "cell_type": "code",
   "execution_count": null,
   "metadata": {},
   "outputs": [
    {
     "name": "stdout",
     "output_type": "stream",
     "text": [
      "2.64 ms ± 67.4 μs per loop (mean ± std. dev. of 7 runs, 100 loops each)\n"
     ]
    }
   ],
   "source": [
    "import gt4py.next as gtx\n",
    "import numpy as np\n",
    "\n",
    "backend = None             # Embedded, native Python execution\n",
    "#backend = gtx.gtfn_cpu     # Translated to C code\n",
    "backend = gtx.gtfn_gpu     # Translated to GPU (CUDA or HIP) code\n",
    "\n",
    "I = gtx.Dimension(\"I\")\n",
    "J = gtx.Dimension(\"J\")\n",
    "K = gtx.Dimension(\"K\")\n",
    "\n",
    "field_domain = gtx.domain({\n",
    "    I: (-1, shape[0] + 1),\n",
    "    J: (-1, shape[1] + 1),\n",
    "    K: (-1, shape[2] + 1),\n",
    "})\n",
    "\n",
    "IJKField = gtx.Field[gtx.Dims[I, J, K], gtx.float64]\n",
    "\n",
    "@gtx.field_operator\n",
    "def lap_gt4py(in_field: IJKField) -> IJKField:\n",
    "    lap_field = (\n",
    "        -4.0 * in_field\n",
    "        + in_field(I - 1)\n",
    "        + in_field(I + 1)\n",
    "        + in_field(J - 1)\n",
    "        + in_field(J + 1)\n",
    "    )\n",
    "    return lap_field\n",
    "\n",
    "@gtx.program\n",
    "def lap_gt4py_program(\n",
    "    in_field: IJKField,\n",
    "    nx: gtx.int32,\n",
    "    ny: gtx.int32,\n",
    "    nz: gtx.int32,\n",
    "    out: IJKField,\n",
    ") -> None:\n",
    "    lap_gt4py(in_field, out=out, domain={I: (0, nx), J: (0, ny), K: (0, nz)})\n",
    "\n",
    "phi = gtx.as_field(field_domain, np.random.rand(*field_domain.shape), allocator=backend)\n",
    "lap = gtx.zeros(field_domain, dtype=gtx.float64, allocator=backend)\n",
    "\n",
    "lap_gt4py_stencil = lap_gt4py_program.with_backend(backend)\n",
    "\n",
    "\n",
    "\n",
    "def run():\n",
    "    lap_gt4py_stencil(\n",
    "        in_field=phi,\n",
    "        nx=shape[0],\n",
    "        ny=shape[1],\n",
    "        nz=shape[2],\n",
    "        out=lap,\n",
    "    )\n",
    "    cp.cuda.runtime.deviceSynchronize()\n",
    "\n",
    "run()\n",
    "\n",
    "%timeit run()\n"
   ]
  },
  {
   "cell_type": "code",
   "execution_count": null,
   "metadata": {},
   "outputs": [],
   "source": []
  }
 ],
 "metadata": {
  "kernelspec": {
   "display_name": ".venv",
   "language": "python",
   "name": "python3"
  },
  "language_info": {
   "codemirror_mode": {
    "name": "ipython",
    "version": 3
   },
   "file_extension": ".py",
   "mimetype": "text/x-python",
   "name": "python",
   "nbconvert_exporter": "python",
   "pygments_lexer": "ipython3",
   "version": "3.11.11"
  }
 },
 "nbformat": 4,
 "nbformat_minor": 4
}
