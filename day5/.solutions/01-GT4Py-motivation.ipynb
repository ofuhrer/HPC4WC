{
 "cells": [
  {
   "cell_type": "markdown",
   "metadata": {
    "tags": []
   },
   "source": [
    "# Why GT4Py?"
   ]
  },
  {
   "cell_type": "markdown",
   "metadata": {
    "tags": []
   },
   "source": [
    "# Example 1: A simple point-wise stencil"
   ]
  },
  {
   "cell_type": "markdown",
   "metadata": {},
   "source": [
    "First, we compare a NumPy, CuPy and GT4Py implementation of the point-wise stencil\n",
    "```\n",
    "d[i, j, k] = a[i, j, k] + b[i, j, k] - c[i, j, k]\n",
    "```\n",
    "Timings are measured using the `%timeit` magic command. This command times a single statement or function call by averaging over multiple runs. It has the additional advantage of synchronizing the CPU and the GPU at the end of each run, thus making the output reliable."
   ]
  },
  {
   "cell_type": "code",
   "execution_count": null,
   "metadata": {},
   "outputs": [],
   "source": [
    "shape = (512, 512, 128)"
   ]
  },
  {
   "cell_type": "markdown",
   "metadata": {},
   "source": [
    "### NumPy"
   ]
  },
  {
   "cell_type": "code",
   "execution_count": null,
   "metadata": {},
   "outputs": [],
   "source": [
    "import numpy as np\n",
    "\n",
    "def f_numpy(a, b, c, d):\n",
    "    d[...] = a + b - c\n",
    "    \n",
    "a = np.random.rand(*shape)\n",
    "b = np.random.rand(*shape)\n",
    "c = np.random.rand(*shape)\n",
    "d = np.empty_like(a)\n",
    "\n",
    "%timeit f_numpy(a, b, c, d)"
   ]
  },
  {
   "cell_type": "markdown",
   "metadata": {},
   "source": [
    "### CuPy"
   ]
  },
  {
   "cell_type": "code",
   "execution_count": null,
   "metadata": {},
   "outputs": [],
   "source": [
    "import cupy as cp\n",
    "\n",
    "def f_cupy(a, b, c, d):\n",
    "    d[...] = a + b - c\n",
    "    \n",
    "a = cp.asarray(np.random.rand(*shape))\n",
    "b = cp.asarray(np.random.rand(*shape))\n",
    "c = cp.asarray(np.random.rand(*shape))\n",
    "d = cp.empty_like(a)\n",
    "\n",
    "%timeit f_cupy(a, b, c, d)"
   ]
  },
  {
   "cell_type": "markdown",
   "metadata": {},
   "source": [
    "### GT4Py"
   ]
  },
  {
   "cell_type": "code",
   "execution_count": null,
   "metadata": {},
   "outputs": [],
   "source": [
    "import numpy as np\n",
    "import gt4py.next as gtx\n",
    "\n",
    "backend = None             # Embedded, native Python execution\n",
    "#backend = gtx.gtfn_cpu     # Translated to C code\n",
    "backend = gtx.gtfn_gpu     # Translated to GPU (CUDA or HIP) code\n",
    "\n",
    "I = gtx.Dimension(\"I\")\n",
    "J = gtx.Dimension(\"J\")\n",
    "K = gtx.Dimension(\"K\")\n",
    "\n",
    "field_domain = gtx.domain({\n",
    "    I: (0, shape[0]),\n",
    "    J: (0, shape[1]),\n",
    "    K: (0, shape[2]),\n",
    "})\n",
    "\n",
    "IJKField = gtx.Field[gtx.Dims[I, J, K], gtx.float64]\n",
    "\n",
    "@gtx.field_operator\n",
    "def f_gt4py(a: IJKField, b: IJKField, c: IJKField) -> IJKField:\n",
    "    return a + b - c\n",
    "\n",
    "@gtx.program\n",
    "def f_gt4py_program(\n",
    "    a: IJKField,\n",
    "    b: IJKField,\n",
    "    c: IJKField,\n",
    "    nx: gtx.int32,\n",
    "    ny: gtx.int32,\n",
    "    nz: gtx.int32,\n",
    "    out: IJKField\n",
    "):\n",
    "    f_gt4py(\n",
    "        a=a,\n",
    "        b=b,\n",
    "        c=c,\n",
    "        out=out,\n",
    "        domain={\n",
    "            I: (0, nx),\n",
    "            J: (0, ny),\n",
    "            K: (0, nz),\n",
    "        },\n",
    "    )\n",
    "        \n",
    "a = gtx.as_field(field_domain, np.random.rand(*field_domain.shape), allocator=backend)\n",
    "b = gtx.as_field(field_domain, np.random.rand(*field_domain.shape), allocator=backend)\n",
    "c = gtx.as_field(field_domain, np.random.rand(*field_domain.shape), allocator=backend)\n",
    "d = gtx.zeros(field_domain, dtype=gtx.float64, allocator=backend)\n",
    "\n",
    "f_gt4py_stencil = f_gt4py_program.with_backend(backend)\n",
    "\n",
    "compute_domain = field_domain\n",
    "\n",
    "f_gt4py_stencil(\n",
    "    a=a, \n",
    "    b=b,\n",
    "    c=c,\n",
    "    nx=shape[0],\n",
    "    ny=shape[1],\n",
    "    nz=shape[2],\n",
    "    out=d\n",
    ")\n",
    "\n",
    "%timeit f_gt4py_stencil(a=a, b=b, c=c, nx=shape[0], ny=shape[1], nz=shape[2], out=d)"
   ]
  },
  {
   "cell_type": "markdown",
   "metadata": {
    "tags": []
   },
   "source": [
    "# Example 2: Laplacian"
   ]
  },
  {
   "cell_type": "markdown",
   "metadata": {},
   "source": [
    "The next example compares a NumPy, CuPy and GT4Py implementation of the Laplacian stencil that we saw before in our stencil2d code that we have been working with:\n",
    "```\n",
    "lap[i, j, k] = - 4 * phi[  i,   j, k] \n",
    "               +     phi[i-1,   j, k] \n",
    "               +     phi[i+1,   j, k] \n",
    "               +     phi[  i, j-1, k] \n",
    "               +     phi[  i, j+1, k]\n",
    "```\n",
    "Timings are measured using the `%timeit` magic command. This command times a single statement or function call by averaging over multiple runs. It has the additional advantage of synchronizing the CPU and the GPU at the end of each run, thus making the output reliable."
   ]
  },
  {
   "cell_type": "code",
   "execution_count": null,
   "metadata": {},
   "outputs": [],
   "source": [
    "shape_with_halo = (shape[0] + 2, shape[1] + 2, shape[2])"
   ]
  },
  {
   "cell_type": "markdown",
   "metadata": {
    "tags": []
   },
   "source": [
    "### NumPy"
   ]
  },
  {
   "cell_type": "code",
   "execution_count": null,
   "metadata": {},
   "outputs": [],
   "source": [
    "import numpy as np\n",
    "\n",
    "def lap_numpy(phi, lap):\n",
    "    lap[1:-1, 1:-1] = (\n",
    "        - 4. * phi[1:-1, 1:-1]\n",
    "        +      phi[ :-2, 1:-1]\n",
    "        +      phi[  2:, 1:-1]\n",
    "        +      phi[1:-1,  :-2]\n",
    "        +      phi[1:-1,   2:]\n",
    "    )\n",
    "    \n",
    "phi = np.random.rand(*shape_with_halo)\n",
    "lap = np.empty_like(phi)\n",
    "\n",
    "%timeit lap_numpy(phi, lap)"
   ]
  },
  {
   "cell_type": "markdown",
   "metadata": {},
   "source": [
    "### CuPy"
   ]
  },
  {
   "cell_type": "code",
   "execution_count": null,
   "metadata": {},
   "outputs": [],
   "source": [
    "import cupy as cp\n",
    "\n",
    "def lap_cupy(phi, lap):\n",
    "    lap[1:-1, 1:-1] = (\n",
    "        - 4. * phi[1:-1, 1:-1]\n",
    "        +      phi[ :-2, 1:-1]\n",
    "        +      phi[  2:, 1:-1]\n",
    "        +      phi[1:-1,  :-2]\n",
    "        +      phi[1:-1,   2:]\n",
    "    )\n",
    "    \n",
    "phi = cp.asarray(np.random.rand(*shape_with_halo))\n",
    "lap = cp.empty_like(phi)\n",
    "\n",
    "%timeit lap_cupy(phi, lap)"
   ]
  },
  {
   "cell_type": "markdown",
   "metadata": {},
   "source": [
    "### GT4Py"
   ]
  },
  {
   "cell_type": "code",
   "execution_count": null,
   "metadata": {},
   "outputs": [],
   "source": [
    "import gt4py.next as gtx\n",
    "import numpy as np\n",
    "\n",
    "backend = None             # Embedded, native Python execution\n",
    "#backend = gtx.gtfn_cpu     # Translated to C code\n",
    "backend = gtx.gtfn_gpu     # Translated to GPU (CUDA or HIP) code\n",
    "\n",
    "I = gtx.Dimension(\"I\")\n",
    "J = gtx.Dimension(\"J\")\n",
    "K = gtx.Dimension(\"K\")\n",
    "\n",
    "field_domain = gtx.domain({\n",
    "    I: (-1, shape[0] + 1),\n",
    "    J: (-1, shape[1] + 1),\n",
    "    K: (-1, shape[2] + 1),\n",
    "})\n",
    "\n",
    "IJKField = gtx.Field[gtx.Dims[I, J, K], gtx.float64]\n",
    "\n",
    "@gtx.field_operator\n",
    "def lap_gt4py(in_field: IJKField) -> IJKField:\n",
    "    lap_field = (\n",
    "        -4.0 * in_field\n",
    "        + in_field(I - 1)\n",
    "        + in_field(I + 1)\n",
    "        + in_field(J - 1)\n",
    "        + in_field(J + 1)\n",
    "    )\n",
    "    return lap_field\n",
    "\n",
    "@gtx.program\n",
    "def lap_gt4py_program(\n",
    "    in_field: IJKField,\n",
    "    nx: gtx.int32,\n",
    "    ny: gtx.int32,\n",
    "    nz: gtx.int32,\n",
    "    out: IJKField,\n",
    ") -> None:\n",
    "    lap_gt4py(in_field, out=out, domain={I: (0, nx), J: (0, ny), K: (0, nz)})\n",
    "\n",
    "phi = gtx.as_field(field_domain, np.random.rand(*field_domain.shape), allocator=backend)\n",
    "lap = gtx.zeros(field_domain, dtype=gtx.float64, allocator=backend)\n",
    "\n",
    "lap_gt4py_stencil = lap_gt4py_program.with_backend(backend)\n",
    "\n",
    "lap_gt4py_stencil(\n",
    "    in_field=phi,\n",
    "    nx = shape[0],\n",
    "    ny = shape[1],\n",
    "    nz = shape[2],\n",
    "    out=lap,\n",
    ")\n",
    "\n",
    "%timeit lap_gt4py_stencil(in_field=phi, nx=shape[0], ny=shape[1], nz=shape[2], out=lap)\n"
   ]
  },
  {
   "cell_type": "code",
   "execution_count": null,
   "metadata": {},
   "outputs": [],
   "source": []
  }
 ],
 "metadata": {
  "kernelspec": {
   "display_name": ".venv",
   "language": "python",
   "name": "python3"
  },
  "language_info": {
   "codemirror_mode": {
    "name": "ipython",
    "version": 3
   },
   "file_extension": ".py",
   "mimetype": "text/x-python",
   "name": "python",
   "nbconvert_exporter": "python",
   "pygments_lexer": "ipython3",
   "version": "3.11.11"
  }
 },
 "nbformat": 4,
 "nbformat_minor": 4
}
