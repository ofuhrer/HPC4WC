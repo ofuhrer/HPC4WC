{
 "cells": [
  {
   "cell_type": "markdown",
   "metadata": {},
   "source": [
    "# GT4Py Hands-on"
   ]
  },
  {
   "cell_type": "markdown",
   "metadata": {},
   "source": [
    "This notebook will guide you towards a fully (or at least partially) GT4Py-based implementation of the `stencil2d.py` program we saw on Day1. The module `stencil2d-gt4py-v0.py` contains the backbone of the final code. Holes which need to be filled-in with your inputs are marked as `# TODO`. Here we go through the porting process step-by-step. You will have the opportunity to implement all missing parts in isolation and test them stand-alone. Once you complete all the mandatory tasks successfully, you can copy-and-paste the relevant cells of this notebook into `stencil2d-gt4py-v0.py` to have a running GT4Py program. To keep our lives simple, we shall confine our attention to only two CPU backends of GT4Py: `numpy` and `gtx86`."
   ]
  },
  {
   "cell_type": "code",
   "execution_count": null,
   "metadata": {},
   "outputs": [],
   "source": [
    "import gt4py as gt\n",
    "from gt4py import gtscript\n",
    "import numpy as np"
   ]
  },
  {
   "cell_type": "markdown",
   "metadata": {},
   "source": [
    "## Stencil computations"
   ]
  },
  {
   "cell_type": "markdown",
   "metadata": {},
   "source": [
    "Let's start by implementing the 5-points Laplacian stencil \n",
    "```\n",
    "lap_field[i, j, k] = - 4 * in_field[  i,   j, k] \n",
    "                     +     in_field[i-1,   j, k] \n",
    "                     +     in_field[i+1,   j, k] \n",
    "                     +     in_field[  i, j-1, k] \n",
    "                     +     in_field[  i, j+1, k]\n",
    "```\n",
    "as a GTScript subroutine."
   ]
  },
  {
   "cell_type": "markdown",
   "metadata": {},
   "source": [
    "<div class=\"alert alert-block alert-info\">\n",
    "<b>Now it's your turn...</b><br>\n",
    "<b>1.</b> Fill the GTScript subroutine <tt>laplacian</tt> whose signature is already provided. <br>\n",
    "</div>"
   ]
  },
  {
   "cell_type": "code",
   "execution_count": null,
   "metadata": {},
   "outputs": [],
   "source": [
    "@gtscript.function\n",
    "def laplacian(in_field):\n",
    "    # TODO"
   ]
  },
  {
   "cell_type": "markdown",
   "metadata": {},
   "source": [
    "We now introduce another level of abstraction with respect to `stencil2d.py`. Leveraging the `laplacian` subroutine we implement a stencil which applies the fourth-order diffusion operator\n",
    "\n",
    "\\begin{equation}\n",
    "    \\frac{\\partial \\phi}{\\partial t} = - \\alpha_4 \\, \\Delta_h \\, (\\Delta_h \\phi) \\, .\n",
    "\\end{equation}"
   ]
  },
  {
   "cell_type": "markdown",
   "metadata": {},
   "source": [
    "<div class=\"alert alert-block alert-info\">\n",
    "<b>Now it's your turn...</b><br>\n",
    "<b>2.</b> Write a GTScript function called <tt>diffusion_defs</tt> which performs the same operations as the following lines in <tt>stencil2d.py</tt>:<br>\n",
    "<code>laplacian( in_field, tmp_field, num_halo=num_halo, extend=1 )\n",
    " laplacian( tmp_field, out_field, num_halo=num_halo, extend=0 )\n",
    " out_field[:, num_halo:-num_halo, num_halo:-num_halo] = \\\n",
    "     in_field[:, num_halo:-num_halo, num_halo:-num_halo] \\\n",
    "     - alpha * out_field[:, num_halo:-num_halo, num_halo:-num_halo] </code><br>\n",
    "The function receives the input field <tt>in_field</tt>, the output field <tt>out_field</tt> and the scalar coefficient <tt>alpha</tt>. Assume grid point values are stored as <tt>float</tt>s. Do import and call the <tt>laplacian</tt> subroutine.<br>\n",
    "<b>3.</b> Compile the stencil using <tt>gtscript.stencil()</tt>. Recall to pass the <tt>laplacian</tt> subroutine as an external symbol. Make sure that the code compiles fine with both the <tt>\"numpy\"</tt> and <tt>\"gtx86\"</tt> backends. Remember to re-compile the stencil every time you modify its definition function!<br>\n",
    "</div>"
   ]
  },
  {
   "cell_type": "code",
   "execution_count": null,
   "metadata": {},
   "outputs": [],
   "source": [
    "def diffusion_defs(\n",
    "    in_field: gtscript.Field[float], out_field: gtscript.Field[float], *, alpha: float\n",
    "):\n",
    "    # TODO: write the stencil definition"
   ]
  },
  {
   "cell_type": "code",
   "execution_count": null,
   "metadata": {},
   "outputs": [],
   "source": [
    "diffusion_numpy = # TODO: compile with the numpy backend"
   ]
  },
  {
   "cell_type": "code",
   "execution_count": null,
   "metadata": {},
   "outputs": [],
   "source": [
    "diffusion_gtx86 = # TODO: compile with the gtx86 backend"
   ]
  },
  {
   "cell_type": "markdown",
   "metadata": {},
   "source": [
    "## Updating the boundary region"
   ]
  },
  {
   "cell_type": "markdown",
   "metadata": {},
   "source": [
    "Due to current limitations in the storage design, if we wish to run our code on GPUs the boundary conditions should be enforced using GT4Py. However the implementation of the halo update using the DSL is rather cumbersome. So here we restrict ourselves to a plain Python version. A GT4Py version will be provided at the end of the course."
   ]
  },
  {
   "cell_type": "markdown",
   "metadata": {},
   "source": [
    "<div class=\"alert alert-block alert-info\">\n",
    "<b>Now it's your turn...</b><br>\n",
    "<b>4.</b> The <tt>update_halo()</tt> function receives (i) the GT4Py storage on which periodicity should be imposed and (ii) the width of the halo. Write the body of the function treating the input field as a regular <tt>numpy.ndarray</tt>. Recall that the axes order is <tt>I-J-K</tt>, while in <tt>stencil2d.py</tt> we adopted the Fortran-ish <tt>K-J-I</tt> order. Validate your code using <tt>test_update_halo()</tt>. <br>\n",
    "</div>"
   ]
  },
  {
   "cell_type": "code",
   "execution_count": null,
   "metadata": {},
   "outputs": [],
   "source": [
    "def update_halo(field, num_halo):\n",
    "    # TODO: perform the halo update using array programming notation"
   ]
  },
  {
   "cell_type": "code",
   "execution_count": null,
   "metadata": {},
   "outputs": [],
   "source": [
    "def test_update_halo(f):\n",
    "    data = np.load(\"baseline_data/update_halo.npz\")\n",
    "    field = data[\"in_field\"]\n",
    "    val = data[\"out_field\"]\n",
    "    num_halo = data[\"num_halo\"]\n",
    "    \n",
    "    f(field, num_halo)\n",
    "    \n",
    "    if np.allclose(field, val):\n",
    "        print(\"Unit test for update_halo(): PASSED!\")\n",
    "    else:\n",
    "        print(\"Unit test for update_halo(): FAILED.\")"
   ]
  },
  {
   "cell_type": "code",
   "execution_count": null,
   "metadata": {},
   "outputs": [],
   "source": [
    "test_update_halo(update_halo)"
   ]
  },
  {
   "cell_type": "markdown",
   "metadata": {},
   "source": [
    "## Time integration"
   ]
  },
  {
   "cell_type": "markdown",
   "metadata": {},
   "source": [
    "The time marching procedure is carried out by the `apply_diffusion` function, whose signature reads:\n",
    "\n",
    "```\n",
    "def apply_diffusion(diffusion_stencil, in_field, out_field, alpha, num_halo, num_iter=1):\n",
    "```\n",
    "\n",
    "Here `diffusion_stencil` is the stencil object which applies the diffusion operator, `in_field` and `out_field` are the input and output fields, `alpha` is the diffusion coefficient, `num_halo` is the number of halo points, and `num_iter` is the number of iterations. Each iteration consists of three steps:\n",
    "\n",
    "1. Updating the halo region of the input field `in_field`;\n",
    "2. Running the `diffusion` stencil on `in_field` and store the results in `out_field`;\n",
    "3. Updating the halo region of the output field `out_field` if it is the last iteration, otherwise swapping `in_field` and `out_field`."
   ]
  },
  {
   "cell_type": "markdown",
   "metadata": {},
   "source": [
    "<div class=\"alert alert-block alert-info\">\n",
    "<b>Now it's your turn...</b><br>\n",
    "    <b>5.</b> Determine the <tt>origin</tt> of the computation domain and its extent <tt>domain</tt> based on <tt>num_halo</tt> and the grid size. Hint: use the <tt>shape</tt> attribute of a GT4Py storage to retrieve its size.<br>\n",
    "    <b>6.</b> Add the call to <tt>diffusion_stencil</tt>. <br>\n",
    "</div>"
   ]
  },
  {
   "cell_type": "code",
   "execution_count": null,
   "metadata": {},
   "outputs": [],
   "source": [
    "def apply_diffusion(diffusion_stencil, in_field, out_field, alpha, num_halo, num_iter=1):\n",
    "    # origin and extent of the computation domain\n",
    "    origin = # TODO\n",
    "    domain = # TODO\n",
    "    \n",
    "    for n in range(num_iter):\n",
    "        # halo update\n",
    "        update_halo(copy_stencil, in_field, num_halo)\n",
    "\n",
    "        # TODO: run the stencil\n",
    "\n",
    "        if n < num_iter - 1:\n",
    "            # swap input and output fields\n",
    "            in_field, out_field = out_field, in_field\n",
    "        else:\n",
    "            # halo update\n",
    "            update_halo(copy_stencil, out_field, num_halo)"
   ]
  },
  {
   "cell_type": "markdown",
   "metadata": {},
   "source": [
    "## Input and output fields"
   ]
  },
  {
   "cell_type": "markdown",
   "metadata": {},
   "source": [
    "We are almost done. The last mile concerns the storages which contain the input and output fields. We explained in `03-GT4Py-concepts.ipynb` that stencil objects must be fed with customed arrays created through one of the utilities provided by the module `gt4py.storage`. Data is formatted in memory so to get the maximum performance out of the target architecture. This is does not affect the user interface, which is hardware-agnostic."
   ]
  },
  {
   "cell_type": "markdown",
   "metadata": {},
   "source": [
    "<div class=\"alert alert-block alert-info\">\n",
    "<b>Now it's your turn...</b><br>\n",
    "    <b>7.</b> Based on what we said in <tt>03-GT4Py-concepts.ipynb</tt> which is the most appropriate default origin for the storages? Assume <tt>num_halo = 2</tt>.\n",
    "    <b>8.</b> Convert the NumPy array <tt>in_field_np</tt> into a GT4Py storage called <tt>in_field</tt> using <tt>gt4py.storage.from_array()</tt>. Use the <tt>gtx86</tt> backend.<br>\n",
    "    <b>9.</b> Allocate an empty storage <tt>out_field</tt> to hold the output field. <tt>out_field</tt> must have the same shape of <tt>in_field</tt>. Pick the same backend as for <tt>in_field</tt>.<br>\n",
    "    <b>10.</b> Use the just allocated fields to test <tt>diffusion_gtx86</tt> via <tt>test_diffusion()</tt>.\n",
    "</div>"
   ]
  },
  {
   "cell_type": "code",
   "execution_count": null,
   "metadata": {},
   "outputs": [],
   "source": [
    "nx = 128\n",
    "ny = 128\n",
    "nz = 64\n",
    "num_halo = 2\n",
    "\n",
    "default_origin = # TODO\n",
    "\n",
    "# numpy array\n",
    "in_field_np = np.zeros((nx + 2 * num_halo, ny + 2 * num_halo, nz), dtype=float)\n",
    "in_field_np[\n",
    "    num_halo + nx // 4 : num_halo + 3 * nx // 4,\n",
    "    num_halo + ny // 4 : num_halo + 3 * ny // 4,\n",
    "    nz // 4 : 3 * nz // 4,\n",
    "] = 1.0\n",
    "\n",
    "in_field = # TODO: gt4py storage collecting the input values\n",
    "\n",
    "out_field = # TODO: empty gt4py storage which will collect the output values"
   ]
  },
  {
   "cell_type": "code",
   "execution_count": null,
   "metadata": {},
   "outputs": [],
   "source": [
    "def test_diffusion(stencil_object, in_field, out_field):\n",
    "    phi = np.asarray(in_field)\n",
    "    tmp1 = np.empty_like(phi)\n",
    "    tmp2 = np.empty_like(phi)\n",
    "    out = np.empty_like(phi)\n",
    "    \n",
    "    tmp1[1:-1, 1:-1] = (\n",
    "        phi[2:, 1:-1] \n",
    "        + phi[:-2, 1:-1] \n",
    "        + phi[1:-1, 2:] \n",
    "        + phi[1:-1, :-2] \n",
    "        - 4. * phi[1:-1, 1:-1]\n",
    "    )\n",
    "    tmp2[2:-2, 2:-2] = (\n",
    "        tmp1[3:-1, 2:-2] \n",
    "        + tmp1[1:-3, 2:-2] \n",
    "        + tmp1[2:-2, 3:-1] \n",
    "        + tmp1[2:-2, 1:-3] \n",
    "        - 4. * tmp1[2:-2, 2:-2]\n",
    "    )\n",
    "    out[2:-2, 2:-2] = phi[2:-2, 2:-2] - 2.0 * tmp2[2:-2, 2:-2]\n",
    "    \n",
    "    stencil_object(in_field=in_field, out_field=out_field, alpha=2.0)\n",
    "    \n",
    "    if np.allclose(out_field, out):\n",
    "        print(f\"Unit test for diffusion_{stencil_object.backend}: PASSED!\")\n",
    "    else:\n",
    "        print(f\"Unit test for diffusion_{stencil_object.backend}: FAILED.\")"
   ]
  },
  {
   "cell_type": "code",
   "execution_count": null,
   "metadata": {},
   "outputs": [],
   "source": [
    "test_diffusion(diffusion_gtx86, in_field, out_field)"
   ]
  },
  {
   "cell_type": "markdown",
   "metadata": {},
   "source": [
    "## Running"
   ]
  },
  {
   "cell_type": "markdown",
   "metadata": {},
   "source": [
    "All right! We are now ready to move onto `stencil2d-gt4py-v0.py`."
   ]
  },
  {
   "cell_type": "markdown",
   "metadata": {},
   "source": [
    "<div class=\"alert alert-block alert-info\">\n",
    "<b>Now it's your turn...</b><br>\n",
    "    <b>11.</b> Take some time to understand the structure of the code and realize which parts of this notebook can be transfered as they are (or upon little modifications) into the script.<br>\n",
    "    <b>12.</b> Fill the holes marked with <tt># TODO</tt> by copy-and-paste from this notebook.\n",
    "</div>"
   ]
  },
  {
   "cell_type": "markdown",
   "metadata": {},
   "source": [
    "Let's run `stencil2d-gt4py-v0.py` and check that the stencil compiles fine with both backends:"
   ]
  },
  {
   "cell_type": "code",
   "execution_count": null,
   "metadata": {},
   "outputs": [],
   "source": [
    "!python stencil2d-gt4py-v0.py --nx=32 --ny=32 --nz=32 --num_iter=1024 --backend=numpy"
   ]
  },
  {
   "cell_type": "code",
   "execution_count": null,
   "metadata": {},
   "outputs": [],
   "source": [
    "!python stencil2d-gt4py-v0.py --nx=32 --ny=32 --nz=32 --num_iter=1024 --backend=gtx86"
   ]
  },
  {
   "cell_type": "markdown",
   "metadata": {},
   "source": [
    "<div class=\"alert alert-block alert-info\">\n",
    "<b>Now it's your turn...</b><br>\n",
    "    <b>13.</b> From a terminal, execute the <tt>validation.sh</tt> Bash script to validate the numerics of your code. This script takes two command line arguments: the version tag of the programm (here <code>v0</code>) and the desired backend. <br>\n",
    "    <b>14 (Bonus).</b> Run both <tt>stencil2d.py</tt> and <tt>stencil2d-gt4py-v0.py</tt> with <code>--nx=128 --ny=128 --nz=64 --num_iter=1024</code>. How do performances compare for the different CPU backends of GT4Py? <br>\n",
    "    <b>15 (Bonus).</b> Increase the grid size to <code>nx x ny x nz = 256 x 128 x 64</code> and then <code>nx x ny x nz = 256 x 256 x 64</code>. Speculate how the speed-up provided by the <tt>gtx86</tt> backend varies with the number of grid points.\n",
    "</div>"
   ]
  },
  {
   "cell_type": "markdown",
   "metadata": {},
   "source": [
    "## Further optimizations"
   ]
  },
  {
   "cell_type": "markdown",
   "metadata": {},
   "source": [
    "Let's try to apply a couple of optimizations to our code. We shall proceed along the lines of what we did in Day1 on `stencil2d.F90`. All the following tasks are optional and involve the `gtx86` backend only."
   ]
  },
  {
   "cell_type": "markdown",
   "metadata": {},
   "source": [
    "<div class=\"alert alert-block alert-info\">\n",
    "<b>Now it's your turn...</b><br>\n",
    "    <b>16 (Bonus).</b> Make a copy of <tt>stencil2d-gt4py-v0.py</tt> and name it <tt>stencil2d-gt4py-v1.py</tt>. Inside <tt>diffusion_defs</tt> inline the subroutine <tt>laplacian</tt> by replacing the calls to the function with its body. Use the <tt>validation.sh</tt> script to validate your code. Which is the performance gain with respect to <tt>stencil2d-gt4py-v0.py</tt>? Base your answer on the timings measured at different grid sizes. <br>\n",
    "    <b>17 (Bonus).</b> Here we go for a more aggressive optimization. Make a copy of <tt>stencil2d-gt4py-v1.py</tt> and name it <tt>stencil2d-gt4py-v2.py</tt>. Fuse all stages (i.e. statements) inside <tt>diffusion_defs</tt> into a single stage, as done in <code>day1/.solutions/stencil2d-inlining_v2.F90</code>. Modify the function signature by the replacing <tt>alpha</tt> with <tt>a1 = - alpha</tt>, <tt>a2 = - 2 * alpha</tt>, <tt>a8 = 8 * alpha</tt> and <tt>a20 = 1 - 20 * alpha</tt>. Adapt the stencil call inside <tt>apply_diffusion</tt> accordingly. Validate your code using <tt>validation.sh</tt>. Can you appreciate any sensible improvement in the performance? In your opinion, is the stencil code still understandable and intuitive as in <tt>stencil2d-gt4py-v0.py</tt>? <br>\n",
    "</div>"
   ]
  }
 ],
 "metadata": {
  "kernelspec": {
   "display_name": "HPC4WC_kernel",
   "language": "python",
   "name": "hpc4wc_kernel"
  },
  "language_info": {
   "codemirror_mode": {
    "name": "ipython",
    "version": 3
   },
   "file_extension": ".py",
   "mimetype": "text/x-python",
   "name": "python",
   "nbconvert_exporter": "python",
   "pygments_lexer": "ipython3",
   "version": "3.6.5"
  }
 },
 "nbformat": 4,
 "nbformat_minor": 4
}
