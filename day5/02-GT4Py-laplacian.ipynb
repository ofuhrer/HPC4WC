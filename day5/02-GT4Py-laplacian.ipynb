{
 "cells": [
  {
   "cell_type": "markdown",
   "metadata": {},
   "source": [
    "# Why GT4Py? (Part II)"
   ]
  },
  {
   "cell_type": "markdown",
   "metadata": {},
   "source": [
    "This notebook compares a NumPy, CuPy and GT4Py implementation of the Laplacian stencil\n",
    "```\n",
    "lap[i, j, k] = - 4 * phi[  i,   j, k] \n",
    "               +     phi[i-1,   j, k] \n",
    "               +     phi[i+1,   j, k] \n",
    "               +     phi[  i, j-1, k] \n",
    "               +     phi[  i, j+1, k]\n",
    "```"
   ]
  },
  {
   "cell_type": "markdown",
   "metadata": {},
   "source": [
    "## NumPy"
   ]
  },
  {
   "cell_type": "code",
   "execution_count": null,
   "metadata": {},
   "outputs": [],
   "source": [
    "import numpy as np\n",
    "\n",
    "shape = (512, 512, 128)\n",
    "\n",
    "def lap_numpy(phi, lap):\n",
    "    lap[1:-1, 1:-1] = (\n",
    "        - 4. * phi[1:-1, 1:-1]\n",
    "        +      phi[ :-2, 1:-1]\n",
    "        +      phi[  2:, 1:-1]\n",
    "        +      phi[1:-1,  :-2]\n",
    "        +      phi[1:-1,   2:]\n",
    "    )\n",
    "    \n",
    "phi = np.random.rand(*shape)\n",
    "lap = np.empty_like(phi)\n",
    "\n",
    "%timeit lap_numpy(phi, lap)"
   ]
  },
  {
   "cell_type": "markdown",
   "metadata": {},
   "source": [
    "## CuPy - C-style"
   ]
  },
  {
   "cell_type": "code",
   "execution_count": null,
   "metadata": {},
   "outputs": [],
   "source": [
    "import cupy as cp\n",
    "\n",
    "shape = (512, 512, 128)\n",
    "\n",
    "def lap_cupy_c(phi, lap):\n",
    "    lap[1:-1, 1:-1] = (\n",
    "        - 4. * phi[1:-1, 1:-1]\n",
    "        +      phi[ :-2, 1:-1]\n",
    "        +      phi[  2:, 1:-1]\n",
    "        +      phi[1:-1,  :-2]\n",
    "        +      phi[1:-1,   2:]\n",
    "    )\n",
    "    \n",
    "phi = cp.random.rand(*shape)\n",
    "lap = cp.empty_like(phi)\n",
    "\n",
    "%timeit lap_cupy_c(phi, lap)"
   ]
  },
  {
   "cell_type": "markdown",
   "metadata": {},
   "source": [
    "## CuPy - F-style"
   ]
  },
  {
   "cell_type": "code",
   "execution_count": null,
   "metadata": {},
   "outputs": [],
   "source": [
    "import cupy as cp\n",
    "\n",
    "shape = (128, 512, 512)\n",
    "\n",
    "def lap_cupy_f(phi, lap):\n",
    "    lap[:, 1:-1, 1:-1] = (\n",
    "        - 4. * phi[:, 1:-1, 1:-1]\n",
    "        +      phi[:, 1:-1,  :-2]\n",
    "        +      phi[:, 1:-1,   2:]\n",
    "        +      phi[:,  :-2, 1:-1]\n",
    "        +      phi[:,   2:, 1:-1]\n",
    "    )\n",
    "    \n",
    "phi = cp.random.rand(*shape)\n",
    "lap = cp.empty_like(phi)\n",
    "\n",
    "%timeit lap_cupy_f(phi, lap)"
   ]
  },
  {
   "cell_type": "markdown",
   "metadata": {},
   "source": [
    "## GT4Py"
   ]
  },
  {
   "cell_type": "code",
   "execution_count": null,
   "metadata": {},
   "outputs": [],
   "source": [
    "import gt4py as gt\n",
    "from gt4py import gtscript\n",
    "import numpy as np\n",
    "\n",
    "backend = \"gtcuda\"\n",
    "shape = (512, 512, 128)\n",
    "\n",
    "@gtscript.stencil(backend=backend, verbose=True)\n",
    "def lap_gt4py(phi: gtscript.Field[float], lap: gtscript.Field[float]):\n",
    "    with computation(PARALLEL), interval(...):\n",
    "        lap = (\n",
    "            - 4. * phi[ 0,  0, 0]\n",
    "            +      phi[-1,  0, 0]\n",
    "            +      phi[+1,  0, 0]\n",
    "            +      phi[ 0, -1, 0]\n",
    "            +      phi[ 0, +1, 0]\n",
    "        )\n",
    "        \n",
    "phi_np = np.random.rand(*shape)\n",
    "phi = gt.storage.from_array(phi_np, backend, (1, 1, 0))\n",
    "lap = gt.storage.empty(backend, (1, 1, 0), shape, float)\n",
    "\n",
    "domain = (shape[0] - 2, shape[1] - 2, shape[2])\n",
    "\n",
    "# copy data to GPU memory\n",
    "lap_gt4py(phi=phi, lap=lap, origin=(1, 1, 0), domain=domain)\n",
    "\n",
    "%timeit lap_gt4py(phi=phi, lap=lap, origin=(1, 1, 0), domain=domain)"
   ]
  }
 ],
 "metadata": {
  "kernelspec": {
   "display_name": "HPC4WC_kernel",
   "language": "python",
   "name": "hpc4wc_kernel"
  },
  "language_info": {
   "codemirror_mode": {
    "name": "ipython",
    "version": 3
   },
   "file_extension": ".py",
   "mimetype": "text/x-python",
   "name": "python",
   "nbconvert_exporter": "python",
   "pygments_lexer": "ipython3",
   "version": "3.6.5"
  }
 },
 "nbformat": 4,
 "nbformat_minor": 4
}
